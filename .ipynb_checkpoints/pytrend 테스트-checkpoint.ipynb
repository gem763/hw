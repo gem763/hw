{
 "cells": [
  {
   "cell_type": "code",
   "execution_count": 1,
   "metadata": {},
   "outputs": [],
   "source": [
    "from pytrends.request import TrendReq\n",
    "import yfinance as yf\n",
    "pytrends = TrendReq()"
   ]
  },
  {
   "cell_type": "code",
   "execution_count": 2,
   "metadata": {},
   "outputs": [],
   "source": [
    "symbol = 'TSLA'"
   ]
  },
  {
   "cell_type": "code",
   "execution_count": 4,
   "metadata": {},
   "outputs": [],
   "source": [
    "kw_list = [symbol]\n",
    "timeframe = 'today 12-m'\n",
    "# timeframe = '2018-06-21 2020-06-14'\n",
    "pytrends.build_payload(kw_list, timeframe=timeframe)"
   ]
  },
  {
   "cell_type": "code",
   "execution_count": 5,
   "metadata": {},
   "outputs": [],
   "source": [
    "resp = pytrends.interest_over_time()"
   ]
  },
  {
   "cell_type": "code",
   "execution_count": 6,
   "metadata": {},
   "outputs": [
    {
     "data": {
      "text/plain": [
       "<matplotlib.axes._subplots.AxesSubplot at 0x21d2c91f5c8>"
      ]
     },
     "execution_count": 6,
     "metadata": {},
     "output_type": "execute_result"
    },
    {
     "data": {
      "image/png": "[encoded data removed]",
      "text/plain": [
       "<Figure size 432x288 with 1 Axes>"
      ]
     },
     "metadata": {
      "needs_background": "light"
     },
     "output_type": "display_data"
    }
   ],
   "source": [
    "resp.TSLA.plot()"
   ]
  },
  {
   "cell_type": "code",
   "execution_count": 7,
   "metadata": {
    "scrolled": true
   },
   "outputs": [
    {
     "data": {
      "text/plain": [
       "date\n",
       "2019-06-30     17\n",
       "2019-07-07     14\n",
       "2019-07-14     14\n",
       "2019-07-21     23\n",
       "2019-07-28     14\n",
       "2019-08-04     11\n",
       "2019-08-11     11\n",
       "2019-08-18     10\n",
       "2019-08-25     10\n",
       "2019-09-01      8\n",
       "2019-09-08     10\n",
       "2019-09-15      9\n",
       "2019-09-22     10\n",
       "2019-09-29     11\n",
       "2019-10-06      9\n",
       "2019-10-13     10\n",
       "2019-10-20     24\n",
       "2019-10-27     15\n",
       "2019-11-03     12\n",
       "2019-11-10     13\n",
       "2019-11-17     19\n",
       "2019-11-24     12\n",
       "2019-12-01     10\n",
       "2019-12-08     11\n",
       "2019-12-15     19\n",
       "2019-12-22     19\n",
       "2019-12-29     18\n",
       "2020-01-05     27\n",
       "2020-01-12     32\n",
       "2020-01-19     29\n",
       "2020-01-26     40\n",
       "2020-02-02    100\n",
       "2020-02-09     46\n",
       "2020-02-16     41\n",
       "2020-02-23     46\n",
       "2020-03-01     36\n",
       "2020-03-08     42\n",
       "2020-03-15     42\n",
       "2020-03-22     31\n",
       "2020-03-29     27\n",
       "2020-04-05     21\n",
       "2020-04-12     32\n",
       "2020-04-19     24\n",
       "2020-04-26     42\n",
       "2020-05-03     28\n",
       "2020-05-10     26\n",
       "2020-05-17     18\n",
       "2020-05-24     16\n",
       "2020-05-31     23\n",
       "2020-06-07     34\n",
       "2020-06-14     23\n",
       "2020-06-21     21\n",
       "Name: TSLA, dtype: int32"
      ]
     },
     "execution_count": 7,
     "metadata": {},
     "output_type": "execute_result"
    }
   ],
   "source": [
    "resp.TSLA"
   ]
  },
  {
   "cell_type": "code",
   "execution_count": 9,
   "metadata": {},
   "outputs": [
    {
     "data": {
      "text/plain": [
       "52"
      ]
     },
     "execution_count": 9,
     "metadata": {},
     "output_type": "execute_result"
    }
   ],
   "source": [
    "len(resp.TSLA)"
   ]
  },
  {
   "cell_type": "code",
   "execution_count": null,
   "metadata": {},
   "outputs": [],
   "source": [
    "ytd = yf.download([symbol], start='2019-12-28', end='2020-05-31', thread=True)['Adj Close']"
   ]
  },
  {
   "cell_type": "code",
   "execution_count": null,
   "metadata": {},
   "outputs": [],
   "source": []
  },
  {
   "cell_type": "code",
   "execution_count": null,
   "metadata": {},
   "outputs": [],
   "source": []
  },
  {
   "cell_type": "code",
   "execution_count": null,
   "metadata": {},
   "outputs": [],
   "source": []
  },
  {
   "cell_type": "code",
   "execution_count": null,
   "metadata": {},
   "outputs": [],
   "source": []
  }
 ],
 "metadata": {
  "kernelspec": {
   "display_name": "Python 3",
   "language": "python",
   "name": "python3"
  },
  "language_info": {
   "codemirror_mode": {
    "name": "ipython",
    "version": 3
   },
   "file_extension": ".py",
   "mimetype": "text/x-python",
   "name": "python",
   "nbconvert_exporter": "python",
   "pygments_lexer": "ipython3",
   "version": "3.7.6"
  }
 },
 "nbformat": 4,
 "nbformat_minor": 4
}
