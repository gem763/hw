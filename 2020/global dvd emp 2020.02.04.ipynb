{
 "cells": [
  {
   "cell_type": "code",
   "execution_count": 1,
   "metadata": {},
   "outputs": [],
   "source": [
    "%matplotlib inline\n",
    "\n",
    "import pandas as pd\n",
    "import scipy as sp\n",
    "from scipy.optimize import fmin_slsqp\n",
    "import numpy as np\n",
    "from IPython.core.debugger import set_trace\n",
    "from tqdm import tqdm_notebook"
   ]
  },
  {
   "cell_type": "markdown",
   "metadata": {},
   "source": [
    "# 초기화"
   ]
  },
  {
   "cell_type": "code",
   "execution_count": 2,
   "metadata": {},
   "outputs": [],
   "source": [
    "xl = 'data_20191231.xlsx'"
   ]
  },
  {
   "cell_type": "code",
   "execution_count": 3,
   "metadata": {},
   "outputs": [],
   "source": [
    "univ = pd.read_excel(xl, sheet_name='category'); univ;"
   ]
  },
  {
   "cell_type": "code",
   "execution_count": 4,
   "metadata": {},
   "outputs": [
    {
     "data": {
      "text/plain": [
       "array(['BM', 'US', 'Global', 'EM', 'DM', 'UST'], dtype=object)"
      ]
     },
     "execution_count": 4,
     "metadata": {},
     "output_type": "execute_result"
    }
   ],
   "source": [
    "regions = univ.region.unique(); regions"
   ]
  },
  {
   "cell_type": "code",
   "execution_count": 5,
   "metadata": {},
   "outputs": [
    {
     "data": {
      "text/plain": [
       "array(['BM', 'US_HD', 'US_HD_LV', 'US_DG', 'US_DG_QL', 'US_PS', 'Global',\n",
       "       'EM', 'DM', 'UST'], dtype=object)"
      ]
     },
     "execution_count": 5,
     "metadata": {},
     "output_type": "execute_result"
    }
   ],
   "source": [
    "cats = univ.category.unique(); cats"
   ]
  },
  {
   "cell_type": "code",
   "execution_count": 6,
   "metadata": {
    "scrolled": true
   },
   "outputs": [],
   "source": [
    "prices = pd.read_excel(xl, sheet_name='price', index_col=0)\n",
    "rtns = np.log(prices).diff(); rtns;"
   ]
  },
  {
   "cell_type": "code",
   "execution_count": 7,
   "metadata": {},
   "outputs": [],
   "source": [
    "dvds = pd.read_excel(xl, sheet_name='dvd', index_col=0); dvds;"
   ]
  },
  {
   "cell_type": "code",
   "execution_count": 8,
   "metadata": {},
   "outputs": [],
   "source": [
    "prices_bm = pd.read_excel(xl, sheet_name='bm', index_col=0)\n",
    "rtns_bm = np.log(prices_bm).diff(); rtns_bm;"
   ]
  },
  {
   "cell_type": "markdown",
   "metadata": {},
   "source": [
    "# 초기전략: 최적화만 하는 경우"
   ]
  },
  {
   "cell_type": "code",
   "execution_count": 9,
   "metadata": {
    "scrolled": false
   },
   "outputs": [
    {
     "data": {
      "application/vnd.jupyter.widget-view+json": {
       "model_id": "ed335876142e47df947a7d881ba1ac57",
       "version_major": 2,
       "version_minor": 0
      },
      "text/plain": [
       "HBox(children=(IntProgress(value=0, max=109), HTML(value='')))"
      ]
     },
     "metadata": {},
     "output_type": "display_data"
    },
    {
     "name": "stdout",
     "output_type": "stream",
     "text": [
      "\n"
     ]
    }
   ],
   "source": [
    "'''\n",
    "변수설정\n",
    "'''\n",
    "n_dates = len(rtns)\n",
    "n_cov = 12             # cov 계산 개월수\n",
    "\n",
    "bm_w_max = 0.30\n",
    "w_max = 0.10           # 종목 최대비중\n",
    "w_us_min = 0.4         # 미국 최소비중\n",
    "w_us_max = 0.8         # 미국 최대비중\n",
    "w_ps_max = 0.1         # 우선주 최대비중\n",
    "dvd_min = 3          # 포트폴리오 최소 배당수익률\n",
    "te_limit_max = 0.05\n",
    "te_limit_min = 0.01\n",
    "\n",
    "n = len(rtns.columns)  # 종목수\n",
    "dates_rng = range(n_cov, n_dates)\n",
    "weights = np.zeros((len(dates_rng), n))\n",
    "result = {}\n",
    "\n",
    "\n",
    "def covar(rt):\n",
    "    _cov = rt.cov(min_periods=n_cov/2)\n",
    "    _exc = _cov.iloc[0].isna()\n",
    "    return _cov.fillna(0), _exc\n",
    "\n",
    "\n",
    "for i in tqdm_notebook(dates_rng[:]):\n",
    "    date = rtns.index[i]\n",
    "    \n",
    "    _rtns = rtns.iloc[i-11:i+1]\n",
    "    cov, exc = covar(_rtns)\n",
    "    dvd = dvds.iloc[i]\n",
    "    \n",
    "    investable = 1 - (dvd.isna() | _rtns.iloc[-1].isna() | exc)\n",
    "    investable.iloc[-2:] = 0\n",
    "    \n",
    "    w_p0 = (1/_rtns.std()) * investable\n",
    "    w_p0 = w_p0.fillna(0) / w_p0.sum()\n",
    "\n",
    "    _w_max = w_max*investable\n",
    "    #_w_max = w_p0*3\n",
    "    #_w_max[_w_max>w_max] = w_max\n",
    "    _w_max.iloc[0] = bm_w_max\n",
    "    bounds = list(zip(np.zeros(n), _w_max)) \n",
    "    \n",
    "\n",
    "    def obj1(w_p):\n",
    "        #return vol(w_p)\n",
    "        return -sharpe(w_p)\n",
    "        #return -ir(w_p)\n",
    "        #return -rtn_projection(w_p)\n",
    "    \n",
    "    def obj2(w_p):\n",
    "        return vol(w_p)\n",
    "        #return -rtn_projection(w_p)\n",
    "    \n",
    "    \n",
    "    def sharpe(w_p):\n",
    "        _rp = rtn_projection(w_p)\n",
    "        _vol = vol(w_p)\n",
    "        return _rp / _vol\n",
    "\n",
    "    def ir(w_p):\n",
    "        _rp = rtn_projection(w_p, rel=True)\n",
    "        _te = te(w_p)\n",
    "        return _rp / _te\n",
    "    \n",
    "    \n",
    "    def rtn_projection(w_p, rel=False):\n",
    "        _rtns_sum = _rtns.iloc[:-1].sum().fillna(0)\n",
    "        _proj = _rtns_sum @ w_p\n",
    "        \n",
    "        if rel:\n",
    "            return _proj - _rtns_sum[0]\n",
    "        else:\n",
    "            return _proj\n",
    "        \n",
    "    \n",
    "    def vol(w_p, te=False):\n",
    "        ww = w_p.copy()\n",
    "        if te: ww[0] -= 1\n",
    "        var = 12 * (ww @ cov @ ww)\n",
    "        return var**0.5\n",
    "        \n",
    "        \n",
    "    def te(w_p):\n",
    "        return vol(w_p, te=True)\n",
    "\n",
    "    def te_max(w_p):\n",
    "        return te_limit_max - te(w_p)\n",
    "    \n",
    "    def te_min(w_p):\n",
    "        return te(w_p) - te_limit_min\n",
    "    \n",
    "#     def rp_err_max(w_p):\n",
    "#         return 0.03 - (w_p0[1:]/w_p0[1:].sum() - w_p[1:]/w_p[1:].sum()).std()\n",
    "        \n",
    "#     def rp_corr(w_p):\n",
    "#         return np.corrcoef(w_p0[1:-2], w_p[1:-2])[0,1]# - 0.1\n",
    "        \n",
    "    \n",
    "    def sum_to_one(w_p):\n",
    "        return 1 - w_p.sum()\n",
    "    \n",
    "    # 미국 최소비중\n",
    "    def us_min(w_p):\n",
    "        return w_p[0]/2 + w_p[1:25].sum() - w_us_min\n",
    "\n",
    "    # 미국 최대비중\n",
    "    def us_max(w_p):\n",
    "        return w_us_max - w_p[0]/2 - w_p[1:25].sum()\n",
    "    \n",
    "    # 우선주 최대비중\n",
    "    def ps_max(w_p):\n",
    "        return w_ps_max - w_p[20:25].sum()\n",
    "\n",
    "    \n",
    "    def port_dvd(w_p):\n",
    "        return dvd.fillna(0) @ w_p\n",
    "    \n",
    "    \n",
    "    # 포트폴리오 최소 배당수익률\n",
    "    def dvd_sum_min(w_p):\n",
    "        return port_dvd(w_p) - dvd_min\n",
    "\n",
    "    opt = {\n",
    "        'eqcons': [sum_to_one], \n",
    "        'ieqcons': [ us_min, us_max, ps_max, dvd_sum_min, te_max, te_min ], \n",
    "        'bounds': bounds,\n",
    "        'iter': 1000, \n",
    "        'full_output': True, \n",
    "        'iprint': 0\n",
    "    }\n",
    "    \n",
    "    resp1 = fmin_slsqp(obj1, w_p0, **opt)\n",
    "    resp2 = fmin_slsqp(obj2, w_p0, **opt)\n",
    "\n",
    "    \n",
    "    if (resp1[3]==0) and (resp2[3]==0):\n",
    "        pos = resp1[0]*0.9 + resp2[0]*0.1\n",
    "        \n",
    "    else:\n",
    "        pos = w_p0\n",
    "        print(date, resp1[-1], resp2[-1])\n",
    "\n",
    "        \n",
    "#     if (resp1[3]==0):\n",
    "#         pos = resp1[0]\n",
    "        \n",
    "#     else:\n",
    "#         pos = w_p0\n",
    "#         print(date, resp1[-1])\n",
    "        \n",
    "        \n",
    "    weights[i-n_cov,:] = pos\n",
    "    result[date] = {\n",
    "        #'sharpe': -resp[1], \n",
    "        'w_total': pos.sum(),\n",
    "        'dvd': port_dvd(pos), \n",
    "        'te': te(pos), \n",
    "    }"
   ]
  },
  {
   "cell_type": "code",
   "execution_count": 10,
   "metadata": {
    "scrolled": true
   },
   "outputs": [
    {
     "data": {
      "text/html": [
       "<div>\n",
       "<style scoped>\n",
       "    .dataframe tbody tr th:only-of-type {\n",
       "        vertical-align: middle;\n",
       "    }\n",
       "\n",
       "    .dataframe tbody tr th {\n",
       "        vertical-align: top;\n",
       "    }\n",
       "\n",
       "    .dataframe thead th {\n",
       "        text-align: right;\n",
       "    }\n",
       "</style>\n",
       "<table border=\"1\" class=\"dataframe\">\n",
       "  <thead>\n",
       "    <tr style=\"text-align: right;\">\n",
       "      <th></th>\n",
       "      <th>dvd</th>\n",
       "      <th>te</th>\n",
       "      <th>w_total</th>\n",
       "    </tr>\n",
       "  </thead>\n",
       "  <tbody>\n",
       "    <tr>\n",
       "      <th>2010-12-31</th>\n",
       "      <td>3.211137</td>\n",
       "      <td>0.049782</td>\n",
       "      <td>1.0</td>\n",
       "    </tr>\n",
       "    <tr>\n",
       "      <th>2011-01-31</th>\n",
       "      <td>3.119710</td>\n",
       "      <td>0.049545</td>\n",
       "      <td>1.0</td>\n",
       "    </tr>\n",
       "    <tr>\n",
       "      <th>2011-02-28</th>\n",
       "      <td>3.082361</td>\n",
       "      <td>0.049783</td>\n",
       "      <td>1.0</td>\n",
       "    </tr>\n",
       "    <tr>\n",
       "      <th>2011-03-31</th>\n",
       "      <td>3.154880</td>\n",
       "      <td>0.049900</td>\n",
       "      <td>1.0</td>\n",
       "    </tr>\n",
       "    <tr>\n",
       "      <th>2011-04-29</th>\n",
       "      <td>3.000000</td>\n",
       "      <td>0.049697</td>\n",
       "      <td>1.0</td>\n",
       "    </tr>\n",
       "    <tr>\n",
       "      <th>2011-05-31</th>\n",
       "      <td>3.246376</td>\n",
       "      <td>0.049749</td>\n",
       "      <td>1.0</td>\n",
       "    </tr>\n",
       "    <tr>\n",
       "      <th>2011-06-30</th>\n",
       "      <td>3.332458</td>\n",
       "      <td>0.049911</td>\n",
       "      <td>1.0</td>\n",
       "    </tr>\n",
       "    <tr>\n",
       "      <th>2011-07-29</th>\n",
       "      <td>3.470890</td>\n",
       "      <td>0.049931</td>\n",
       "      <td>1.0</td>\n",
       "    </tr>\n",
       "    <tr>\n",
       "      <th>2011-08-31</th>\n",
       "      <td>3.021582</td>\n",
       "      <td>0.049928</td>\n",
       "      <td>1.0</td>\n",
       "    </tr>\n",
       "    <tr>\n",
       "      <th>2011-09-30</th>\n",
       "      <td>3.615513</td>\n",
       "      <td>0.049904</td>\n",
       "      <td>1.0</td>\n",
       "    </tr>\n",
       "    <tr>\n",
       "      <th>2011-10-31</th>\n",
       "      <td>3.041575</td>\n",
       "      <td>0.049921</td>\n",
       "      <td>1.0</td>\n",
       "    </tr>\n",
       "    <tr>\n",
       "      <th>2011-11-30</th>\n",
       "      <td>3.216050</td>\n",
       "      <td>0.049934</td>\n",
       "      <td>1.0</td>\n",
       "    </tr>\n",
       "    <tr>\n",
       "      <th>2011-12-30</th>\n",
       "      <td>3.230964</td>\n",
       "      <td>0.049792</td>\n",
       "      <td>1.0</td>\n",
       "    </tr>\n",
       "    <tr>\n",
       "      <th>2012-01-31</th>\n",
       "      <td>3.080981</td>\n",
       "      <td>0.049666</td>\n",
       "      <td>1.0</td>\n",
       "    </tr>\n",
       "    <tr>\n",
       "      <th>2012-02-29</th>\n",
       "      <td>3.092579</td>\n",
       "      <td>0.049445</td>\n",
       "      <td>1.0</td>\n",
       "    </tr>\n",
       "    <tr>\n",
       "      <th>2012-03-30</th>\n",
       "      <td>3.138837</td>\n",
       "      <td>0.049749</td>\n",
       "      <td>1.0</td>\n",
       "    </tr>\n",
       "    <tr>\n",
       "      <th>2012-04-30</th>\n",
       "      <td>3.427337</td>\n",
       "      <td>0.049707</td>\n",
       "      <td>1.0</td>\n",
       "    </tr>\n",
       "    <tr>\n",
       "      <th>2012-05-31</th>\n",
       "      <td>3.034467</td>\n",
       "      <td>0.049878</td>\n",
       "      <td>1.0</td>\n",
       "    </tr>\n",
       "    <tr>\n",
       "      <th>2012-06-29</th>\n",
       "      <td>3.000000</td>\n",
       "      <td>0.049744</td>\n",
       "      <td>1.0</td>\n",
       "    </tr>\n",
       "    <tr>\n",
       "      <th>2012-07-31</th>\n",
       "      <td>3.486165</td>\n",
       "      <td>0.049787</td>\n",
       "      <td>1.0</td>\n",
       "    </tr>\n",
       "    <tr>\n",
       "      <th>2012-08-31</th>\n",
       "      <td>3.578591</td>\n",
       "      <td>0.049943</td>\n",
       "      <td>1.0</td>\n",
       "    </tr>\n",
       "    <tr>\n",
       "      <th>2012-09-28</th>\n",
       "      <td>3.361037</td>\n",
       "      <td>0.049937</td>\n",
       "      <td>1.0</td>\n",
       "    </tr>\n",
       "    <tr>\n",
       "      <th>2012-10-31</th>\n",
       "      <td>3.273910</td>\n",
       "      <td>0.049973</td>\n",
       "      <td>1.0</td>\n",
       "    </tr>\n",
       "    <tr>\n",
       "      <th>2012-11-30</th>\n",
       "      <td>4.141279</td>\n",
       "      <td>0.049872</td>\n",
       "      <td>1.0</td>\n",
       "    </tr>\n",
       "    <tr>\n",
       "      <th>2012-12-31</th>\n",
       "      <td>4.109819</td>\n",
       "      <td>0.049945</td>\n",
       "      <td>1.0</td>\n",
       "    </tr>\n",
       "    <tr>\n",
       "      <th>2013-01-31</th>\n",
       "      <td>3.850426</td>\n",
       "      <td>0.049810</td>\n",
       "      <td>1.0</td>\n",
       "    </tr>\n",
       "    <tr>\n",
       "      <th>2013-02-28</th>\n",
       "      <td>3.809340</td>\n",
       "      <td>0.049850</td>\n",
       "      <td>1.0</td>\n",
       "    </tr>\n",
       "    <tr>\n",
       "      <th>2013-03-29</th>\n",
       "      <td>3.633467</td>\n",
       "      <td>0.049854</td>\n",
       "      <td>1.0</td>\n",
       "    </tr>\n",
       "    <tr>\n",
       "      <th>2013-04-30</th>\n",
       "      <td>3.447702</td>\n",
       "      <td>0.049785</td>\n",
       "      <td>1.0</td>\n",
       "    </tr>\n",
       "    <tr>\n",
       "      <th>2013-05-31</th>\n",
       "      <td>3.000000</td>\n",
       "      <td>0.026777</td>\n",
       "      <td>1.0</td>\n",
       "    </tr>\n",
       "    <tr>\n",
       "      <th>...</th>\n",
       "      <td>...</td>\n",
       "      <td>...</td>\n",
       "      <td>...</td>\n",
       "    </tr>\n",
       "    <tr>\n",
       "      <th>2017-07-31</th>\n",
       "      <td>3.033700</td>\n",
       "      <td>0.012615</td>\n",
       "      <td>1.0</td>\n",
       "    </tr>\n",
       "    <tr>\n",
       "      <th>2017-08-31</th>\n",
       "      <td>3.037018</td>\n",
       "      <td>0.015489</td>\n",
       "      <td>1.0</td>\n",
       "    </tr>\n",
       "    <tr>\n",
       "      <th>2017-09-29</th>\n",
       "      <td>3.061904</td>\n",
       "      <td>0.017288</td>\n",
       "      <td>1.0</td>\n",
       "    </tr>\n",
       "    <tr>\n",
       "      <th>2017-10-31</th>\n",
       "      <td>3.024041</td>\n",
       "      <td>0.012534</td>\n",
       "      <td>1.0</td>\n",
       "    </tr>\n",
       "    <tr>\n",
       "      <th>2017-11-30</th>\n",
       "      <td>3.018493</td>\n",
       "      <td>0.009969</td>\n",
       "      <td>1.0</td>\n",
       "    </tr>\n",
       "    <tr>\n",
       "      <th>2017-12-29</th>\n",
       "      <td>3.023381</td>\n",
       "      <td>0.011101</td>\n",
       "      <td>1.0</td>\n",
       "    </tr>\n",
       "    <tr>\n",
       "      <th>2018-01-31</th>\n",
       "      <td>3.169495</td>\n",
       "      <td>0.027959</td>\n",
       "      <td>1.0</td>\n",
       "    </tr>\n",
       "    <tr>\n",
       "      <th>2018-02-28</th>\n",
       "      <td>3.071083</td>\n",
       "      <td>0.023874</td>\n",
       "      <td>1.0</td>\n",
       "    </tr>\n",
       "    <tr>\n",
       "      <th>2018-03-30</th>\n",
       "      <td>3.095620</td>\n",
       "      <td>0.025750</td>\n",
       "      <td>1.0</td>\n",
       "    </tr>\n",
       "    <tr>\n",
       "      <th>2018-04-30</th>\n",
       "      <td>3.116631</td>\n",
       "      <td>0.025782</td>\n",
       "      <td>1.0</td>\n",
       "    </tr>\n",
       "    <tr>\n",
       "      <th>2018-05-31</th>\n",
       "      <td>3.398162</td>\n",
       "      <td>0.031853</td>\n",
       "      <td>1.0</td>\n",
       "    </tr>\n",
       "    <tr>\n",
       "      <th>2018-06-29</th>\n",
       "      <td>3.513346</td>\n",
       "      <td>0.035013</td>\n",
       "      <td>1.0</td>\n",
       "    </tr>\n",
       "    <tr>\n",
       "      <th>2018-07-31</th>\n",
       "      <td>3.362878</td>\n",
       "      <td>0.038761</td>\n",
       "      <td>1.0</td>\n",
       "    </tr>\n",
       "    <tr>\n",
       "      <th>2018-08-31</th>\n",
       "      <td>3.267803</td>\n",
       "      <td>0.039008</td>\n",
       "      <td>1.0</td>\n",
       "    </tr>\n",
       "    <tr>\n",
       "      <th>2018-09-28</th>\n",
       "      <td>3.280291</td>\n",
       "      <td>0.036021</td>\n",
       "      <td>1.0</td>\n",
       "    </tr>\n",
       "    <tr>\n",
       "      <th>2018-10-31</th>\n",
       "      <td>4.037730</td>\n",
       "      <td>0.044961</td>\n",
       "      <td>1.0</td>\n",
       "    </tr>\n",
       "    <tr>\n",
       "      <th>2018-11-30</th>\n",
       "      <td>3.702075</td>\n",
       "      <td>0.039720</td>\n",
       "      <td>1.0</td>\n",
       "    </tr>\n",
       "    <tr>\n",
       "      <th>2018-12-31</th>\n",
       "      <td>3.796902</td>\n",
       "      <td>0.044591</td>\n",
       "      <td>1.0</td>\n",
       "    </tr>\n",
       "    <tr>\n",
       "      <th>2019-01-31</th>\n",
       "      <td>3.851528</td>\n",
       "      <td>0.042869</td>\n",
       "      <td>1.0</td>\n",
       "    </tr>\n",
       "    <tr>\n",
       "      <th>2019-02-28</th>\n",
       "      <td>4.128551</td>\n",
       "      <td>0.048668</td>\n",
       "      <td>1.0</td>\n",
       "    </tr>\n",
       "    <tr>\n",
       "      <th>2019-03-29</th>\n",
       "      <td>3.756461</td>\n",
       "      <td>0.044162</td>\n",
       "      <td>1.0</td>\n",
       "    </tr>\n",
       "    <tr>\n",
       "      <th>2019-04-30</th>\n",
       "      <td>3.523302</td>\n",
       "      <td>0.046623</td>\n",
       "      <td>1.0</td>\n",
       "    </tr>\n",
       "    <tr>\n",
       "      <th>2019-05-31</th>\n",
       "      <td>3.413308</td>\n",
       "      <td>0.045138</td>\n",
       "      <td>1.0</td>\n",
       "    </tr>\n",
       "    <tr>\n",
       "      <th>2019-06-28</th>\n",
       "      <td>3.458784</td>\n",
       "      <td>0.045996</td>\n",
       "      <td>1.0</td>\n",
       "    </tr>\n",
       "    <tr>\n",
       "      <th>2019-07-31</th>\n",
       "      <td>3.455872</td>\n",
       "      <td>0.045955</td>\n",
       "      <td>1.0</td>\n",
       "    </tr>\n",
       "    <tr>\n",
       "      <th>2019-08-30</th>\n",
       "      <td>3.590635</td>\n",
       "      <td>0.045630</td>\n",
       "      <td>1.0</td>\n",
       "    </tr>\n",
       "    <tr>\n",
       "      <th>2019-09-30</th>\n",
       "      <td>3.463609</td>\n",
       "      <td>0.045698</td>\n",
       "      <td>1.0</td>\n",
       "    </tr>\n",
       "    <tr>\n",
       "      <th>2019-10-31</th>\n",
       "      <td>3.195550</td>\n",
       "      <td>0.036705</td>\n",
       "      <td>1.0</td>\n",
       "    </tr>\n",
       "    <tr>\n",
       "      <th>2019-11-29</th>\n",
       "      <td>3.397089</td>\n",
       "      <td>0.032792</td>\n",
       "      <td>1.0</td>\n",
       "    </tr>\n",
       "    <tr>\n",
       "      <th>2019-12-31</th>\n",
       "      <td>3.062647</td>\n",
       "      <td>0.034994</td>\n",
       "      <td>1.0</td>\n",
       "    </tr>\n",
       "  </tbody>\n",
       "</table>\n",
       "<p>109 rows × 3 columns</p>\n",
       "</div>"
      ],
      "text/plain": [
       "                 dvd        te  w_total\n",
       "2010-12-31  3.211137  0.049782      1.0\n",
       "2011-01-31  3.119710  0.049545      1.0\n",
       "2011-02-28  3.082361  0.049783      1.0\n",
       "2011-03-31  3.154880  0.049900      1.0\n",
       "2011-04-29  3.000000  0.049697      1.0\n",
       "2011-05-31  3.246376  0.049749      1.0\n",
       "2011-06-30  3.332458  0.049911      1.0\n",
       "2011-07-29  3.470890  0.049931      1.0\n",
       "2011-08-31  3.021582  0.049928      1.0\n",
       "2011-09-30  3.615513  0.049904      1.0\n",
       "2011-10-31  3.041575  0.049921      1.0\n",
       "2011-11-30  3.216050  0.049934      1.0\n",
       "2011-12-30  3.230964  0.049792      1.0\n",
       "2012-01-31  3.080981  0.049666      1.0\n",
       "2012-02-29  3.092579  0.049445      1.0\n",
       "2012-03-30  3.138837  0.049749      1.0\n",
       "2012-04-30  3.427337  0.049707      1.0\n",
       "2012-05-31  3.034467  0.049878      1.0\n",
       "2012-06-29  3.000000  0.049744      1.0\n",
       "2012-07-31  3.486165  0.049787      1.0\n",
       "2012-08-31  3.578591  0.049943      1.0\n",
       "2012-09-28  3.361037  0.049937      1.0\n",
       "2012-10-31  3.273910  0.049973      1.0\n",
       "2012-11-30  4.141279  0.049872      1.0\n",
       "2012-12-31  4.109819  0.049945      1.0\n",
       "2013-01-31  3.850426  0.049810      1.0\n",
       "2013-02-28  3.809340  0.049850      1.0\n",
       "2013-03-29  3.633467  0.049854      1.0\n",
       "2013-04-30  3.447702  0.049785      1.0\n",
       "2013-05-31  3.000000  0.026777      1.0\n",
       "...              ...       ...      ...\n",
       "2017-07-31  3.033700  0.012615      1.0\n",
       "2017-08-31  3.037018  0.015489      1.0\n",
       "2017-09-29  3.061904  0.017288      1.0\n",
       "2017-10-31  3.024041  0.012534      1.0\n",
       "2017-11-30  3.018493  0.009969      1.0\n",
       "2017-12-29  3.023381  0.011101      1.0\n",
       "2018-01-31  3.169495  0.027959      1.0\n",
       "2018-02-28  3.071083  0.023874      1.0\n",
       "2018-03-30  3.095620  0.025750      1.0\n",
       "2018-04-30  3.116631  0.025782      1.0\n",
       "2018-05-31  3.398162  0.031853      1.0\n",
       "2018-06-29  3.513346  0.035013      1.0\n",
       "2018-07-31  3.362878  0.038761      1.0\n",
       "2018-08-31  3.267803  0.039008      1.0\n",
       "2018-09-28  3.280291  0.036021      1.0\n",
       "2018-10-31  4.037730  0.044961      1.0\n",
       "2018-11-30  3.702075  0.039720      1.0\n",
       "2018-12-31  3.796902  0.044591      1.0\n",
       "2019-01-31  3.851528  0.042869      1.0\n",
       "2019-02-28  4.128551  0.048668      1.0\n",
       "2019-03-29  3.756461  0.044162      1.0\n",
       "2019-04-30  3.523302  0.046623      1.0\n",
       "2019-05-31  3.413308  0.045138      1.0\n",
       "2019-06-28  3.458784  0.045996      1.0\n",
       "2019-07-31  3.455872  0.045955      1.0\n",
       "2019-08-30  3.590635  0.045630      1.0\n",
       "2019-09-30  3.463609  0.045698      1.0\n",
       "2019-10-31  3.195550  0.036705      1.0\n",
       "2019-11-29  3.397089  0.032792      1.0\n",
       "2019-12-31  3.062647  0.034994      1.0\n",
       "\n",
       "[109 rows x 3 columns]"
      ]
     },
     "execution_count": 10,
     "metadata": {},
     "output_type": "execute_result"
    }
   ],
   "source": [
    "df_result = pd.DataFrame(result).T; df_result"
   ]
  },
  {
   "cell_type": "code",
   "execution_count": 11,
   "metadata": {},
   "outputs": [
    {
     "data": {
      "text/plain": [
       "<matplotlib.axes._subplots.AxesSubplot at 0x1882ab6a6a0>"
      ]
     },
     "execution_count": 11,
     "metadata": {},
     "output_type": "execute_result"
    },
    {
     "data": {
      "image/png": "[encoded data removed]",
      "text/plain": [
       "<Figure size 432x288 with 1 Axes>"
      ]
     },
     "metadata": {
      "needs_background": "light"
     },
     "output_type": "display_data"
    }
   ],
   "source": [
    "df_result.te.plot()"
   ]
  },
  {
   "cell_type": "code",
   "execution_count": 12,
   "metadata": {
    "scrolled": true
   },
   "outputs": [],
   "source": [
    "df_w = pd.DataFrame(weights, index=df_result.index, columns=dvds.columns).shift(1); df_w;"
   ]
  },
  {
   "cell_type": "code",
   "execution_count": 13,
   "metadata": {
    "scrolled": true
   },
   "outputs": [
    {
     "data": {
      "text/plain": [
       "ACWI    0.1029\n",
       "HDV     0.0079\n",
       "FVD     0.1000\n",
       "DIV     0.0100\n",
       "VIG     0.1000\n",
       "NOBL    0.0958\n",
       "DGRO    0.0900\n",
       "PGX     0.0900\n",
       "PGF     0.0100\n",
       "PID     0.0900\n",
       "VYMI    0.0100\n",
       "DEM     0.1000\n",
       "DGS     0.0963\n",
       "DVYE    0.0100\n",
       "IDV     0.0871\n",
       "Name: 2019-12-31 00:00:00, dtype: float64"
      ]
     },
     "execution_count": 13,
     "metadata": {},
     "output_type": "execute_result"
    }
   ],
   "source": [
    "df_w.iloc[-1][df_w.iloc[-1]>0.000001].round(4)"
   ]
  },
  {
   "cell_type": "code",
   "execution_count": 14,
   "metadata": {
    "scrolled": true
   },
   "outputs": [
    {
     "data": {
      "text/plain": [
       "<matplotlib.axes._subplots.AxesSubplot at 0x1882b5a46a0>"
      ]
     },
     "execution_count": 14,
     "metadata": {},
     "output_type": "execute_result"
    },
    {
     "data": {
      "image/png": "[encoded data removed]",
      "text/plain": [
       "<Figure size 432x288 with 1 Axes>"
      ]
     },
     "metadata": {
      "needs_background": "light"
     },
     "output_type": "display_data"
    }
   ],
   "source": [
    "df_w.ACWI.plot()"
   ]
  },
  {
   "cell_type": "code",
   "execution_count": 15,
   "metadata": {
    "scrolled": true
   },
   "outputs": [],
   "source": [
    "df_rtns = rtns.loc[df_result.index, dvds.columns]; df_rtns;"
   ]
  },
  {
   "cell_type": "code",
   "execution_count": 16,
   "metadata": {
    "scrolled": true
   },
   "outputs": [],
   "source": [
    "cum_port0 = (df_w*df_rtns).sum(axis=1).cumsum(); cum_port0;"
   ]
  },
  {
   "cell_type": "code",
   "execution_count": 17,
   "metadata": {},
   "outputs": [],
   "source": [
    "cum_bm = rtns_bm.loc[df_result.index]['ACWI TR']\n",
    "cum_bm.iloc[0] = 0\n",
    "cum_bm = cum_bm.cumsum(); cum_bm;"
   ]
  },
  {
   "cell_type": "code",
   "execution_count": 18,
   "metadata": {
    "scrolled": true
   },
   "outputs": [
    {
     "data": {
      "text/plain": [
       "<matplotlib.axes._subplots.AxesSubplot at 0x1882b67e860>"
      ]
     },
     "execution_count": 18,
     "metadata": {},
     "output_type": "execute_result"
    },
    {
     "data": {
      "image/png": "[encoded data removed]",
      "text/plain": [
       "<Figure size 432x288 with 1 Axes>"
      ]
     },
     "metadata": {
      "needs_background": "light"
     },
     "output_type": "display_data"
    }
   ],
   "source": [
    "cum = np.exp(pd.DataFrame({'port_0':cum_port0, 'bm':cum_bm})).iloc[:-1]\n",
    "cum.plot(color=['tab:green','tab:red'], legend=None)"
   ]
  },
  {
   "cell_type": "code",
   "execution_count": 19,
   "metadata": {},
   "outputs": [
    {
     "data": {
      "text/html": [
       "<div>\n",
       "<style scoped>\n",
       "    .dataframe tbody tr th:only-of-type {\n",
       "        vertical-align: middle;\n",
       "    }\n",
       "\n",
       "    .dataframe tbody tr th {\n",
       "        vertical-align: top;\n",
       "    }\n",
       "\n",
       "    .dataframe thead th {\n",
       "        text-align: right;\n",
       "    }\n",
       "</style>\n",
       "<table border=\"1\" class=\"dataframe\">\n",
       "  <thead>\n",
       "    <tr style=\"text-align: right;\">\n",
       "      <th></th>\n",
       "      <th>cagr</th>\n",
       "      <th>std</th>\n",
       "      <th>rar</th>\n",
       "      <th>cagr_ex</th>\n",
       "      <th>te</th>\n",
       "      <th>ir</th>\n",
       "    </tr>\n",
       "  </thead>\n",
       "  <tbody>\n",
       "    <tr>\n",
       "      <th>port_0</th>\n",
       "      <td>9.93</td>\n",
       "      <td>9.88</td>\n",
       "      <td>1.01</td>\n",
       "      <td>1.91</td>\n",
       "      <td>4.3</td>\n",
       "      <td>0.44</td>\n",
       "    </tr>\n",
       "    <tr>\n",
       "      <th>bm</th>\n",
       "      <td>8.03</td>\n",
       "      <td>12.27</td>\n",
       "      <td>0.65</td>\n",
       "      <td>0.00</td>\n",
       "      <td>0.0</td>\n",
       "      <td>0.00</td>\n",
       "    </tr>\n",
       "  </tbody>\n",
       "</table>\n",
       "</div>"
      ],
      "text/plain": [
       "        cagr    std   rar  cagr_ex   te    ir\n",
       "port_0  9.93   9.88  1.01     1.91  4.3  0.44\n",
       "bm      8.03  12.27  0.65     0.00  0.0  0.00"
      ]
     },
     "execution_count": 19,
     "metadata": {},
     "output_type": "execute_result"
    }
   ],
   "source": [
    "std = cum.pct_change().std()*(12**0.5) * 100\n",
    "cagr = (cum.iloc[-1]**(12/(len(cum)-1))-1) * 100\n",
    "rar = cagr/std\n",
    "stats = pd.DataFrame({'cagr':cagr, 'std':std, 'rar':rar})\n",
    "stats['cagr_ex'] = stats.cagr - stats.cagr['bm']\n",
    "stats['te'] = cum.pct_change().sub(cum.bm.pct_change(), axis=0).std()*(12**0.5) * 100\n",
    "stats['ir'] = (stats.cagr_ex/stats.te).fillna(0)\n",
    "stats.round(2)"
   ]
  },
  {
   "cell_type": "code",
   "execution_count": null,
   "metadata": {},
   "outputs": [],
   "source": []
  },
  {
   "cell_type": "markdown",
   "metadata": {},
   "source": [
    "# 모멘텀 종목 고르는 경우"
   ]
  },
  {
   "cell_type": "code",
   "execution_count": 20,
   "metadata": {
    "scrolled": true
   },
   "outputs": [
    {
     "data": {
      "application/vnd.jupyter.widget-view+json": {
       "model_id": "708e20a278834993857ff727319a488b",
       "version_major": 2,
       "version_minor": 0
      },
      "text/plain": [
       "HBox(children=(IntProgress(value=0, max=109), HTML(value='')))"
      ]
     },
     "metadata": {},
     "output_type": "display_data"
    },
    {
     "name": "stdout",
     "output_type": "stream",
     "text": [
      "\n"
     ]
    }
   ],
   "source": [
    "'''\n",
    "변수설정\n",
    "'''\n",
    "n_dates = len(rtns)\n",
    "n_cov = 12             # cov 계산 개월수\n",
    "\n",
    "bm_w_max = 0.30\n",
    "w_max = 0.10           # 종목 최대비중\n",
    "w_us_min = 0.4         # 미국 최소비중\n",
    "w_us_max = 0.8         # 미국 최대비중\n",
    "w_ps_max = 0.1         # 우선주 최대비중\n",
    "dvd_min = 3          # 포트폴리오 최소 배당수익률\n",
    "te_limit_max = 0.05\n",
    "te_limit_min = 0.01\n",
    "\n",
    "n = len(rtns.columns)  # 종목수\n",
    "dates_rng = range(n_cov, n_dates)\n",
    "weights = np.zeros((len(dates_rng), n))\n",
    "result = {}\n",
    "\n",
    "\n",
    "def covar(rt):\n",
    "    _cov = rt.cov(min_periods=n_cov/2)\n",
    "    _exc = _cov.iloc[0].isna()\n",
    "    return _cov.fillna(0), _exc\n",
    "\n",
    "\n",
    "def has_value(rt, n_filter, investable):\n",
    "    vals = (-rt.iloc[-1] / rt.iloc[-12:].sum(min_count=10)).values\n",
    "    #vals = rt.iloc[-3:].sum(min_count=3).values\n",
    "    vals[investable.values==0][:] = np.nan\n",
    "    vals[-2:] = np.nan\n",
    "    univ['value'] = vals\n",
    "    out = univ.groupby('category')['value'].rank(ascending=False, pct=True, na_option='bottom') <= n_filter\n",
    "    out[0] = 1\n",
    "    return out\n",
    "\n",
    "\n",
    "for i in tqdm_notebook(dates_rng[:]):\n",
    "    date = rtns.index[i]\n",
    "    \n",
    "    _rtns = rtns.iloc[i-11:i+1]\n",
    "    cov, exc = covar(_rtns)\n",
    "    dvd = dvds.iloc[i]\n",
    "    \n",
    "    investable = 1 - (dvd.isna() | _rtns.iloc[-1].isna() | exc)\n",
    "    #investable = investable.values * has_value(_rtns, 0.5, investable)\n",
    "    #investable = has_value(_rtns, 0.5, investable)\n",
    "    investable.iloc[0] = 1\n",
    "    investable.iloc[-2:] = 0\n",
    "    \n",
    "    w_p0 = (1/_rtns.std()) * investable.values\n",
    "    w_p0 = w_p0.fillna(0) / w_p0.sum()\n",
    "\n",
    "    valuable = has_value(_rtns, 0.5, investable)\n",
    "    \n",
    "    _w_max = w_max*investable\n",
    "    _w_max[valuable.values] = _w_max * 1.2\n",
    "    _w_max[~valuable.values] = _w_max * 0#.5    \n",
    "    _w_max.iloc[0] = bm_w_max\n",
    "    bounds = list(zip(np.zeros(n), _w_max))\n",
    "    \n",
    "\n",
    "    def obj1(w_p):\n",
    "        #return vol(w_p)\n",
    "        return -sharpe(w_p)\n",
    "        #return -ir(w_p)\n",
    "        #return -rtn_projection(w_p)\n",
    "    \n",
    "    def obj2(w_p):\n",
    "        return vol(w_p)\n",
    "        #return -rtn_projection(w_p)\n",
    "    \n",
    "    \n",
    "    def sharpe(w_p):\n",
    "        _rp = rtn_projection(w_p)\n",
    "        _vol = vol(w_p)\n",
    "        return _rp / _vol\n",
    "\n",
    "    def ir(w_p):\n",
    "        _rp = rtn_projection(w_p, rel=True)\n",
    "        _te = te(w_p)\n",
    "        return _rp / _te\n",
    "    \n",
    "    \n",
    "    def rtn_projection(w_p, rel=False):\n",
    "        _rtns_sum = _rtns.iloc[:-1].sum().fillna(0)\n",
    "        _proj = _rtns_sum @ w_p\n",
    "        \n",
    "        if rel:\n",
    "            return _proj - _rtns_sum[0]\n",
    "        else:\n",
    "            return _proj\n",
    "        \n",
    "    \n",
    "    def vol(w_p, te=False):\n",
    "        ww = w_p.copy()\n",
    "        if te: ww[0] -= 1\n",
    "        var = 12 * (ww @ cov @ ww)\n",
    "        return var**0.5\n",
    "        \n",
    "        \n",
    "    def te(w_p):\n",
    "        return vol(w_p, te=True)\n",
    "\n",
    "    def te_max(w_p):\n",
    "        return te_limit_max - te(w_p)\n",
    "    \n",
    "    def te_min(w_p):\n",
    "        return te(w_p) - te_limit_min\n",
    "    \n",
    "#     def rp_err_max(w_p):\n",
    "#         return 0.03 - (w_p0[1:]/w_p0[1:].sum() - w_p[1:]/w_p[1:].sum()).std()\n",
    "        \n",
    "#     def rp_corr(w_p):\n",
    "#         return np.corrcoef(w_p0[1:-2], w_p[1:-2])[0,1]# - 0.1\n",
    "\n",
    "        \n",
    "    def sum_to_one(w_p):\n",
    "        return 1 - w_p.sum()\n",
    "    \n",
    "    # 미국 최소비중\n",
    "    def us_min(w_p):\n",
    "        return w_p[0]/2 + w_p[1:25].sum() - w_us_min\n",
    "\n",
    "    # 미국 최대비중\n",
    "    def us_max(w_p):\n",
    "        return w_us_max - w_p[0]/2 - w_p[1:25].sum()\n",
    "    \n",
    "    # 우선주 최대비중\n",
    "    def ps_max(w_p):\n",
    "        return w_ps_max - w_p[20:25].sum()\n",
    "\n",
    "    \n",
    "    def port_dvd(w_p):\n",
    "        return dvd.fillna(0) @ w_p\n",
    "    \n",
    "    \n",
    "    # 포트폴리오 최소 배당수익률\n",
    "    def dvd_sum_min(w_p):\n",
    "        return port_dvd(w_p) - dvd_min\n",
    "\n",
    "    \n",
    "    opt = {\n",
    "        'eqcons': [sum_to_one], \n",
    "        'ieqcons': [ us_min, us_max, ps_max, dvd_sum_min, te_max, te_min ], \n",
    "        'bounds': bounds,\n",
    "        'iter': 1000, \n",
    "        'full_output': True, \n",
    "        'iprint': 0\n",
    "    }\n",
    "    \n",
    "    resp1 = fmin_slsqp(obj1, w_p0, **opt)\n",
    "    resp2 = fmin_slsqp(obj2, w_p0, **opt)\n",
    "\n",
    "    \n",
    "    if (resp1[3]==0) and (resp2[3]==0):\n",
    "        pos = resp1[0]*0.95 + resp2[0]*0.05\n",
    "        \n",
    "    else:\n",
    "        pos = w_p0\n",
    "        print(date, resp1[-1], resp2[-1])\n",
    "\n",
    "        \n",
    "#     if (resp1[3]==0):\n",
    "#         pos = resp1[0]\n",
    "        \n",
    "#     else:\n",
    "#         pos = w_p0\n",
    "#         print(date, resp1[-1])\n",
    "        \n",
    "        \n",
    "    weights[i-n_cov,:] = pos\n",
    "    result[date] = {\n",
    "        #'sharpe': -resp[1], \n",
    "        'w_total': pos.sum(),\n",
    "        'dvd': port_dvd(pos), \n",
    "        'te': te(pos), \n",
    "    }"
   ]
  },
  {
   "cell_type": "code",
   "execution_count": 21,
   "metadata": {
    "scrolled": true
   },
   "outputs": [
    {
     "data": {
      "text/plain": [
       "<matplotlib.axes._subplots.AxesSubplot at 0x1882acf54a8>"
      ]
     },
     "execution_count": 21,
     "metadata": {},
     "output_type": "execute_result"
    },
    {
     "data": {
      "image/png": "[encoded data removed]",
      "text/plain": [
       "<Figure size 432x288 with 1 Axes>"
      ]
     },
     "metadata": {
      "needs_background": "light"
     },
     "output_type": "display_data"
    }
   ],
   "source": [
    "df_result = pd.DataFrame(result).T; df_result.te.plot()"
   ]
  },
  {
   "cell_type": "code",
   "execution_count": 22,
   "metadata": {},
   "outputs": [],
   "source": [
    "df_w = pd.DataFrame(weights, index=df_result.index, columns=dvds.columns).shift(1)"
   ]
  },
  {
   "cell_type": "code",
   "execution_count": 23,
   "metadata": {},
   "outputs": [
    {
     "data": {
      "text/plain": [
       "ACWI    0.294\n",
       "HDV     0.006\n",
       "FVD     0.120\n",
       "VIG     0.120\n",
       "SDY     0.120\n",
       "PGX     0.095\n",
       "PGF     0.005\n",
       "DGS     0.120\n",
       "IDV     0.120\n",
       "Name: 2019-12-31 00:00:00, dtype: float64"
      ]
     },
     "execution_count": 23,
     "metadata": {},
     "output_type": "execute_result"
    }
   ],
   "source": [
    "df_w.round(4).iloc[-1][df_w.iloc[-1]>0.00001]"
   ]
  },
  {
   "cell_type": "code",
   "execution_count": 24,
   "metadata": {},
   "outputs": [
    {
     "data": {
      "text/plain": [
       "<matplotlib.axes._subplots.AxesSubplot at 0x1882c690438>"
      ]
     },
     "execution_count": 24,
     "metadata": {},
     "output_type": "execute_result"
    },
    {
     "data": {
      "image/png": "[encoded data removed]",
      "text/plain": [
       "<Figure size 432x288 with 1 Axes>"
      ]
     },
     "metadata": {
      "needs_background": "light"
     },
     "output_type": "display_data"
    }
   ],
   "source": [
    "df_w.ACWI.plot()"
   ]
  },
  {
   "cell_type": "code",
   "execution_count": 25,
   "metadata": {},
   "outputs": [],
   "source": [
    "df_rtns = rtns.loc[df_result.index, dvds.columns]"
   ]
  },
  {
   "cell_type": "code",
   "execution_count": 26,
   "metadata": {},
   "outputs": [],
   "source": [
    "cum_port1 = (df_w*df_rtns).sum(axis=1).cumsum()"
   ]
  },
  {
   "cell_type": "code",
   "execution_count": 27,
   "metadata": {},
   "outputs": [],
   "source": [
    "cum_bm = rtns_bm.loc[df_result.index]['ACWI TR']\n",
    "cum_bm.iloc[0] = 0\n",
    "cum_bm = cum_bm.cumsum(); cum_bm;"
   ]
  },
  {
   "cell_type": "code",
   "execution_count": 28,
   "metadata": {},
   "outputs": [
    {
     "data": {
      "text/plain": [
       "<matplotlib.axes._subplots.AxesSubplot at 0x1882c746ef0>"
      ]
     },
     "execution_count": 28,
     "metadata": {},
     "output_type": "execute_result"
    },
    {
     "data": {
      "image/png": "[encoded data removed]",
      "text/plain": [
       "<Figure size 432x288 with 1 Axes>"
      ]
     },
     "metadata": {
      "needs_background": "light"
     },
     "output_type": "display_data"
    }
   ],
   "source": [
    "cum = np.exp(pd.DataFrame({'port_1':cum_port1, 'port_0':cum_port0, 'bm':cum_bm})).iloc[:-1]\n",
    "cum.plot(color=['tab:orange','tab:green','tab:red'], legend=None)"
   ]
  },
  {
   "cell_type": "code",
   "execution_count": 29,
   "metadata": {},
   "outputs": [
    {
     "data": {
      "text/html": [
       "<div>\n",
       "<style scoped>\n",
       "    .dataframe tbody tr th:only-of-type {\n",
       "        vertical-align: middle;\n",
       "    }\n",
       "\n",
       "    .dataframe tbody tr th {\n",
       "        vertical-align: top;\n",
       "    }\n",
       "\n",
       "    .dataframe thead th {\n",
       "        text-align: right;\n",
       "    }\n",
       "</style>\n",
       "<table border=\"1\" class=\"dataframe\">\n",
       "  <thead>\n",
       "    <tr style=\"text-align: right;\">\n",
       "      <th></th>\n",
       "      <th>cagr</th>\n",
       "      <th>std</th>\n",
       "      <th>rar</th>\n",
       "      <th>cagr_ex</th>\n",
       "      <th>te</th>\n",
       "      <th>ir</th>\n",
       "    </tr>\n",
       "  </thead>\n",
       "  <tbody>\n",
       "    <tr>\n",
       "      <th>port_1</th>\n",
       "      <td>10.46</td>\n",
       "      <td>9.96</td>\n",
       "      <td>1.05</td>\n",
       "      <td>2.43</td>\n",
       "      <td>4.15</td>\n",
       "      <td>0.59</td>\n",
       "    </tr>\n",
       "    <tr>\n",
       "      <th>port_0</th>\n",
       "      <td>9.93</td>\n",
       "      <td>9.88</td>\n",
       "      <td>1.01</td>\n",
       "      <td>1.91</td>\n",
       "      <td>4.30</td>\n",
       "      <td>0.44</td>\n",
       "    </tr>\n",
       "    <tr>\n",
       "      <th>bm</th>\n",
       "      <td>8.03</td>\n",
       "      <td>12.27</td>\n",
       "      <td>0.65</td>\n",
       "      <td>0.00</td>\n",
       "      <td>0.00</td>\n",
       "      <td>0.00</td>\n",
       "    </tr>\n",
       "  </tbody>\n",
       "</table>\n",
       "</div>"
      ],
      "text/plain": [
       "         cagr    std   rar  cagr_ex    te    ir\n",
       "port_1  10.46   9.96  1.05     2.43  4.15  0.59\n",
       "port_0   9.93   9.88  1.01     1.91  4.30  0.44\n",
       "bm       8.03  12.27  0.65     0.00  0.00  0.00"
      ]
     },
     "execution_count": 29,
     "metadata": {},
     "output_type": "execute_result"
    }
   ],
   "source": [
    "std = cum.pct_change().std()*(12**0.5) * 100\n",
    "cagr = (cum.iloc[-1]**(12/(len(cum)-1))-1) * 100\n",
    "rar = cagr/std\n",
    "stats = pd.DataFrame({'cagr':cagr, 'std':std, 'rar':rar})\n",
    "stats['cagr_ex'] = stats.cagr - stats.cagr['bm']\n",
    "stats['te'] = cum.pct_change().sub(cum.bm.pct_change(), axis=0).std()*(12**0.5) * 100\n",
    "stats['ir'] = (stats.cagr_ex/stats.te).fillna(0)\n",
    "stats.round(2)"
   ]
  },
  {
   "cell_type": "code",
   "execution_count": null,
   "metadata": {},
   "outputs": [],
   "source": []
  },
  {
   "cell_type": "markdown",
   "metadata": {},
   "source": [
    "# BM 모멘텀이 안나올때 UST 편입하는 경우"
   ]
  },
  {
   "cell_type": "code",
   "execution_count": 30,
   "metadata": {
    "scrolled": true
   },
   "outputs": [],
   "source": [
    "df_bm_rtns = rtns['ACWI'].rolling(3).sum().loc[df_result.index]; df_bm_rtns;"
   ]
  },
  {
   "cell_type": "code",
   "execution_count": 31,
   "metadata": {},
   "outputs": [],
   "source": [
    "UST = 'TLT'"
   ]
  },
  {
   "cell_type": "code",
   "execution_count": 32,
   "metadata": {},
   "outputs": [],
   "source": [
    "df_w_append = df_w.copy()\n",
    "for date, val in df_bm_rtns.items():\n",
    "    if val<0:\n",
    "        df_w_append.loc[date] *= 0.8\n",
    "        df_w_append.loc[date, UST] = 0.2"
   ]
  },
  {
   "cell_type": "code",
   "execution_count": 33,
   "metadata": {},
   "outputs": [],
   "source": [
    "#df_rtns[UST] = rtns.loc[df_result.index, UST]"
   ]
  },
  {
   "cell_type": "code",
   "execution_count": 34,
   "metadata": {},
   "outputs": [],
   "source": [
    "cum_port2 = (df_w_append*df_rtns).sum(axis=1).cumsum()"
   ]
  },
  {
   "cell_type": "code",
   "execution_count": 35,
   "metadata": {},
   "outputs": [],
   "source": [
    "cum_bm = rtns_bm.loc[df_result.index]['ACWI TR']\n",
    "cum_bm.iloc[0] = 0\n",
    "cum_bm = cum_bm.cumsum(); cum_bm;"
   ]
  },
  {
   "cell_type": "code",
   "execution_count": 36,
   "metadata": {},
   "outputs": [
    {
     "data": {
      "text/plain": [
       "<matplotlib.axes._subplots.AxesSubplot at 0x1882c82c048>"
      ]
     },
     "execution_count": 36,
     "metadata": {},
     "output_type": "execute_result"
    },
    {
     "data": {
      "image/png": "[encoded data removed]",
      "text/plain": [
       "<Figure size 432x288 with 1 Axes>"
      ]
     },
     "metadata": {
      "needs_background": "light"
     },
     "output_type": "display_data"
    }
   ],
   "source": [
    "cum = np.exp(pd.DataFrame({'port_2':cum_port2, 'port_1':cum_port1, 'port_0':cum_port0, 'bm':cum_bm})).iloc[:-1]\n",
    "cum.plot(color=['tab:blue','tab:orange','tab:green','tab:red'], legend=None)"
   ]
  },
  {
   "cell_type": "code",
   "execution_count": 37,
   "metadata": {},
   "outputs": [
    {
     "data": {
      "text/html": [
       "<div>\n",
       "<style scoped>\n",
       "    .dataframe tbody tr th:only-of-type {\n",
       "        vertical-align: middle;\n",
       "    }\n",
       "\n",
       "    .dataframe tbody tr th {\n",
       "        vertical-align: top;\n",
       "    }\n",
       "\n",
       "    .dataframe thead th {\n",
       "        text-align: right;\n",
       "    }\n",
       "</style>\n",
       "<table border=\"1\" class=\"dataframe\">\n",
       "  <thead>\n",
       "    <tr style=\"text-align: right;\">\n",
       "      <th></th>\n",
       "      <th>cagr</th>\n",
       "      <th>std</th>\n",
       "      <th>rar</th>\n",
       "      <th>cagr_ex</th>\n",
       "      <th>te</th>\n",
       "      <th>ir</th>\n",
       "    </tr>\n",
       "  </thead>\n",
       "  <tbody>\n",
       "    <tr>\n",
       "      <th>port_2</th>\n",
       "      <td>13.07</td>\n",
       "      <td>8.37</td>\n",
       "      <td>1.56</td>\n",
       "      <td>5.04</td>\n",
       "      <td>5.89</td>\n",
       "      <td>0.86</td>\n",
       "    </tr>\n",
       "    <tr>\n",
       "      <th>port_1</th>\n",
       "      <td>10.46</td>\n",
       "      <td>9.96</td>\n",
       "      <td>1.05</td>\n",
       "      <td>2.43</td>\n",
       "      <td>4.15</td>\n",
       "      <td>0.59</td>\n",
       "    </tr>\n",
       "    <tr>\n",
       "      <th>port_0</th>\n",
       "      <td>9.93</td>\n",
       "      <td>9.88</td>\n",
       "      <td>1.01</td>\n",
       "      <td>1.91</td>\n",
       "      <td>4.30</td>\n",
       "      <td>0.44</td>\n",
       "    </tr>\n",
       "    <tr>\n",
       "      <th>bm</th>\n",
       "      <td>8.03</td>\n",
       "      <td>12.27</td>\n",
       "      <td>0.65</td>\n",
       "      <td>0.00</td>\n",
       "      <td>0.00</td>\n",
       "      <td>0.00</td>\n",
       "    </tr>\n",
       "  </tbody>\n",
       "</table>\n",
       "</div>"
      ],
      "text/plain": [
       "         cagr    std   rar  cagr_ex    te    ir\n",
       "port_2  13.07   8.37  1.56     5.04  5.89  0.86\n",
       "port_1  10.46   9.96  1.05     2.43  4.15  0.59\n",
       "port_0   9.93   9.88  1.01     1.91  4.30  0.44\n",
       "bm       8.03  12.27  0.65     0.00  0.00  0.00"
      ]
     },
     "execution_count": 37,
     "metadata": {},
     "output_type": "execute_result"
    }
   ],
   "source": [
    "std = cum.pct_change().std()*(12**0.5) * 100\n",
    "cagr = (cum.iloc[-1]**(12/(len(cum)-1))-1) * 100\n",
    "rar = cagr/std\n",
    "stats = pd.DataFrame({'cagr':cagr, 'std':std, 'rar':rar})\n",
    "stats['cagr_ex'] = stats.cagr - stats.cagr['bm']\n",
    "stats['te'] = cum.pct_change().sub(cum.bm.pct_change(), axis=0).std()*(12**0.5) * 100\n",
    "stats['ir'] = (stats.cagr_ex/stats.te).fillna(0)\n",
    "stats.round(2)"
   ]
  },
  {
   "cell_type": "code",
   "execution_count": 38,
   "metadata": {},
   "outputs": [
    {
     "data": {
      "text/plain": [
       "<matplotlib.axes._subplots.AxesSubplot at 0x1882c8d34e0>"
      ]
     },
     "execution_count": 38,
     "metadata": {},
     "output_type": "execute_result"
    },
    {
     "data": {
      "image/png": "[encoded data removed]",
      "text/plain": [
       "<Figure size 360x360 with 1 Axes>"
      ]
     },
     "metadata": {
      "needs_background": "light"
     },
     "output_type": "display_data"
    }
   ],
   "source": [
    "df_w_append.ACWI.plot(figsize=(5,5))"
   ]
  },
  {
   "cell_type": "code",
   "execution_count": 1489,
   "metadata": {
    "scrolled": false
   },
   "outputs": [
    {
     "data": {
      "text/plain": [
       "ACWI    0.2304\n",
       "FVD     0.1657\n",
       "VIG     0.1478\n",
       "NOBL    0.0125\n",
       "DGRO    0.0119\n",
       "PGX     0.1000\n",
       "PID     0.0127\n",
       "DEM     0.0126\n",
       "DGS     0.1503\n",
       "IDV     0.1559\n",
       "Name: 2019-12-31 00:00:00, dtype: float64"
      ]
     },
     "execution_count": 1489,
     "metadata": {},
     "output_type": "execute_result"
    }
   ],
   "source": [
    "df_w_append.round(4).iloc[-1][df_w_append.iloc[-1]>0.00001]"
   ]
  },
  {
   "cell_type": "code",
   "execution_count": 39,
   "metadata": {},
   "outputs": [
    {
     "data": {
      "text/plain": [
       "<matplotlib.axes._subplots.AxesSubplot at 0x1882c9b0a90>"
      ]
     },
     "execution_count": 39,
     "metadata": {},
     "output_type": "execute_result"
    },
    {
     "data": {
      "image/png": "[encoded data removed]",
      "text/plain": [
       "<Figure size 360x360 with 1 Axes>"
      ]
     },
     "metadata": {
      "needs_background": "light"
     },
     "output_type": "display_data"
    }
   ],
   "source": [
    "df_result.dvd.plot(color='tab:orange', ylim=(0,5), figsize=(5,5))"
   ]
  },
  {
   "cell_type": "code",
   "execution_count": 40,
   "metadata": {},
   "outputs": [
    {
     "data": {
      "text/plain": [
       "<matplotlib.axes._subplots.AxesSubplot at 0x1882ca42780>"
      ]
     },
     "execution_count": 40,
     "metadata": {},
     "output_type": "execute_result"
    },
    {
     "data": {
      "image/png": "[encoded data removed]",
      "text/plain": [
       "<Figure size 360x360 with 1 Axes>"
      ]
     },
     "metadata": {
      "needs_background": "light"
     },
     "output_type": "display_data"
    }
   ],
   "source": [
    "df_result.te.plot(figsize=(5,5))"
   ]
  },
  {
   "cell_type": "code",
   "execution_count": 1618,
   "metadata": {},
   "outputs": [],
   "source": [
    "perf = np.exp(pd.DataFrame({'HGDM':cum_port2, 'ACWI':cum_bm}))"
   ]
  },
  {
   "cell_type": "code",
   "execution_count": 1619,
   "metadata": {},
   "outputs": [
    {
     "data": {
      "text/plain": [
       "<matplotlib.legend.Legend at 0x16887d3cb00>"
      ]
     },
     "execution_count": 1619,
     "metadata": {},
     "output_type": "execute_result"
    },
    {
     "data": {
      "image/png": "[encoded data removed]",
      "text/plain": [
       "<Figure size 720x288 with 1 Axes>"
      ]
     },
     "metadata": {
      "needs_background": "light"
     },
     "output_type": "display_data"
    }
   ],
   "source": [
    "ax = perf.plot(figsize=(10,4), color=['orange','gray'])\n",
    "ax.legend(fontsize=13)"
   ]
  },
  {
   "cell_type": "code",
   "execution_count": 1620,
   "metadata": {},
   "outputs": [],
   "source": [
    "ytd = perf.iloc[-1]/perf.loc['2018-12-31']-1\n",
    "r3m = perf.iloc[-1]/perf.iloc[-4]-1\n",
    "r1y = perf.iloc[-1]/perf.iloc[-13]-1\n",
    "r3y = perf.iloc[-1]/perf.iloc[-37]-1"
   ]
  },
  {
   "cell_type": "code",
   "execution_count": 1621,
   "metadata": {},
   "outputs": [
    {
     "data": {
      "text/html": [
       "<div>\n",
       "<style scoped>\n",
       "    .dataframe tbody tr th:only-of-type {\n",
       "        vertical-align: middle;\n",
       "    }\n",
       "\n",
       "    .dataframe tbody tr th {\n",
       "        vertical-align: top;\n",
       "    }\n",
       "\n",
       "    .dataframe thead th {\n",
       "        text-align: right;\n",
       "    }\n",
       "</style>\n",
       "<table border=\"1\" class=\"dataframe\">\n",
       "  <thead>\n",
       "    <tr style=\"text-align: right;\">\n",
       "      <th></th>\n",
       "      <th>ytd</th>\n",
       "      <th>1y</th>\n",
       "      <th>3y</th>\n",
       "    </tr>\n",
       "  </thead>\n",
       "  <tbody>\n",
       "    <tr>\n",
       "      <td>HGDM</td>\n",
       "      <td>0.270204</td>\n",
       "      <td>0.270204</td>\n",
       "      <td>0.476477</td>\n",
       "    </tr>\n",
       "    <tr>\n",
       "      <td>ACWI</td>\n",
       "      <td>0.265974</td>\n",
       "      <td>0.265974</td>\n",
       "      <td>0.421700</td>\n",
       "    </tr>\n",
       "  </tbody>\n",
       "</table>\n",
       "</div>"
      ],
      "text/plain": [
       "           ytd        1y        3y\n",
       "HGDM  0.270204  0.270204  0.476477\n",
       "ACWI  0.265974  0.265974  0.421700"
      ]
     },
     "execution_count": 1621,
     "metadata": {},
     "output_type": "execute_result"
    }
   ],
   "source": [
    "pd.DataFrame({'ytd':ytd, '1y':r1y, '3y':r3y})"
   ]
  },
  {
   "cell_type": "code",
   "execution_count": null,
   "metadata": {},
   "outputs": [],
   "source": []
  },
  {
   "cell_type": "code",
   "execution_count": null,
   "metadata": {},
   "outputs": [],
   "source": []
  },
  {
   "cell_type": "code",
   "execution_count": null,
   "metadata": {},
   "outputs": [],
   "source": []
  }
 ],
 "metadata": {
  "kernelspec": {
   "display_name": "Python 3",
   "language": "python",
   "name": "python3"
  },
  "language_info": {
   "codemirror_mode": {
    "name": "ipython",
    "version": 3
   },
   "file_extension": ".py",
   "mimetype": "text/x-python",
   "name": "python",
   "nbconvert_exporter": "python",
   "pygments_lexer": "ipython3",
   "version": "3.7.3"
  }
 },
 "nbformat": 4,
 "nbformat_minor": 2
}
