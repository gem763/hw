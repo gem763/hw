{
 "cells": [
  {
   "cell_type": "code",
   "execution_count": 1,
   "metadata": {},
   "outputs": [],
   "source": [
    "%matplotlib inline\n",
    "\n",
    "import pandas as pd\n",
    "import scipy as sp\n",
    "from scipy.optimize import fmin_slsqp\n",
    "import numpy as np\n",
    "from IPython.core.debugger import set_trace\n",
    "from tqdm import tqdm_notebook"
   ]
  },
  {
   "cell_type": "markdown",
   "metadata": {},
   "source": [
    "# 초기화"
   ]
  },
  {
   "cell_type": "code",
   "execution_count": 2,
   "metadata": {},
   "outputs": [],
   "source": [
    "xl = 'data_20191231.xlsx'"
   ]
  },
  {
   "cell_type": "code",
   "execution_count": 3,
   "metadata": {},
   "outputs": [],
   "source": [
    "univ = pd.read_excel(xl, sheet_name='category'); univ;"
   ]
  },
  {
   "cell_type": "code",
   "execution_count": 4,
   "metadata": {},
   "outputs": [
    {
     "data": {
      "text/plain": [
       "array(['BM', 'US', 'Global', 'EM', 'DM', 'UST'], dtype=object)"
      ]
     },
     "execution_count": 4,
     "metadata": {},
     "output_type": "execute_result"
    }
   ],
   "source": [
    "regions = univ.region.unique(); regions"
   ]
  },
  {
   "cell_type": "code",
   "execution_count": 5,
   "metadata": {},
   "outputs": [
    {
     "data": {
      "text/plain": [
       "array(['BM', 'US_HD', 'US_HD_LV', 'US_DG', 'US_DG_QL', 'US_PS', 'Global',\n",
       "       'EM', 'DM', 'UST'], dtype=object)"
      ]
     },
     "execution_count": 5,
     "metadata": {},
     "output_type": "execute_result"
    }
   ],
   "source": [
    "cats = univ.category.unique(); cats"
   ]
  },
  {
   "cell_type": "code",
   "execution_count": 6,
   "metadata": {},
   "outputs": [],
   "source": [
    "prices = pd.read_excel(xl, sheet_name='price', index_col=0)\n",
    "rtns = np.log(prices).diff(); rtns;"
   ]
  },
  {
   "cell_type": "code",
   "execution_count": 7,
   "metadata": {},
   "outputs": [],
   "source": [
    "dvds = pd.read_excel(xl, sheet_name='dvd', index_col=0); dvds;"
   ]
  },
  {
   "cell_type": "code",
   "execution_count": 8,
   "metadata": {},
   "outputs": [],
   "source": [
    "prices_bm = pd.read_excel(xl, sheet_name='bm', index_col=0)\n",
    "rtns_bm = np.log(prices_bm).diff(); rtns_bm;"
   ]
  },
  {
   "cell_type": "markdown",
   "metadata": {},
   "source": [
    "# 초기전략: 최적화만 하는 경우"
   ]
  },
  {
   "cell_type": "code",
   "execution_count": 9,
   "metadata": {
    "scrolled": true
   },
   "outputs": [
    {
     "data": {
      "application/vnd.jupyter.widget-view+json": {
       "model_id": "e0c4dd2b09b44249a86855fe63a6bc50",
       "version_major": 2,
       "version_minor": 0
      },
      "text/plain": [
       "HBox(children=(IntProgress(value=0, max=109), HTML(value='')))"
      ]
     },
     "metadata": {},
     "output_type": "display_data"
    },
    {
     "name": "stdout",
     "output_type": "stream",
     "text": [
      "\n"
     ]
    }
   ],
   "source": [
    "'''\n",
    "변수설정\n",
    "'''\n",
    "n_dates = len(rtns)\n",
    "n_cov = 12             # cov 계산 개월수\n",
    "\n",
    "bm_w_max = 0.30\n",
    "w_max = 0.10           # 종목 최대비중\n",
    "w_us_min = 0.4         # 미국 최소비중\n",
    "w_us_max = 0.8         # 미국 최대비중\n",
    "w_ps_max = 0.1         # 우선주 최대비중\n",
    "dvd_min = 3          # 포트폴리오 최소 배당수익률\n",
    "te_limit_max = 0.10\n",
    "te_limit_min = 0.015\n",
    "\n",
    "n = len(rtns.columns)  # 종목수\n",
    "dates_rng = range(n_cov, n_dates)\n",
    "weights = np.zeros((len(dates_rng), n))\n",
    "result = {}\n",
    "\n",
    "\n",
    "def covar(rt):\n",
    "    _cov = rt.cov(min_periods=n_cov/2)\n",
    "    _exc = _cov.iloc[0].isna()\n",
    "#     _cov = _cov.fillna(0) + np.diag(_exc*1)\n",
    "    \n",
    "#     min_eig = np.min(np.real(np.linalg.eigvals(_cov)))\n",
    "    \n",
    "#     if min_eig < 0:\n",
    "#         #print(date, min_eig)\n",
    "#         _cov -= 10*min_eig * np.eye(*_cov.shape)\n",
    "    \n",
    "    return _cov.fillna(0), _exc\n",
    "\n",
    "\n",
    "for i in tqdm_notebook(dates_rng[:]):\n",
    "    date = rtns.index[i]\n",
    "    \n",
    "    _rtns = rtns.iloc[i-11:i+1]\n",
    "    cov, exc = covar(_rtns)\n",
    "    dvd = dvds.iloc[i]\n",
    "    \n",
    "    investable = 1 - (dvd.isna() | _rtns.iloc[-1].isna() | exc)\n",
    "    investable.iloc[-2:] = 0\n",
    "    _w_max = w_max*investable\n",
    "    _w_max.iloc[0] = bm_w_max\n",
    "    bounds = list(zip(np.zeros(n), _w_max))\n",
    "    w_p0 = investable.values / investable.sum()\n",
    "\n",
    "    \n",
    "    def objective(w_p):\n",
    "        return -sharpe(w_p)\n",
    "        #return -ir(w_p)\n",
    "    \n",
    "    \n",
    "    def sharpe(w_p):\n",
    "        _rp = rtn_projection(w_p)\n",
    "        _vol = vol(w_p)\n",
    "        return _rp / _vol\n",
    "\n",
    "    def ir(w_p):\n",
    "        _rp = rtn_projection(w_p, rel=True)\n",
    "        _te = te(w_p)\n",
    "        return _rp / _te\n",
    "    \n",
    "    \n",
    "    def rtn_projection(w_p, rel=False):\n",
    "        _rtns_sum = _rtns.iloc[:-1].sum().fillna(0)\n",
    "        _proj = _rtns_sum @ w_p\n",
    "        \n",
    "        if rel:\n",
    "            return _proj - _rtns_sum[0]\n",
    "        else:\n",
    "            return _proj\n",
    "        \n",
    "    \n",
    "    def vol(w_p, te=False):\n",
    "        ww = w_p.copy()\n",
    "        if te: ww[0] -= 1\n",
    "        var = 12 * (ww @ cov @ ww)\n",
    "        return var**0.5\n",
    "        \n",
    "        \n",
    "    def te(w_p):\n",
    "        return vol(w_p, te=True)\n",
    "\n",
    "    def te_max(w_p):\n",
    "        return te_limit_max - te(w_p)\n",
    "    \n",
    "    def te_min(w_p):\n",
    "        return te(w_p) - te_limit_min\n",
    "    \n",
    "    def sum_to_one(w_p):\n",
    "        return 1 - w_p.sum()\n",
    "    \n",
    "    # 미국 최소비중\n",
    "    def us_min(w_p):\n",
    "        return w_p[0]/2 + w_p[1:25].sum() - w_us_min\n",
    "\n",
    "    # 미국 최대비중\n",
    "    def us_max(w_p):\n",
    "        return w_us_max - w_p[0]/2 - w_p[1:25].sum()\n",
    "    \n",
    "    # 우선주 최대비중\n",
    "    def ps_max(w_p):\n",
    "        return w_ps_max - w_p[20:25].sum()\n",
    "\n",
    "    \n",
    "    def port_dvd(w_p):\n",
    "        return dvd.fillna(0) @ w_p\n",
    "    \n",
    "    \n",
    "    # 포트폴리오 최소 배당수익률\n",
    "    def dvd_sum_min(w_p):\n",
    "        return port_dvd(w_p) - dvd_min\n",
    "\n",
    "    \n",
    "    resp = fmin_slsqp(objective, w_p0, \n",
    "                      eqcons=[sum_to_one], \n",
    "                      ieqcons=[\n",
    "                          us_min, \n",
    "                          us_max, \n",
    "                          ps_max, \n",
    "                          dvd_sum_min, \n",
    "                          te_max, \n",
    "                          te_min\n",
    "                      ], \n",
    "                      bounds=bounds, \n",
    "                      iter=1000, full_output=True, iprint=0)\n",
    "    \n",
    "    if resp[3]==0:\n",
    "        pos = resp[0]\n",
    "        weights[i-n_cov,:] = pos\n",
    "        \n",
    "        result[date] = {\n",
    "            'sharpe': -resp[1], \n",
    "            'w_total': pos.sum(),\n",
    "            'dvd': port_dvd(pos), \n",
    "            'te': te(pos), \n",
    "        }\n",
    "        \n",
    "    else:\n",
    "        print(date, resp[-1])"
   ]
  },
  {
   "cell_type": "code",
   "execution_count": 10,
   "metadata": {},
   "outputs": [
    {
     "data": {
      "text/html": [
       "<div>\n",
       "<style scoped>\n",
       "    .dataframe tbody tr th:only-of-type {\n",
       "        vertical-align: middle;\n",
       "    }\n",
       "\n",
       "    .dataframe tbody tr th {\n",
       "        vertical-align: top;\n",
       "    }\n",
       "\n",
       "    .dataframe thead th {\n",
       "        text-align: right;\n",
       "    }\n",
       "</style>\n",
       "<table border=\"1\" class=\"dataframe\">\n",
       "  <thead>\n",
       "    <tr style=\"text-align: right;\">\n",
       "      <th></th>\n",
       "      <th>sharpe</th>\n",
       "      <th>w_total</th>\n",
       "      <th>dvd</th>\n",
       "      <th>te</th>\n",
       "    </tr>\n",
       "  </thead>\n",
       "  <tbody>\n",
       "    <tr>\n",
       "      <td>2010-12-31</td>\n",
       "      <td>0.808881</td>\n",
       "      <td>1.0</td>\n",
       "      <td>3.656554</td>\n",
       "      <td>0.066882</td>\n",
       "    </tr>\n",
       "    <tr>\n",
       "      <td>2011-01-31</td>\n",
       "      <td>1.349613</td>\n",
       "      <td>1.0</td>\n",
       "      <td>3.659030</td>\n",
       "      <td>0.067318</td>\n",
       "    </tr>\n",
       "    <tr>\n",
       "      <td>2011-02-28</td>\n",
       "      <td>1.166362</td>\n",
       "      <td>1.0</td>\n",
       "      <td>3.378760</td>\n",
       "      <td>0.067344</td>\n",
       "    </tr>\n",
       "    <tr>\n",
       "      <td>2011-03-31</td>\n",
       "      <td>1.001284</td>\n",
       "      <td>1.0</td>\n",
       "      <td>3.387890</td>\n",
       "      <td>0.072239</td>\n",
       "    </tr>\n",
       "    <tr>\n",
       "      <td>2011-04-29</td>\n",
       "      <td>1.019097</td>\n",
       "      <td>1.0</td>\n",
       "      <td>3.205240</td>\n",
       "      <td>0.069692</td>\n",
       "    </tr>\n",
       "    <tr>\n",
       "      <td>...</td>\n",
       "      <td>...</td>\n",
       "      <td>...</td>\n",
       "      <td>...</td>\n",
       "      <td>...</td>\n",
       "    </tr>\n",
       "    <tr>\n",
       "      <td>2019-08-30</td>\n",
       "      <td>0.525602</td>\n",
       "      <td>1.0</td>\n",
       "      <td>3.474570</td>\n",
       "      <td>0.045475</td>\n",
       "    </tr>\n",
       "    <tr>\n",
       "      <td>2019-09-30</td>\n",
       "      <td>0.353497</td>\n",
       "      <td>1.0</td>\n",
       "      <td>3.354760</td>\n",
       "      <td>0.045688</td>\n",
       "    </tr>\n",
       "    <tr>\n",
       "      <td>2019-10-31</td>\n",
       "      <td>0.968002</td>\n",
       "      <td>1.0</td>\n",
       "      <td>3.066550</td>\n",
       "      <td>0.037598</td>\n",
       "    </tr>\n",
       "    <tr>\n",
       "      <td>2019-11-29</td>\n",
       "      <td>0.835923</td>\n",
       "      <td>1.0</td>\n",
       "      <td>3.299937</td>\n",
       "      <td>0.032061</td>\n",
       "    </tr>\n",
       "    <tr>\n",
       "      <td>2019-12-31</td>\n",
       "      <td>2.008837</td>\n",
       "      <td>1.0</td>\n",
       "      <td>3.000000</td>\n",
       "      <td>0.034651</td>\n",
       "    </tr>\n",
       "  </tbody>\n",
       "</table>\n",
       "<p>109 rows × 4 columns</p>\n",
       "</div>"
      ],
      "text/plain": [
       "              sharpe  w_total       dvd        te\n",
       "2010-12-31  0.808881      1.0  3.656554  0.066882\n",
       "2011-01-31  1.349613      1.0  3.659030  0.067318\n",
       "2011-02-28  1.166362      1.0  3.378760  0.067344\n",
       "2011-03-31  1.001284      1.0  3.387890  0.072239\n",
       "2011-04-29  1.019097      1.0  3.205240  0.069692\n",
       "...              ...      ...       ...       ...\n",
       "2019-08-30  0.525602      1.0  3.474570  0.045475\n",
       "2019-09-30  0.353497      1.0  3.354760  0.045688\n",
       "2019-10-31  0.968002      1.0  3.066550  0.037598\n",
       "2019-11-29  0.835923      1.0  3.299937  0.032061\n",
       "2019-12-31  2.008837      1.0  3.000000  0.034651\n",
       "\n",
       "[109 rows x 4 columns]"
      ]
     },
     "execution_count": 10,
     "metadata": {},
     "output_type": "execute_result"
    }
   ],
   "source": [
    "df_result = pd.DataFrame(result).T; df_result"
   ]
  },
  {
   "cell_type": "code",
   "execution_count": 11,
   "metadata": {},
   "outputs": [
    {
     "data": {
      "text/plain": [
       "<matplotlib.axes._subplots.AxesSubplot at 0x1d865d11ef0>"
      ]
     },
     "execution_count": 11,
     "metadata": {},
     "output_type": "execute_result"
    },
    {
     "data": {
      "image/png": "[encoded data removed]",
      "text/plain": [
       "<Figure size 432x288 with 1 Axes>"
      ]
     },
     "metadata": {
      "needs_background": "light"
     },
     "output_type": "display_data"
    }
   ],
   "source": [
    "df_result.te.plot()"
   ]
  },
  {
   "cell_type": "code",
   "execution_count": 12,
   "metadata": {
    "scrolled": true
   },
   "outputs": [],
   "source": [
    "df_w = pd.DataFrame(weights, index=df_result.index, columns=dvds.columns).shift(1); df_w;"
   ]
  },
  {
   "cell_type": "code",
   "execution_count": 13,
   "metadata": {
    "scrolled": true
   },
   "outputs": [],
   "source": [
    "df_w.iloc[-10].round(4);"
   ]
  },
  {
   "cell_type": "code",
   "execution_count": 14,
   "metadata": {},
   "outputs": [
    {
     "data": {
      "text/plain": [
       "<matplotlib.axes._subplots.AxesSubplot at 0x1d8664ebb00>"
      ]
     },
     "execution_count": 14,
     "metadata": {},
     "output_type": "execute_result"
    },
    {
     "data": {
      "image/png": "[encoded data removed]",
      "text/plain": [
       "<Figure size 432x288 with 1 Axes>"
      ]
     },
     "metadata": {
      "needs_background": "light"
     },
     "output_type": "display_data"
    }
   ],
   "source": [
    "df_w.ACWI.plot()"
   ]
  },
  {
   "cell_type": "code",
   "execution_count": 15,
   "metadata": {
    "scrolled": true
   },
   "outputs": [],
   "source": [
    "df_rtns = rtns.loc[df_result.index, dvds.columns]; df_rtns;"
   ]
  },
  {
   "cell_type": "code",
   "execution_count": 16,
   "metadata": {
    "scrolled": true
   },
   "outputs": [],
   "source": [
    "cum_port0 = (df_w*df_rtns).sum(axis=1).cumsum(); cum_port0;"
   ]
  },
  {
   "cell_type": "code",
   "execution_count": 17,
   "metadata": {},
   "outputs": [],
   "source": [
    "cum_bm = rtns_bm.loc[df_result.index]['ACWI TR']\n",
    "cum_bm.iloc[0] = 0\n",
    "cum_bm = cum_bm.cumsum(); cum_bm;"
   ]
  },
  {
   "cell_type": "code",
   "execution_count": 18,
   "metadata": {},
   "outputs": [
    {
     "data": {
      "text/plain": [
       "<matplotlib.axes._subplots.AxesSubplot at 0x1d8665bf390>"
      ]
     },
     "execution_count": 18,
     "metadata": {},
     "output_type": "execute_result"
    },
    {
     "data": {
      "image/png": "[encoded data removed]",
      "text/plain": [
       "<Figure size 432x288 with 1 Axes>"
      ]
     },
     "metadata": {
      "needs_background": "light"
     },
     "output_type": "display_data"
    }
   ],
   "source": [
    "cum = np.exp(pd.DataFrame({'port_0':cum_port0, 'bm':cum_bm}))#.iloc[:-1]\n",
    "cum.plot()"
   ]
  },
  {
   "cell_type": "code",
   "execution_count": 19,
   "metadata": {},
   "outputs": [
    {
     "data": {
      "text/html": [
       "<div>\n",
       "<style scoped>\n",
       "    .dataframe tbody tr th:only-of-type {\n",
       "        vertical-align: middle;\n",
       "    }\n",
       "\n",
       "    .dataframe tbody tr th {\n",
       "        vertical-align: top;\n",
       "    }\n",
       "\n",
       "    .dataframe thead th {\n",
       "        text-align: right;\n",
       "    }\n",
       "</style>\n",
       "<table border=\"1\" class=\"dataframe\">\n",
       "  <thead>\n",
       "    <tr style=\"text-align: right;\">\n",
       "      <th></th>\n",
       "      <th>cagr</th>\n",
       "      <th>std</th>\n",
       "      <th>rar</th>\n",
       "      <th>cagr_ex</th>\n",
       "      <th>te</th>\n",
       "      <th>ir</th>\n",
       "    </tr>\n",
       "  </thead>\n",
       "  <tbody>\n",
       "    <tr>\n",
       "      <td>port_0</td>\n",
       "      <td>10.43</td>\n",
       "      <td>9.53</td>\n",
       "      <td>1.09</td>\n",
       "      <td>2.06</td>\n",
       "      <td>5.04</td>\n",
       "      <td>0.41</td>\n",
       "    </tr>\n",
       "    <tr>\n",
       "      <td>bm</td>\n",
       "      <td>8.37</td>\n",
       "      <td>12.25</td>\n",
       "      <td>0.68</td>\n",
       "      <td>0.00</td>\n",
       "      <td>0.00</td>\n",
       "      <td>0.00</td>\n",
       "    </tr>\n",
       "  </tbody>\n",
       "</table>\n",
       "</div>"
      ],
      "text/plain": [
       "         cagr    std   rar  cagr_ex    te    ir\n",
       "port_0  10.43   9.53  1.09     2.06  5.04  0.41\n",
       "bm       8.37  12.25  0.68     0.00  0.00  0.00"
      ]
     },
     "execution_count": 19,
     "metadata": {},
     "output_type": "execute_result"
    }
   ],
   "source": [
    "std = cum.pct_change().std()*(12**0.5) * 100\n",
    "cagr = (cum.iloc[-1]**(12/(len(cum)-1))-1) * 100\n",
    "rar = cagr/std\n",
    "stats = pd.DataFrame({'cagr':cagr, 'std':std, 'rar':rar})\n",
    "stats['cagr_ex'] = stats.cagr - stats.cagr['bm']\n",
    "stats['te'] = cum.pct_change().sub(cum.bm.pct_change(), axis=0).std()*(12**0.5) * 100\n",
    "stats['ir'] = (stats.cagr_ex/stats.te).fillna(0)\n",
    "stats.round(2)"
   ]
  },
  {
   "cell_type": "code",
   "execution_count": 1513,
   "metadata": {},
   "outputs": [
    {
     "data": {
      "text/html": [
       "<div>\n",
       "<style scoped>\n",
       "    .dataframe tbody tr th:only-of-type {\n",
       "        vertical-align: middle;\n",
       "    }\n",
       "\n",
       "    .dataframe tbody tr th {\n",
       "        vertical-align: top;\n",
       "    }\n",
       "\n",
       "    .dataframe thead th {\n",
       "        text-align: right;\n",
       "    }\n",
       "</style>\n",
       "<table border=\"1\" class=\"dataframe\">\n",
       "  <thead>\n",
       "    <tr style=\"text-align: right;\">\n",
       "      <th></th>\n",
       "      <th>cagr</th>\n",
       "      <th>std</th>\n",
       "      <th>rar</th>\n",
       "      <th>cagr_ex</th>\n",
       "      <th>te</th>\n",
       "      <th>ir</th>\n",
       "    </tr>\n",
       "  </thead>\n",
       "  <tbody>\n",
       "    <tr>\n",
       "      <td>port_0</td>\n",
       "      <td>10.43</td>\n",
       "      <td>9.53</td>\n",
       "      <td>1.09</td>\n",
       "      <td>2.06</td>\n",
       "      <td>5.04</td>\n",
       "      <td>0.41</td>\n",
       "    </tr>\n",
       "    <tr>\n",
       "      <td>bm</td>\n",
       "      <td>8.37</td>\n",
       "      <td>12.25</td>\n",
       "      <td>0.68</td>\n",
       "      <td>0.00</td>\n",
       "      <td>0.00</td>\n",
       "      <td>0.00</td>\n",
       "    </tr>\n",
       "  </tbody>\n",
       "</table>\n",
       "</div>"
      ],
      "text/plain": [
       "         cagr    std   rar  cagr_ex    te    ir\n",
       "port_0  10.43   9.53  1.09     2.06  5.04  0.41\n",
       "bm       8.37  12.25  0.68     0.00  0.00  0.00"
      ]
     },
     "execution_count": 1513,
     "metadata": {},
     "output_type": "execute_result"
    }
   ],
   "source": [
    "std = cum.pct_change().std()*(12**0.5) * 100\n",
    "cagr = (cum.iloc[-1]**(12/(len(cum)-1))-1) * 100\n",
    "rar = cagr/std\n",
    "stats = pd.DataFrame({'cagr':cagr, 'std':std, 'rar':rar})\n",
    "stats['cagr_ex'] = stats.cagr - stats.cagr['bm']\n",
    "stats['te'] = cum.pct_change().sub(cum.bm.pct_change(), axis=0).std()*(12**0.5) * 100\n",
    "stats['ir'] = (stats.cagr_ex/stats.te).fillna(0)\n",
    "stats.round(2)"
   ]
  },
  {
   "cell_type": "code",
   "execution_count": null,
   "metadata": {},
   "outputs": [],
   "source": []
  },
  {
   "cell_type": "code",
   "execution_count": null,
   "metadata": {},
   "outputs": [],
   "source": []
  },
  {
   "cell_type": "markdown",
   "metadata": {},
   "source": [
    "# 모멘텀 종목 고르는 경우"
   ]
  },
  {
   "cell_type": "code",
   "execution_count": 1597,
   "metadata": {},
   "outputs": [
    {
     "data": {
      "application/vnd.jupyter.widget-view+json": {
       "model_id": "b17b684fb4e548a0b1941d6aa8ad137c",
       "version_major": 2,
       "version_minor": 0
      },
      "text/plain": [
       "HBox(children=(IntProgress(value=0, max=109), HTML(value='')))"
      ]
     },
     "metadata": {},
     "output_type": "display_data"
    },
    {
     "name": "stdout",
     "output_type": "stream",
     "text": [
      "\n"
     ]
    }
   ],
   "source": [
    "'''\n",
    "변수설정\n",
    "'''\n",
    "n_dates = len(rtns)\n",
    "n_cov = 12             # cov 계산 개월수\n",
    "\n",
    "bm_w_max = 0.30\n",
    "w_max = 0.10           # 종목 최대비중\n",
    "w_us_min = 0.4         # 미국 최소비중\n",
    "w_us_max = 0.8         # 미국 최대비중\n",
    "w_ps_max = 0.1         # 우선주 최대비중\n",
    "dvd_min = 3          # 포트폴리오 최소 배당수익률\n",
    "te_limit_max = 0.10\n",
    "te_limit_min = 0.015\n",
    "\n",
    "n = len(rtns.columns)  # 종목수\n",
    "dates_rng = range(n_cov, n_dates)\n",
    "weights = np.zeros((len(dates_rng), n))\n",
    "result = {}\n",
    "\n",
    "\n",
    "def covar(rt):\n",
    "    _cov = rt.cov(min_periods=n_cov/2)\n",
    "    _exc = _cov.iloc[0].isna()\n",
    "    return _cov.fillna(0), _exc\n",
    "\n",
    "\n",
    "# 모멘텀 종목 걸러내기\n",
    "def has_momentum(rt, n_filter, dv):\n",
    "    #univ['momentum'] = dv.values\n",
    "    #univ['momentum'] = (-rt.iloc[-1:].mean()/dv).values\n",
    "    univ['momentum'] = (-(rt.iloc[-1:].mean() - rt.iloc[-3:].mean())/(rt.iloc[-3:].std())).values\n",
    "    #univ['momentum'] = (-(rt.iloc[-1:].mean() - rt.iloc[-3:].mean())/(dv)).values\n",
    "    #univ['momentum'] = (-(rt.iloc[:-1].sum())/(dv)).values\n",
    "    return univ.groupby('category')['momentum'].rank(ascending=False, pct=True, na_option='bottom') <= n_filter\n",
    "    #return univ['momentum'].rank(ascending=False, pct=True, na_option='bottom') <= n_filter\n",
    "\n",
    "\n",
    "for i in tqdm_notebook(dates_rng[:]):\n",
    "    date = rtns.index[i]\n",
    "    \n",
    "    _rtns = rtns.iloc[i-11:i+1]\n",
    "    cov, exc = covar(_rtns)\n",
    "    dvd = dvds.iloc[i]\n",
    "    ddvd = (dvds.iloc[i] - dvds.iloc[i-1])# / dvds.iloc[i-3]\n",
    "    \n",
    "    investable = 1 - (dvd.isna() | _rtns.iloc[-1].isna() | exc)\n",
    "    investable = investable.values * has_momentum(_rtns, 0.5, dvd)\n",
    "    #set_trace()\n",
    "    investable.iloc[0] = 1\n",
    "    investable.iloc[-2:] = 0\n",
    "    _w_max = w_max*investable\n",
    "    _w_max.iloc[0] = bm_w_max\n",
    "    bounds = list(zip(np.zeros(n), _w_max))\n",
    "    w_p0 = investable.values / investable.sum()\n",
    "\n",
    "    \n",
    "    def objective(w_p):\n",
    "        return -sharpe(w_p)\n",
    "        #return -ir(w_p)\n",
    "    \n",
    "    \n",
    "    def sharpe(w_p):\n",
    "        _rp = rtn_projection(w_p)\n",
    "        _vol = vol(w_p)\n",
    "        return _rp / _vol\n",
    "\n",
    "    def ir(w_p):\n",
    "        _rp = rtn_projection(w_p, rel=True)\n",
    "        _te = te(w_p)\n",
    "        return _rp / _te\n",
    "    \n",
    "    \n",
    "    def rtn_projection(w_p, rel=False):\n",
    "        _rtns_sum = _rtns.iloc[:-1].sum().fillna(0)\n",
    "        _proj = _rtns_sum @ w_p\n",
    "        \n",
    "        if rel:\n",
    "            return _proj - _rtns_sum[0]\n",
    "        else:\n",
    "            return _proj\n",
    "        \n",
    "    \n",
    "    def vol(w_p, te=False):\n",
    "        ww = w_p.copy()\n",
    "        if te: ww[0] -= 1\n",
    "        var = 12 * (ww @ cov @ ww)\n",
    "        return var**0.5\n",
    "        \n",
    "        \n",
    "    def te(w_p):\n",
    "        return vol(w_p, te=True)\n",
    "\n",
    "    def te_max(w_p):\n",
    "        return te_limit_max - te(w_p)\n",
    "    \n",
    "    def te_min(w_p):\n",
    "        return te(w_p) - te_limit_min\n",
    "    \n",
    "    def sum_to_one(w_p):\n",
    "        return 1 - w_p.sum()\n",
    "    \n",
    "    # 미국 최소비중\n",
    "    def us_min(w_p):\n",
    "        return w_p[0]/2 + w_p[1:25].sum() - w_us_min\n",
    "\n",
    "    # 미국 최대비중\n",
    "    def us_max(w_p):\n",
    "        return w_us_max - w_p[0]/2 - w_p[1:25].sum()\n",
    "    \n",
    "    # 우선주 최대비중\n",
    "    def ps_max(w_p):\n",
    "        return w_ps_max - w_p[20:25].sum()\n",
    "\n",
    "    \n",
    "    def port_dvd(w_p):\n",
    "        return dvd.fillna(0) @ w_p\n",
    "    \n",
    "    \n",
    "    # 포트폴리오 최소 배당수익률\n",
    "    def dvd_sum_min(w_p):\n",
    "        return port_dvd(w_p) - dvd_min\n",
    "\n",
    "    \n",
    "    resp = fmin_slsqp(objective, w_p0, \n",
    "                      eqcons=[sum_to_one], \n",
    "                      ieqcons=[\n",
    "                          us_min, \n",
    "                          us_max, \n",
    "                          ps_max, \n",
    "                          dvd_sum_min, \n",
    "                          te_max, \n",
    "                          te_min\n",
    "                      ], \n",
    "                      bounds=bounds, \n",
    "                      iter=1000, full_output=True, iprint=0)\n",
    "    \n",
    "    if resp[3]==0:\n",
    "        pos = resp[0]\n",
    "        \n",
    "    else:\n",
    "        pos = w_p0\n",
    "        print(date, resp[-1])\n",
    "\n",
    "        \n",
    "    weights[i-n_cov,:] = pos\n",
    "    result[date] = {\n",
    "        'sharpe': -resp[1], \n",
    "        'w_total': pos.sum(),\n",
    "        'dvd': port_dvd(pos), \n",
    "        'te': te(pos), \n",
    "    }"
   ]
  },
  {
   "cell_type": "code",
   "execution_count": 1598,
   "metadata": {
    "scrolled": true
   },
   "outputs": [
    {
     "data": {
      "text/plain": [
       "<matplotlib.axes._subplots.AxesSubplot at 0x16886942518>"
      ]
     },
     "execution_count": 1598,
     "metadata": {},
     "output_type": "execute_result"
    },
    {
     "data": {
      "image/png": "[encoded data removed]",
      "text/plain": [
       "<Figure size 432x288 with 1 Axes>"
      ]
     },
     "metadata": {
      "needs_background": "light"
     },
     "output_type": "display_data"
    }
   ],
   "source": [
    "df_result = pd.DataFrame(result).T; df_result.te.plot()"
   ]
  },
  {
   "cell_type": "code",
   "execution_count": 1599,
   "metadata": {},
   "outputs": [],
   "source": [
    "df_w = pd.DataFrame(weights, index=df_result.index, columns=dvds.columns).shift(1)"
   ]
  },
  {
   "cell_type": "code",
   "execution_count": 1600,
   "metadata": {},
   "outputs": [
    {
     "data": {
      "text/html": [
       "<div>\n",
       "<style scoped>\n",
       "    .dataframe tbody tr th:only-of-type {\n",
       "        vertical-align: middle;\n",
       "    }\n",
       "\n",
       "    .dataframe tbody tr th {\n",
       "        vertical-align: top;\n",
       "    }\n",
       "\n",
       "    .dataframe thead th {\n",
       "        text-align: right;\n",
       "    }\n",
       "</style>\n",
       "<table border=\"1\" class=\"dataframe\">\n",
       "  <thead>\n",
       "    <tr style=\"text-align: right;\">\n",
       "      <th></th>\n",
       "      <th>ACWI</th>\n",
       "      <th>VYM</th>\n",
       "      <th>HDV</th>\n",
       "      <th>FDL</th>\n",
       "      <th>SPYD</th>\n",
       "      <th>DVY</th>\n",
       "      <th>SCHD</th>\n",
       "      <th>FVD</th>\n",
       "      <th>RDIV</th>\n",
       "      <th>DHS</th>\n",
       "      <th>...</th>\n",
       "      <th>PID</th>\n",
       "      <th>VYMI</th>\n",
       "      <th>SDIV</th>\n",
       "      <th>DEM</th>\n",
       "      <th>DGS</th>\n",
       "      <th>DVYE</th>\n",
       "      <th>IDV</th>\n",
       "      <th>DLS</th>\n",
       "      <th>SHY</th>\n",
       "      <th>TLT</th>\n",
       "    </tr>\n",
       "  </thead>\n",
       "  <tbody>\n",
       "    <tr>\n",
       "      <td>2010-12-31</td>\n",
       "      <td>NaN</td>\n",
       "      <td>NaN</td>\n",
       "      <td>NaN</td>\n",
       "      <td>NaN</td>\n",
       "      <td>NaN</td>\n",
       "      <td>NaN</td>\n",
       "      <td>NaN</td>\n",
       "      <td>NaN</td>\n",
       "      <td>NaN</td>\n",
       "      <td>NaN</td>\n",
       "      <td>...</td>\n",
       "      <td>NaN</td>\n",
       "      <td>NaN</td>\n",
       "      <td>NaN</td>\n",
       "      <td>NaN</td>\n",
       "      <td>NaN</td>\n",
       "      <td>NaN</td>\n",
       "      <td>NaN</td>\n",
       "      <td>NaN</td>\n",
       "      <td>NaN</td>\n",
       "      <td>NaN</td>\n",
       "    </tr>\n",
       "    <tr>\n",
       "      <td>2011-01-31</td>\n",
       "      <td>0.000</td>\n",
       "      <td>0.1</td>\n",
       "      <td>0.0</td>\n",
       "      <td>0.0</td>\n",
       "      <td>0.0</td>\n",
       "      <td>0.1</td>\n",
       "      <td>0.0</td>\n",
       "      <td>0.1</td>\n",
       "      <td>0.0</td>\n",
       "      <td>0.1</td>\n",
       "      <td>...</td>\n",
       "      <td>0.1</td>\n",
       "      <td>0.0</td>\n",
       "      <td>0.0</td>\n",
       "      <td>0.0</td>\n",
       "      <td>0.1</td>\n",
       "      <td>0.000</td>\n",
       "      <td>0.0</td>\n",
       "      <td>0.0</td>\n",
       "      <td>0.0</td>\n",
       "      <td>0.0</td>\n",
       "    </tr>\n",
       "    <tr>\n",
       "      <td>2011-02-28</td>\n",
       "      <td>0.000</td>\n",
       "      <td>0.1</td>\n",
       "      <td>0.0</td>\n",
       "      <td>0.1</td>\n",
       "      <td>0.0</td>\n",
       "      <td>0.1</td>\n",
       "      <td>0.0</td>\n",
       "      <td>0.0</td>\n",
       "      <td>0.0</td>\n",
       "      <td>0.1</td>\n",
       "      <td>...</td>\n",
       "      <td>0.1</td>\n",
       "      <td>0.0</td>\n",
       "      <td>0.0</td>\n",
       "      <td>0.0</td>\n",
       "      <td>0.1</td>\n",
       "      <td>0.000</td>\n",
       "      <td>0.0</td>\n",
       "      <td>0.0</td>\n",
       "      <td>0.0</td>\n",
       "      <td>0.0</td>\n",
       "    </tr>\n",
       "    <tr>\n",
       "      <td>2011-03-31</td>\n",
       "      <td>0.000</td>\n",
       "      <td>0.1</td>\n",
       "      <td>0.0</td>\n",
       "      <td>0.1</td>\n",
       "      <td>0.0</td>\n",
       "      <td>0.1</td>\n",
       "      <td>0.0</td>\n",
       "      <td>0.1</td>\n",
       "      <td>0.0</td>\n",
       "      <td>0.0</td>\n",
       "      <td>...</td>\n",
       "      <td>0.1</td>\n",
       "      <td>0.0</td>\n",
       "      <td>0.0</td>\n",
       "      <td>0.0</td>\n",
       "      <td>0.1</td>\n",
       "      <td>0.000</td>\n",
       "      <td>0.0</td>\n",
       "      <td>0.0</td>\n",
       "      <td>0.0</td>\n",
       "      <td>0.0</td>\n",
       "    </tr>\n",
       "    <tr>\n",
       "      <td>2011-04-29</td>\n",
       "      <td>0.000</td>\n",
       "      <td>0.1</td>\n",
       "      <td>0.0</td>\n",
       "      <td>0.1</td>\n",
       "      <td>0.0</td>\n",
       "      <td>0.0</td>\n",
       "      <td>0.0</td>\n",
       "      <td>0.1</td>\n",
       "      <td>0.0</td>\n",
       "      <td>0.1</td>\n",
       "      <td>...</td>\n",
       "      <td>0.1</td>\n",
       "      <td>0.0</td>\n",
       "      <td>0.0</td>\n",
       "      <td>0.1</td>\n",
       "      <td>0.0</td>\n",
       "      <td>0.000</td>\n",
       "      <td>0.0</td>\n",
       "      <td>0.0</td>\n",
       "      <td>0.0</td>\n",
       "      <td>0.0</td>\n",
       "    </tr>\n",
       "    <tr>\n",
       "      <td>...</td>\n",
       "      <td>...</td>\n",
       "      <td>...</td>\n",
       "      <td>...</td>\n",
       "      <td>...</td>\n",
       "      <td>...</td>\n",
       "      <td>...</td>\n",
       "      <td>...</td>\n",
       "      <td>...</td>\n",
       "      <td>...</td>\n",
       "      <td>...</td>\n",
       "      <td>...</td>\n",
       "      <td>...</td>\n",
       "      <td>...</td>\n",
       "      <td>...</td>\n",
       "      <td>...</td>\n",
       "      <td>...</td>\n",
       "      <td>...</td>\n",
       "      <td>...</td>\n",
       "      <td>...</td>\n",
       "      <td>...</td>\n",
       "      <td>...</td>\n",
       "    </tr>\n",
       "    <tr>\n",
       "      <td>2019-08-30</td>\n",
       "      <td>0.000</td>\n",
       "      <td>0.0</td>\n",
       "      <td>0.1</td>\n",
       "      <td>0.1</td>\n",
       "      <td>0.1</td>\n",
       "      <td>0.0</td>\n",
       "      <td>0.0</td>\n",
       "      <td>0.1</td>\n",
       "      <td>0.0</td>\n",
       "      <td>0.0</td>\n",
       "      <td>...</td>\n",
       "      <td>0.1</td>\n",
       "      <td>0.0</td>\n",
       "      <td>0.0</td>\n",
       "      <td>0.1</td>\n",
       "      <td>0.0</td>\n",
       "      <td>0.000</td>\n",
       "      <td>0.0</td>\n",
       "      <td>0.0</td>\n",
       "      <td>0.0</td>\n",
       "      <td>0.0</td>\n",
       "    </tr>\n",
       "    <tr>\n",
       "      <td>2019-09-30</td>\n",
       "      <td>0.200</td>\n",
       "      <td>0.0</td>\n",
       "      <td>0.0</td>\n",
       "      <td>0.1</td>\n",
       "      <td>0.1</td>\n",
       "      <td>0.0</td>\n",
       "      <td>0.0</td>\n",
       "      <td>0.0</td>\n",
       "      <td>0.0</td>\n",
       "      <td>0.1</td>\n",
       "      <td>...</td>\n",
       "      <td>0.0</td>\n",
       "      <td>0.0</td>\n",
       "      <td>0.0</td>\n",
       "      <td>0.0</td>\n",
       "      <td>0.0</td>\n",
       "      <td>0.100</td>\n",
       "      <td>0.0</td>\n",
       "      <td>0.0</td>\n",
       "      <td>0.0</td>\n",
       "      <td>0.0</td>\n",
       "    </tr>\n",
       "    <tr>\n",
       "      <td>2019-10-31</td>\n",
       "      <td>0.200</td>\n",
       "      <td>0.1</td>\n",
       "      <td>0.0</td>\n",
       "      <td>0.1</td>\n",
       "      <td>0.0</td>\n",
       "      <td>0.0</td>\n",
       "      <td>0.1</td>\n",
       "      <td>0.0</td>\n",
       "      <td>0.0</td>\n",
       "      <td>0.0</td>\n",
       "      <td>...</td>\n",
       "      <td>0.0</td>\n",
       "      <td>0.0</td>\n",
       "      <td>0.0</td>\n",
       "      <td>0.0</td>\n",
       "      <td>0.0</td>\n",
       "      <td>0.100</td>\n",
       "      <td>0.0</td>\n",
       "      <td>0.0</td>\n",
       "      <td>0.0</td>\n",
       "      <td>0.0</td>\n",
       "    </tr>\n",
       "    <tr>\n",
       "      <td>2019-11-29</td>\n",
       "      <td>0.295</td>\n",
       "      <td>0.0</td>\n",
       "      <td>0.0</td>\n",
       "      <td>0.0</td>\n",
       "      <td>0.0</td>\n",
       "      <td>0.0</td>\n",
       "      <td>0.0</td>\n",
       "      <td>0.1</td>\n",
       "      <td>0.0</td>\n",
       "      <td>0.1</td>\n",
       "      <td>...</td>\n",
       "      <td>0.1</td>\n",
       "      <td>0.0</td>\n",
       "      <td>0.0</td>\n",
       "      <td>0.0</td>\n",
       "      <td>0.0</td>\n",
       "      <td>0.005</td>\n",
       "      <td>0.0</td>\n",
       "      <td>0.0</td>\n",
       "      <td>0.0</td>\n",
       "      <td>0.0</td>\n",
       "    </tr>\n",
       "    <tr>\n",
       "      <td>2019-12-31</td>\n",
       "      <td>0.300</td>\n",
       "      <td>0.0</td>\n",
       "      <td>0.0</td>\n",
       "      <td>0.0</td>\n",
       "      <td>0.0</td>\n",
       "      <td>0.1</td>\n",
       "      <td>0.0</td>\n",
       "      <td>0.0</td>\n",
       "      <td>0.0</td>\n",
       "      <td>0.1</td>\n",
       "      <td>...</td>\n",
       "      <td>0.0</td>\n",
       "      <td>0.1</td>\n",
       "      <td>0.0</td>\n",
       "      <td>0.1</td>\n",
       "      <td>0.0</td>\n",
       "      <td>0.000</td>\n",
       "      <td>0.0</td>\n",
       "      <td>0.0</td>\n",
       "      <td>0.0</td>\n",
       "      <td>0.0</td>\n",
       "    </tr>\n",
       "  </tbody>\n",
       "</table>\n",
       "<p>109 rows × 35 columns</p>\n",
       "</div>"
      ],
      "text/plain": [
       "             ACWI  VYM  HDV  FDL  SPYD  DVY  SCHD  FVD  RDIV  DHS  ...  PID  \\\n",
       "2010-12-31    NaN  NaN  NaN  NaN   NaN  NaN   NaN  NaN   NaN  NaN  ...  NaN   \n",
       "2011-01-31  0.000  0.1  0.0  0.0   0.0  0.1   0.0  0.1   0.0  0.1  ...  0.1   \n",
       "2011-02-28  0.000  0.1  0.0  0.1   0.0  0.1   0.0  0.0   0.0  0.1  ...  0.1   \n",
       "2011-03-31  0.000  0.1  0.0  0.1   0.0  0.1   0.0  0.1   0.0  0.0  ...  0.1   \n",
       "2011-04-29  0.000  0.1  0.0  0.1   0.0  0.0   0.0  0.1   0.0  0.1  ...  0.1   \n",
       "...           ...  ...  ...  ...   ...  ...   ...  ...   ...  ...  ...  ...   \n",
       "2019-08-30  0.000  0.0  0.1  0.1   0.1  0.0   0.0  0.1   0.0  0.0  ...  0.1   \n",
       "2019-09-30  0.200  0.0  0.0  0.1   0.1  0.0   0.0  0.0   0.0  0.1  ...  0.0   \n",
       "2019-10-31  0.200  0.1  0.0  0.1   0.0  0.0   0.1  0.0   0.0  0.0  ...  0.0   \n",
       "2019-11-29  0.295  0.0  0.0  0.0   0.0  0.0   0.0  0.1   0.0  0.1  ...  0.1   \n",
       "2019-12-31  0.300  0.0  0.0  0.0   0.0  0.1   0.0  0.0   0.0  0.1  ...  0.0   \n",
       "\n",
       "            VYMI  SDIV  DEM  DGS   DVYE  IDV  DLS  SHY  TLT  \n",
       "2010-12-31   NaN   NaN  NaN  NaN    NaN  NaN  NaN  NaN  NaN  \n",
       "2011-01-31   0.0   0.0  0.0  0.1  0.000  0.0  0.0  0.0  0.0  \n",
       "2011-02-28   0.0   0.0  0.0  0.1  0.000  0.0  0.0  0.0  0.0  \n",
       "2011-03-31   0.0   0.0  0.0  0.1  0.000  0.0  0.0  0.0  0.0  \n",
       "2011-04-29   0.0   0.0  0.1  0.0  0.000  0.0  0.0  0.0  0.0  \n",
       "...          ...   ...  ...  ...    ...  ...  ...  ...  ...  \n",
       "2019-08-30   0.0   0.0  0.1  0.0  0.000  0.0  0.0  0.0  0.0  \n",
       "2019-09-30   0.0   0.0  0.0  0.0  0.100  0.0  0.0  0.0  0.0  \n",
       "2019-10-31   0.0   0.0  0.0  0.0  0.100  0.0  0.0  0.0  0.0  \n",
       "2019-11-29   0.0   0.0  0.0  0.0  0.005  0.0  0.0  0.0  0.0  \n",
       "2019-12-31   0.1   0.0  0.1  0.0  0.000  0.0  0.0  0.0  0.0  \n",
       "\n",
       "[109 rows x 35 columns]"
      ]
     },
     "execution_count": 1600,
     "metadata": {},
     "output_type": "execute_result"
    }
   ],
   "source": [
    "df_w.round(3)"
   ]
  },
  {
   "cell_type": "code",
   "execution_count": 1601,
   "metadata": {},
   "outputs": [
    {
     "data": {
      "text/plain": [
       "<matplotlib.axes._subplots.AxesSubplot at 0x16886a03908>"
      ]
     },
     "execution_count": 1601,
     "metadata": {},
     "output_type": "execute_result"
    },
    {
     "data": {
      "image/png": "[encoded data removed]",
      "text/plain": [
       "<Figure size 432x288 with 1 Axes>"
      ]
     },
     "metadata": {
      "needs_background": "light"
     },
     "output_type": "display_data"
    }
   ],
   "source": [
    "df_w.ACWI.plot()"
   ]
  },
  {
   "cell_type": "code",
   "execution_count": 1602,
   "metadata": {},
   "outputs": [],
   "source": [
    "df_rtns = rtns.loc[df_result.index, dvds.columns]"
   ]
  },
  {
   "cell_type": "code",
   "execution_count": 1603,
   "metadata": {},
   "outputs": [],
   "source": [
    "cum_port1 = (df_w*df_rtns).sum(axis=1).cumsum()"
   ]
  },
  {
   "cell_type": "code",
   "execution_count": 1604,
   "metadata": {},
   "outputs": [],
   "source": [
    "cum_bm = rtns_bm.loc[df_result.index]['ACWI TR']\n",
    "cum_bm.iloc[0] = 0\n",
    "cum_bm = cum_bm.cumsum(); cum_bm;"
   ]
  },
  {
   "cell_type": "code",
   "execution_count": 1605,
   "metadata": {
    "scrolled": true
   },
   "outputs": [
    {
     "data": {
      "text/plain": [
       "<matplotlib.axes._subplots.AxesSubplot at 0x16887a70ac8>"
      ]
     },
     "execution_count": 1605,
     "metadata": {},
     "output_type": "execute_result"
    },
    {
     "data": {
      "image/png": "[encoded data removed]",
      "text/plain": [
       "<Figure size 432x288 with 1 Axes>"
      ]
     },
     "metadata": {
      "needs_background": "light"
     },
     "output_type": "display_data"
    }
   ],
   "source": [
    "cum = np.exp(pd.DataFrame({'port_1':cum_port1, 'port_0':cum_port0, 'bm':cum_bm}))#.iloc[:-1]\n",
    "cum.plot()"
   ]
  },
  {
   "cell_type": "code",
   "execution_count": 1606,
   "metadata": {},
   "outputs": [
    {
     "data": {
      "text/html": [
       "<div>\n",
       "<style scoped>\n",
       "    .dataframe tbody tr th:only-of-type {\n",
       "        vertical-align: middle;\n",
       "    }\n",
       "\n",
       "    .dataframe tbody tr th {\n",
       "        vertical-align: top;\n",
       "    }\n",
       "\n",
       "    .dataframe thead th {\n",
       "        text-align: right;\n",
       "    }\n",
       "</style>\n",
       "<table border=\"1\" class=\"dataframe\">\n",
       "  <thead>\n",
       "    <tr style=\"text-align: right;\">\n",
       "      <th></th>\n",
       "      <th>cagr</th>\n",
       "      <th>std</th>\n",
       "      <th>rar</th>\n",
       "      <th>cagr_ex</th>\n",
       "      <th>te</th>\n",
       "      <th>ir</th>\n",
       "    </tr>\n",
       "  </thead>\n",
       "  <tbody>\n",
       "    <tr>\n",
       "      <td>port_1</td>\n",
       "      <td>11.10</td>\n",
       "      <td>9.85</td>\n",
       "      <td>1.13</td>\n",
       "      <td>2.73</td>\n",
       "      <td>4.52</td>\n",
       "      <td>0.60</td>\n",
       "    </tr>\n",
       "    <tr>\n",
       "      <td>port_0</td>\n",
       "      <td>10.43</td>\n",
       "      <td>9.53</td>\n",
       "      <td>1.09</td>\n",
       "      <td>2.06</td>\n",
       "      <td>5.04</td>\n",
       "      <td>0.41</td>\n",
       "    </tr>\n",
       "    <tr>\n",
       "      <td>bm</td>\n",
       "      <td>8.37</td>\n",
       "      <td>12.25</td>\n",
       "      <td>0.68</td>\n",
       "      <td>0.00</td>\n",
       "      <td>0.00</td>\n",
       "      <td>0.00</td>\n",
       "    </tr>\n",
       "  </tbody>\n",
       "</table>\n",
       "</div>"
      ],
      "text/plain": [
       "         cagr    std   rar  cagr_ex    te    ir\n",
       "port_1  11.10   9.85  1.13     2.73  4.52  0.60\n",
       "port_0  10.43   9.53  1.09     2.06  5.04  0.41\n",
       "bm       8.37  12.25  0.68     0.00  0.00  0.00"
      ]
     },
     "execution_count": 1606,
     "metadata": {},
     "output_type": "execute_result"
    }
   ],
   "source": [
    "std = cum.pct_change().std()*(12**0.5) * 100\n",
    "cagr = (cum.iloc[-1]**(12/(len(cum)-1))-1) * 100\n",
    "rar = cagr/std\n",
    "stats = pd.DataFrame({'cagr':cagr, 'std':std, 'rar':rar})\n",
    "stats['cagr_ex'] = stats.cagr - stats.cagr['bm']\n",
    "stats['te'] = cum.pct_change().sub(cum.bm.pct_change(), axis=0).std()*(12**0.5) * 100\n",
    "stats['ir'] = (stats.cagr_ex/stats.te).fillna(0)\n",
    "stats.round(2)"
   ]
  },
  {
   "cell_type": "code",
   "execution_count": null,
   "metadata": {},
   "outputs": [],
   "source": []
  },
  {
   "cell_type": "markdown",
   "metadata": {},
   "source": [
    "# BM 모멘텀이 안나올때 UST 편입하는 경우"
   ]
  },
  {
   "cell_type": "code",
   "execution_count": 1607,
   "metadata": {
    "scrolled": true
   },
   "outputs": [],
   "source": [
    "df_bm_rtns = rtns['ACWI'].rolling(3).sum().loc[df_result.index]; df_bm_rtns;"
   ]
  },
  {
   "cell_type": "code",
   "execution_count": 1608,
   "metadata": {},
   "outputs": [],
   "source": [
    "UST = 'TLT'"
   ]
  },
  {
   "cell_type": "code",
   "execution_count": 1609,
   "metadata": {},
   "outputs": [],
   "source": [
    "df_w_append = df_w.copy()\n",
    "for date, val in df_bm_rtns.items():\n",
    "    if val<0:\n",
    "        df_w_append.loc[date] *= 0.8\n",
    "        df_w_append.loc[date, UST] = 0.2"
   ]
  },
  {
   "cell_type": "code",
   "execution_count": 1610,
   "metadata": {},
   "outputs": [],
   "source": [
    "#df_rtns[UST] = rtns.loc[df_result.index, UST]"
   ]
  },
  {
   "cell_type": "code",
   "execution_count": 1611,
   "metadata": {},
   "outputs": [],
   "source": [
    "cum_port2 = (df_w_append*df_rtns).sum(axis=1).cumsum()"
   ]
  },
  {
   "cell_type": "code",
   "execution_count": 1612,
   "metadata": {},
   "outputs": [],
   "source": [
    "cum_bm = rtns_bm.loc[df_result.index]['ACWI TR']\n",
    "cum_bm.iloc[0] = 0\n",
    "cum_bm = cum_bm.cumsum(); cum_bm;"
   ]
  },
  {
   "cell_type": "code",
   "execution_count": 1613,
   "metadata": {},
   "outputs": [
    {
     "data": {
      "text/plain": [
       "<matplotlib.axes._subplots.AxesSubplot at 0x16887b238d0>"
      ]
     },
     "execution_count": 1613,
     "metadata": {},
     "output_type": "execute_result"
    },
    {
     "data": {
      "image/png": "[encoded data removed]",
      "text/plain": [
       "<Figure size 432x288 with 1 Axes>"
      ]
     },
     "metadata": {
      "needs_background": "light"
     },
     "output_type": "display_data"
    }
   ],
   "source": [
    "cum = np.exp(pd.DataFrame({'port_2':cum_port2, 'port_1':cum_port1, 'port_0':cum_port0, 'bm':cum_bm}))#.iloc[:-1]\n",
    "cum.plot()"
   ]
  },
  {
   "cell_type": "code",
   "execution_count": 1614,
   "metadata": {},
   "outputs": [
    {
     "data": {
      "text/html": [
       "<div>\n",
       "<style scoped>\n",
       "    .dataframe tbody tr th:only-of-type {\n",
       "        vertical-align: middle;\n",
       "    }\n",
       "\n",
       "    .dataframe tbody tr th {\n",
       "        vertical-align: top;\n",
       "    }\n",
       "\n",
       "    .dataframe thead th {\n",
       "        text-align: right;\n",
       "    }\n",
       "</style>\n",
       "<table border=\"1\" class=\"dataframe\">\n",
       "  <thead>\n",
       "    <tr style=\"text-align: right;\">\n",
       "      <th></th>\n",
       "      <th>cagr</th>\n",
       "      <th>std</th>\n",
       "      <th>rar</th>\n",
       "      <th>cagr_ex</th>\n",
       "      <th>te</th>\n",
       "      <th>ir</th>\n",
       "    </tr>\n",
       "  </thead>\n",
       "  <tbody>\n",
       "    <tr>\n",
       "      <td>port_2</td>\n",
       "      <td>13.67</td>\n",
       "      <td>8.36</td>\n",
       "      <td>1.64</td>\n",
       "      <td>5.30</td>\n",
       "      <td>6.22</td>\n",
       "      <td>0.85</td>\n",
       "    </tr>\n",
       "    <tr>\n",
       "      <td>port_1</td>\n",
       "      <td>11.10</td>\n",
       "      <td>9.85</td>\n",
       "      <td>1.13</td>\n",
       "      <td>2.73</td>\n",
       "      <td>4.52</td>\n",
       "      <td>0.60</td>\n",
       "    </tr>\n",
       "    <tr>\n",
       "      <td>port_0</td>\n",
       "      <td>10.43</td>\n",
       "      <td>9.53</td>\n",
       "      <td>1.09</td>\n",
       "      <td>2.06</td>\n",
       "      <td>5.04</td>\n",
       "      <td>0.41</td>\n",
       "    </tr>\n",
       "    <tr>\n",
       "      <td>bm</td>\n",
       "      <td>8.37</td>\n",
       "      <td>12.25</td>\n",
       "      <td>0.68</td>\n",
       "      <td>0.00</td>\n",
       "      <td>0.00</td>\n",
       "      <td>0.00</td>\n",
       "    </tr>\n",
       "  </tbody>\n",
       "</table>\n",
       "</div>"
      ],
      "text/plain": [
       "         cagr    std   rar  cagr_ex    te    ir\n",
       "port_2  13.67   8.36  1.64     5.30  6.22  0.85\n",
       "port_1  11.10   9.85  1.13     2.73  4.52  0.60\n",
       "port_0  10.43   9.53  1.09     2.06  5.04  0.41\n",
       "bm       8.37  12.25  0.68     0.00  0.00  0.00"
      ]
     },
     "execution_count": 1614,
     "metadata": {},
     "output_type": "execute_result"
    }
   ],
   "source": [
    "std = cum.pct_change().std()*(12**0.5) * 100\n",
    "cagr = (cum.iloc[-1]**(12/(len(cum)-1))-1) * 100\n",
    "rar = cagr/std\n",
    "stats = pd.DataFrame({'cagr':cagr, 'std':std, 'rar':rar})\n",
    "stats['cagr_ex'] = stats.cagr - stats.cagr['bm']\n",
    "stats['te'] = cum.pct_change().sub(cum.bm.pct_change(), axis=0).std()*(12**0.5) * 100\n",
    "stats['ir'] = (stats.cagr_ex/stats.te).fillna(0)\n",
    "stats.round(2)"
   ]
  },
  {
   "cell_type": "code",
   "execution_count": 1578,
   "metadata": {},
   "outputs": [
    {
     "data": {
      "text/plain": [
       "<matplotlib.axes._subplots.AxesSubplot at 0x1688642f9b0>"
      ]
     },
     "execution_count": 1578,
     "metadata": {},
     "output_type": "execute_result"
    },
    {
     "data": {
      "image/png": "[encoded data removed]",
      "text/plain": [
       "<Figure size 432x288 with 1 Axes>"
      ]
     },
     "metadata": {
      "needs_background": "light"
     },
     "output_type": "display_data"
    }
   ],
   "source": [
    "df_w_append.DIV.plot()"
   ]
  },
  {
   "cell_type": "code",
   "execution_count": 1549,
   "metadata": {
    "scrolled": false
   },
   "outputs": [
    {
     "data": {
      "text/plain": [
       "VYM    0.08\n",
       "FDL    0.08\n",
       "DVY    0.08\n",
       "FVD    0.08\n",
       "DON    0.08\n",
       "VIG    0.08\n",
       "SDY    0.08\n",
       "PFF    0.08\n",
       "PID    0.08\n",
       "DEM    0.08\n",
       "TLT    0.20\n",
       "Name: 2011-09-30 00:00:00, dtype: float64"
      ]
     },
     "execution_count": 1549,
     "metadata": {},
     "output_type": "execute_result"
    }
   ],
   "source": [
    "df_w_append.round(4).iloc[-100][df_w_append.iloc[-100]>0]"
   ]
  },
  {
   "cell_type": "code",
   "execution_count": 908,
   "metadata": {},
   "outputs": [
    {
     "data": {
      "text/html": [
       "<div>\n",
       "<style scoped>\n",
       "    .dataframe tbody tr th:only-of-type {\n",
       "        vertical-align: middle;\n",
       "    }\n",
       "\n",
       "    .dataframe tbody tr th {\n",
       "        vertical-align: top;\n",
       "    }\n",
       "\n",
       "    .dataframe thead th {\n",
       "        text-align: right;\n",
       "    }\n",
       "</style>\n",
       "<table border=\"1\" class=\"dataframe\">\n",
       "  <thead>\n",
       "    <tr style=\"text-align: right;\">\n",
       "      <th></th>\n",
       "      <th>VYM</th>\n",
       "      <th>HDV</th>\n",
       "      <th>FDL</th>\n",
       "      <th>SPYD</th>\n",
       "      <th>DVY</th>\n",
       "      <th>SCHD</th>\n",
       "      <th>FVD</th>\n",
       "      <th>RDIV</th>\n",
       "      <th>DHS</th>\n",
       "      <th>JDIV</th>\n",
       "      <th>...</th>\n",
       "      <th>VRP</th>\n",
       "      <th>PID</th>\n",
       "      <th>VYMI</th>\n",
       "      <th>SDIV</th>\n",
       "      <th>DEM</th>\n",
       "      <th>DGS</th>\n",
       "      <th>DVYE</th>\n",
       "      <th>IDV</th>\n",
       "      <th>DLS</th>\n",
       "      <th>TLT</th>\n",
       "    </tr>\n",
       "  </thead>\n",
       "  <tbody>\n",
       "    <tr>\n",
       "      <td>2010-12-31</td>\n",
       "      <td>NaN</td>\n",
       "      <td>NaN</td>\n",
       "      <td>NaN</td>\n",
       "      <td>NaN</td>\n",
       "      <td>NaN</td>\n",
       "      <td>NaN</td>\n",
       "      <td>NaN</td>\n",
       "      <td>NaN</td>\n",
       "      <td>NaN</td>\n",
       "      <td>NaN</td>\n",
       "      <td>...</td>\n",
       "      <td>NaN</td>\n",
       "      <td>NaN</td>\n",
       "      <td>NaN</td>\n",
       "      <td>NaN</td>\n",
       "      <td>NaN</td>\n",
       "      <td>NaN</td>\n",
       "      <td>NaN</td>\n",
       "      <td>NaN</td>\n",
       "      <td>NaN</td>\n",
       "      <td>NaN</td>\n",
       "    </tr>\n",
       "    <tr>\n",
       "      <td>2011-01-31</td>\n",
       "      <td>10.0</td>\n",
       "      <td>0.0</td>\n",
       "      <td>0.0</td>\n",
       "      <td>0.0</td>\n",
       "      <td>10.0</td>\n",
       "      <td>0.0</td>\n",
       "      <td>10.0</td>\n",
       "      <td>0.0</td>\n",
       "      <td>10.0</td>\n",
       "      <td>0.0</td>\n",
       "      <td>...</td>\n",
       "      <td>0.0</td>\n",
       "      <td>10.0</td>\n",
       "      <td>0.0</td>\n",
       "      <td>0.0</td>\n",
       "      <td>0.0</td>\n",
       "      <td>10.0</td>\n",
       "      <td>0.0</td>\n",
       "      <td>0.0</td>\n",
       "      <td>0.0</td>\n",
       "      <td>NaN</td>\n",
       "    </tr>\n",
       "    <tr>\n",
       "      <td>2011-02-28</td>\n",
       "      <td>10.0</td>\n",
       "      <td>0.0</td>\n",
       "      <td>10.0</td>\n",
       "      <td>0.0</td>\n",
       "      <td>10.0</td>\n",
       "      <td>0.0</td>\n",
       "      <td>10.0</td>\n",
       "      <td>0.0</td>\n",
       "      <td>0.0</td>\n",
       "      <td>0.0</td>\n",
       "      <td>...</td>\n",
       "      <td>0.0</td>\n",
       "      <td>10.0</td>\n",
       "      <td>0.0</td>\n",
       "      <td>0.0</td>\n",
       "      <td>10.0</td>\n",
       "      <td>0.0</td>\n",
       "      <td>0.0</td>\n",
       "      <td>0.0</td>\n",
       "      <td>0.0</td>\n",
       "      <td>NaN</td>\n",
       "    </tr>\n",
       "    <tr>\n",
       "      <td>2011-03-31</td>\n",
       "      <td>10.0</td>\n",
       "      <td>0.0</td>\n",
       "      <td>10.0</td>\n",
       "      <td>0.0</td>\n",
       "      <td>10.0</td>\n",
       "      <td>0.0</td>\n",
       "      <td>10.0</td>\n",
       "      <td>0.0</td>\n",
       "      <td>0.0</td>\n",
       "      <td>0.0</td>\n",
       "      <td>...</td>\n",
       "      <td>0.0</td>\n",
       "      <td>10.0</td>\n",
       "      <td>0.0</td>\n",
       "      <td>0.0</td>\n",
       "      <td>10.0</td>\n",
       "      <td>0.0</td>\n",
       "      <td>0.0</td>\n",
       "      <td>0.0</td>\n",
       "      <td>0.0</td>\n",
       "      <td>NaN</td>\n",
       "    </tr>\n",
       "    <tr>\n",
       "      <td>2011-04-29</td>\n",
       "      <td>10.0</td>\n",
       "      <td>0.0</td>\n",
       "      <td>10.0</td>\n",
       "      <td>0.0</td>\n",
       "      <td>0.0</td>\n",
       "      <td>0.0</td>\n",
       "      <td>10.0</td>\n",
       "      <td>0.0</td>\n",
       "      <td>10.0</td>\n",
       "      <td>0.0</td>\n",
       "      <td>...</td>\n",
       "      <td>0.0</td>\n",
       "      <td>10.0</td>\n",
       "      <td>0.0</td>\n",
       "      <td>0.0</td>\n",
       "      <td>10.0</td>\n",
       "      <td>0.0</td>\n",
       "      <td>0.0</td>\n",
       "      <td>0.0</td>\n",
       "      <td>0.0</td>\n",
       "      <td>NaN</td>\n",
       "    </tr>\n",
       "    <tr>\n",
       "      <td>...</td>\n",
       "      <td>...</td>\n",
       "      <td>...</td>\n",
       "      <td>...</td>\n",
       "      <td>...</td>\n",
       "      <td>...</td>\n",
       "      <td>...</td>\n",
       "      <td>...</td>\n",
       "      <td>...</td>\n",
       "      <td>...</td>\n",
       "      <td>...</td>\n",
       "      <td>...</td>\n",
       "      <td>...</td>\n",
       "      <td>...</td>\n",
       "      <td>...</td>\n",
       "      <td>...</td>\n",
       "      <td>...</td>\n",
       "      <td>...</td>\n",
       "      <td>...</td>\n",
       "      <td>...</td>\n",
       "      <td>...</td>\n",
       "      <td>...</td>\n",
       "    </tr>\n",
       "    <tr>\n",
       "      <td>2019-08-30</td>\n",
       "      <td>0.0</td>\n",
       "      <td>10.0</td>\n",
       "      <td>10.0</td>\n",
       "      <td>0.0</td>\n",
       "      <td>0.0</td>\n",
       "      <td>0.0</td>\n",
       "      <td>10.0</td>\n",
       "      <td>0.0</td>\n",
       "      <td>0.0</td>\n",
       "      <td>10.0</td>\n",
       "      <td>...</td>\n",
       "      <td>0.0</td>\n",
       "      <td>10.0</td>\n",
       "      <td>0.0</td>\n",
       "      <td>0.0</td>\n",
       "      <td>0.0</td>\n",
       "      <td>0.0</td>\n",
       "      <td>10.0</td>\n",
       "      <td>0.0</td>\n",
       "      <td>0.0</td>\n",
       "      <td>NaN</td>\n",
       "    </tr>\n",
       "    <tr>\n",
       "      <td>2019-09-30</td>\n",
       "      <td>0.0</td>\n",
       "      <td>0.0</td>\n",
       "      <td>10.0</td>\n",
       "      <td>0.0</td>\n",
       "      <td>10.0</td>\n",
       "      <td>10.0</td>\n",
       "      <td>0.0</td>\n",
       "      <td>0.0</td>\n",
       "      <td>0.0</td>\n",
       "      <td>0.0</td>\n",
       "      <td>...</td>\n",
       "      <td>0.0</td>\n",
       "      <td>10.0</td>\n",
       "      <td>0.0</td>\n",
       "      <td>0.0</td>\n",
       "      <td>0.0</td>\n",
       "      <td>10.0</td>\n",
       "      <td>0.0</td>\n",
       "      <td>0.0</td>\n",
       "      <td>0.0</td>\n",
       "      <td>NaN</td>\n",
       "    </tr>\n",
       "    <tr>\n",
       "      <td>2019-10-31</td>\n",
       "      <td>10.0</td>\n",
       "      <td>0.0</td>\n",
       "      <td>0.0</td>\n",
       "      <td>0.0</td>\n",
       "      <td>10.0</td>\n",
       "      <td>10.0</td>\n",
       "      <td>10.0</td>\n",
       "      <td>0.0</td>\n",
       "      <td>10.0</td>\n",
       "      <td>0.0</td>\n",
       "      <td>...</td>\n",
       "      <td>0.0</td>\n",
       "      <td>0.0</td>\n",
       "      <td>0.0</td>\n",
       "      <td>0.0</td>\n",
       "      <td>0.0</td>\n",
       "      <td>10.0</td>\n",
       "      <td>0.0</td>\n",
       "      <td>10.0</td>\n",
       "      <td>0.0</td>\n",
       "      <td>NaN</td>\n",
       "    </tr>\n",
       "    <tr>\n",
       "      <td>2019-11-29</td>\n",
       "      <td>0.0</td>\n",
       "      <td>0.0</td>\n",
       "      <td>0.0</td>\n",
       "      <td>0.0</td>\n",
       "      <td>10.0</td>\n",
       "      <td>10.0</td>\n",
       "      <td>10.0</td>\n",
       "      <td>0.0</td>\n",
       "      <td>10.0</td>\n",
       "      <td>10.0</td>\n",
       "      <td>...</td>\n",
       "      <td>0.0</td>\n",
       "      <td>10.0</td>\n",
       "      <td>0.0</td>\n",
       "      <td>0.0</td>\n",
       "      <td>10.0</td>\n",
       "      <td>0.0</td>\n",
       "      <td>0.0</td>\n",
       "      <td>0.0</td>\n",
       "      <td>0.0</td>\n",
       "      <td>NaN</td>\n",
       "    </tr>\n",
       "    <tr>\n",
       "      <td>2019-12-31</td>\n",
       "      <td>0.0</td>\n",
       "      <td>0.0</td>\n",
       "      <td>10.0</td>\n",
       "      <td>10.0</td>\n",
       "      <td>0.0</td>\n",
       "      <td>0.0</td>\n",
       "      <td>0.0</td>\n",
       "      <td>0.0</td>\n",
       "      <td>10.0</td>\n",
       "      <td>0.0</td>\n",
       "      <td>...</td>\n",
       "      <td>10.0</td>\n",
       "      <td>0.0</td>\n",
       "      <td>0.0</td>\n",
       "      <td>0.0</td>\n",
       "      <td>10.0</td>\n",
       "      <td>0.0</td>\n",
       "      <td>0.0</td>\n",
       "      <td>10.0</td>\n",
       "      <td>0.0</td>\n",
       "      <td>NaN</td>\n",
       "    </tr>\n",
       "  </tbody>\n",
       "</table>\n",
       "<p>109 rows × 33 columns</p>\n",
       "</div>"
      ],
      "text/plain": [
       "             VYM   HDV   FDL  SPYD   DVY  SCHD   FVD  RDIV   DHS  JDIV  ...  \\\n",
       "2010-12-31   NaN   NaN   NaN   NaN   NaN   NaN   NaN   NaN   NaN   NaN  ...   \n",
       "2011-01-31  10.0   0.0   0.0   0.0  10.0   0.0  10.0   0.0  10.0   0.0  ...   \n",
       "2011-02-28  10.0   0.0  10.0   0.0  10.0   0.0  10.0   0.0   0.0   0.0  ...   \n",
       "2011-03-31  10.0   0.0  10.0   0.0  10.0   0.0  10.0   0.0   0.0   0.0  ...   \n",
       "2011-04-29  10.0   0.0  10.0   0.0   0.0   0.0  10.0   0.0  10.0   0.0  ...   \n",
       "...          ...   ...   ...   ...   ...   ...   ...   ...   ...   ...  ...   \n",
       "2019-08-30   0.0  10.0  10.0   0.0   0.0   0.0  10.0   0.0   0.0  10.0  ...   \n",
       "2019-09-30   0.0   0.0  10.0   0.0  10.0  10.0   0.0   0.0   0.0   0.0  ...   \n",
       "2019-10-31  10.0   0.0   0.0   0.0  10.0  10.0  10.0   0.0  10.0   0.0  ...   \n",
       "2019-11-29   0.0   0.0   0.0   0.0  10.0  10.0  10.0   0.0  10.0  10.0  ...   \n",
       "2019-12-31   0.0   0.0  10.0  10.0   0.0   0.0   0.0   0.0  10.0   0.0  ...   \n",
       "\n",
       "             VRP   PID  VYMI  SDIV   DEM   DGS  DVYE   IDV  DLS  TLT  \n",
       "2010-12-31   NaN   NaN   NaN   NaN   NaN   NaN   NaN   NaN  NaN  NaN  \n",
       "2011-01-31   0.0  10.0   0.0   0.0   0.0  10.0   0.0   0.0  0.0  NaN  \n",
       "2011-02-28   0.0  10.0   0.0   0.0  10.0   0.0   0.0   0.0  0.0  NaN  \n",
       "2011-03-31   0.0  10.0   0.0   0.0  10.0   0.0   0.0   0.0  0.0  NaN  \n",
       "2011-04-29   0.0  10.0   0.0   0.0  10.0   0.0   0.0   0.0  0.0  NaN  \n",
       "...          ...   ...   ...   ...   ...   ...   ...   ...  ...  ...  \n",
       "2019-08-30   0.0  10.0   0.0   0.0   0.0   0.0  10.0   0.0  0.0  NaN  \n",
       "2019-09-30   0.0  10.0   0.0   0.0   0.0  10.0   0.0   0.0  0.0  NaN  \n",
       "2019-10-31   0.0   0.0   0.0   0.0   0.0  10.0   0.0  10.0  0.0  NaN  \n",
       "2019-11-29   0.0  10.0   0.0   0.0  10.0   0.0   0.0   0.0  0.0  NaN  \n",
       "2019-12-31  10.0   0.0   0.0   0.0  10.0   0.0   0.0  10.0  0.0  NaN  \n",
       "\n",
       "[109 rows x 33 columns]"
      ]
     },
     "execution_count": 908,
     "metadata": {},
     "output_type": "execute_result"
    }
   ],
   "source": [
    "(df_w_append*100).round()"
   ]
  },
  {
   "cell_type": "code",
   "execution_count": 1615,
   "metadata": {},
   "outputs": [
    {
     "data": {
      "text/plain": [
       "<matplotlib.axes._subplots.AxesSubplot at 0x16887bdfcf8>"
      ]
     },
     "execution_count": 1615,
     "metadata": {},
     "output_type": "execute_result"
    },
    {
     "data": {
      "image/png": "[encoded data removed]",
      "text/plain": [
       "<Figure size 360x288 with 1 Axes>"
      ]
     },
     "metadata": {
      "needs_background": "light"
     },
     "output_type": "display_data"
    }
   ],
   "source": [
    "df_result.dvd.plot(color='orange', figsize=(5,4), ylim=(0,5))"
   ]
  },
  {
   "cell_type": "code",
   "execution_count": 1616,
   "metadata": {},
   "outputs": [
    {
     "data": {
      "text/plain": [
       "<matplotlib.axes._subplots.AxesSubplot at 0x16887caacf8>"
      ]
     },
     "execution_count": 1616,
     "metadata": {},
     "output_type": "execute_result"
    },
    {
     "data": {
      "image/png": "[encoded data removed]",
      "text/plain": [
       "<Figure size 432x288 with 1 Axes>"
      ]
     },
     "metadata": {
      "needs_background": "light"
     },
     "output_type": "display_data"
    }
   ],
   "source": [
    "df_result.te.plot()"
   ]
  },
  {
   "cell_type": "code",
   "execution_count": 1618,
   "metadata": {},
   "outputs": [],
   "source": [
    "perf = np.exp(pd.DataFrame({'HGDM':cum_port2, 'ACWI':cum_bm}))"
   ]
  },
  {
   "cell_type": "code",
   "execution_count": 1619,
   "metadata": {},
   "outputs": [
    {
     "data": {
      "text/plain": [
       "<matplotlib.legend.Legend at 0x16887d3cb00>"
      ]
     },
     "execution_count": 1619,
     "metadata": {},
     "output_type": "execute_result"
    },
    {
     "data": {
      "image/png": "[encoded data removed]",
      "text/plain": [
       "<Figure size 720x288 with 1 Axes>"
      ]
     },
     "metadata": {
      "needs_background": "light"
     },
     "output_type": "display_data"
    }
   ],
   "source": [
    "ax = perf.plot(figsize=(10,4), color=['orange','gray'])\n",
    "ax.legend(fontsize=13)"
   ]
  },
  {
   "cell_type": "code",
   "execution_count": 1620,
   "metadata": {},
   "outputs": [],
   "source": [
    "ytd = perf.iloc[-1]/perf.loc['2018-12-31']-1\n",
    "r3m = perf.iloc[-1]/perf.iloc[-4]-1\n",
    "r1y = perf.iloc[-1]/perf.iloc[-13]-1\n",
    "r3y = perf.iloc[-1]/perf.iloc[-37]-1"
   ]
  },
  {
   "cell_type": "code",
   "execution_count": 1621,
   "metadata": {},
   "outputs": [
    {
     "data": {
      "text/html": [
       "<div>\n",
       "<style scoped>\n",
       "    .dataframe tbody tr th:only-of-type {\n",
       "        vertical-align: middle;\n",
       "    }\n",
       "\n",
       "    .dataframe tbody tr th {\n",
       "        vertical-align: top;\n",
       "    }\n",
       "\n",
       "    .dataframe thead th {\n",
       "        text-align: right;\n",
       "    }\n",
       "</style>\n",
       "<table border=\"1\" class=\"dataframe\">\n",
       "  <thead>\n",
       "    <tr style=\"text-align: right;\">\n",
       "      <th></th>\n",
       "      <th>ytd</th>\n",
       "      <th>1y</th>\n",
       "      <th>3y</th>\n",
       "    </tr>\n",
       "  </thead>\n",
       "  <tbody>\n",
       "    <tr>\n",
       "      <td>HGDM</td>\n",
       "      <td>0.270204</td>\n",
       "      <td>0.270204</td>\n",
       "      <td>0.476477</td>\n",
       "    </tr>\n",
       "    <tr>\n",
       "      <td>ACWI</td>\n",
       "      <td>0.265974</td>\n",
       "      <td>0.265974</td>\n",
       "      <td>0.421700</td>\n",
       "    </tr>\n",
       "  </tbody>\n",
       "</table>\n",
       "</div>"
      ],
      "text/plain": [
       "           ytd        1y        3y\n",
       "HGDM  0.270204  0.270204  0.476477\n",
       "ACWI  0.265974  0.265974  0.421700"
      ]
     },
     "execution_count": 1621,
     "metadata": {},
     "output_type": "execute_result"
    }
   ],
   "source": [
    "pd.DataFrame({'ytd':ytd, '1y':r1y, '3y':r3y})"
   ]
  },
  {
   "cell_type": "code",
   "execution_count": null,
   "metadata": {},
   "outputs": [],
   "source": []
  },
  {
   "cell_type": "code",
   "execution_count": null,
   "metadata": {},
   "outputs": [],
   "source": []
  },
  {
   "cell_type": "code",
   "execution_count": null,
   "metadata": {},
   "outputs": [],
   "source": []
  }
 ],
 "metadata": {
  "kernelspec": {
   "display_name": "Python 3",
   "language": "python",
   "name": "python3"
  },
  "language_info": {
   "codemirror_mode": {
    "name": "ipython",
    "version": 3
   },
   "file_extension": ".py",
   "mimetype": "text/x-python",
   "name": "python",
   "nbconvert_exporter": "python",
   "pygments_lexer": "ipython3",
   "version": "3.7.3"
  }
 },
 "nbformat": 4,
 "nbformat_minor": 2
}
