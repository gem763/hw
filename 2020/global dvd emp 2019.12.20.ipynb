{
 "cells": [
  {
   "cell_type": "code",
   "execution_count": 22,
   "metadata": {},
   "outputs": [],
   "source": [
    "%matplotlib inline\n",
    "\n",
    "import pandas as pd\n",
    "import scipy as sp\n",
    "from scipy.optimize import fmin_slsqp\n",
    "import numpy as np\n",
    "from IPython.core.debugger import set_trace\n",
    "from tqdm import tqdm_notebook"
   ]
  },
  {
   "cell_type": "markdown",
   "metadata": {},
   "source": [
    "# 초기화"
   ]
  },
  {
   "cell_type": "code",
   "execution_count": 23,
   "metadata": {},
   "outputs": [],
   "source": [
    "xl = 'data_20191220.xlsx'"
   ]
  },
  {
   "cell_type": "code",
   "execution_count": 24,
   "metadata": {},
   "outputs": [],
   "source": [
    "univ = pd.read_excel(xl, sheet_name='category'); univ;"
   ]
  },
  {
   "cell_type": "code",
   "execution_count": 25,
   "metadata": {},
   "outputs": [
    {
     "data": {
      "text/plain": [
       "array(['US', 'Global', 'EM', 'DM', 'UST'], dtype=object)"
      ]
     },
     "execution_count": 25,
     "metadata": {},
     "output_type": "execute_result"
    }
   ],
   "source": [
    "regions = univ.region.unique(); regions"
   ]
  },
  {
   "cell_type": "code",
   "execution_count": 26,
   "metadata": {},
   "outputs": [
    {
     "data": {
      "text/plain": [
       "array(['US_HD', 'US_HD_LV', 'US_DG', 'US_DG_QL', 'US_PS', 'Global', 'EM',\n",
       "       'DM', 'UST'], dtype=object)"
      ]
     },
     "execution_count": 26,
     "metadata": {},
     "output_type": "execute_result"
    }
   ],
   "source": [
    "cats = univ.category.unique(); cats"
   ]
  },
  {
   "cell_type": "code",
   "execution_count": 27,
   "metadata": {},
   "outputs": [],
   "source": [
    "prices = pd.read_excel(xl, sheet_name='price', index_col=0)\n",
    "rtns = np.log(prices).diff(); rtns;"
   ]
  },
  {
   "cell_type": "code",
   "execution_count": 28,
   "metadata": {},
   "outputs": [],
   "source": [
    "dvds = pd.read_excel(xl, sheet_name='dvd', index_col=0); dvds;"
   ]
  },
  {
   "cell_type": "code",
   "execution_count": 29,
   "metadata": {},
   "outputs": [],
   "source": [
    "prices_bm = pd.read_excel(xl, sheet_name='bm', index_col=0)\n",
    "rtns_bm = np.log(prices_bm).diff(); rtns_bm;"
   ]
  },
  {
   "cell_type": "markdown",
   "metadata": {},
   "source": [
    "# 초기전략: 최적화만 하는 경우"
   ]
  },
  {
   "cell_type": "code",
   "execution_count": 53,
   "metadata": {
    "scrolled": true
   },
   "outputs": [
    {
     "data": {
      "application/vnd.jupyter.widget-view+json": {
       "model_id": "8b400fbd28544da9b0594aeca41e76a5",
       "version_major": 2,
       "version_minor": 0
      },
      "text/plain": [
       "HBox(children=(IntProgress(value=0, max=109), HTML(value='')))"
      ]
     },
     "metadata": {},
     "output_type": "display_data"
    },
    {
     "name": "stdout",
     "output_type": "stream",
     "text": [
      "\n"
     ]
    }
   ],
   "source": [
    "'''\n",
    "변수설정\n",
    "'''\n",
    "n_dates = len(rtns)\n",
    "n_cov = 12             # cov 계산 개월수\n",
    "\n",
    "bm_w_max = 0.00\n",
    "w_max = 0.10           # 종목 최대비중\n",
    "w_us_min = 0.4         # 미국 최소비중\n",
    "w_us_max = 0.8         # 미국 최대비중\n",
    "w_ps_max = 0.1         # 우선주 최대비중\n",
    "dvd_min = 2.5          # 포트폴리오 최소 배당수익률\n",
    "te_limit_max = 0.05\n",
    "te_limit_min = 0.01\n",
    "\n",
    "n = len(rtns.columns)  # 종목수\n",
    "dates_rng = range(n_cov, n_dates)\n",
    "weights = np.zeros((len(dates_rng), n))\n",
    "result = {}\n",
    "\n",
    "\n",
    "def covar(rt):\n",
    "    _cov = rt.cov(min_periods=n_cov/2)\n",
    "    _exc = _cov.iloc[0].isna()\n",
    "#     _cov = _cov.fillna(0) + np.diag(_exc*1)\n",
    "    \n",
    "#     min_eig = np.min(np.real(np.linalg.eigvals(_cov)))\n",
    "    \n",
    "#     if min_eig < 0:\n",
    "#         #print(date, min_eig)\n",
    "#         _cov -= 10*min_eig * np.eye(*_cov.shape)\n",
    "    \n",
    "    return _cov.fillna(0), _exc\n",
    "\n",
    "\n",
    "for i in tqdm_notebook(dates_rng[:]):\n",
    "    date = rtns.index[i]\n",
    "    \n",
    "    _rtns = rtns.iloc[i-11:i+1]\n",
    "    cov, exc = covar(_rtns)\n",
    "    dvd = dvds.iloc[i]\n",
    "    \n",
    "    investable = 1 - (dvd.isna() | _rtns.iloc[-1].isna() | exc)\n",
    "    investable.iloc[-2:] = 0\n",
    "    \n",
    "    w_p0 = (1/_rtns.std()) * investable\n",
    "    w_p0 = w_p0.fillna(0) / w_p0.sum()\n",
    "\n",
    "    _w_max = w_max*investable\n",
    "    #_w_max = w_p0*3\n",
    "    #_w_max[_w_max>w_max] = w_max\n",
    "    _w_max.iloc[0] = bm_w_max\n",
    "    bounds = list(zip(np.zeros(n), _w_max))\n",
    "    #w_p0 = investable.values / investable.sum()    \n",
    "    \n",
    "    #set_trace()\n",
    "    def objective(w_p):\n",
    "        return te(w_p)\n",
    "        #return -sharpe(w_p)\n",
    "        #return -ir(w_p)\n",
    "    \n",
    "    \n",
    "    def sharpe(w_p):\n",
    "        _rp = rtn_projection(w_p)\n",
    "        _vol = vol(w_p)\n",
    "        return _rp / _vol\n",
    "\n",
    "    def ir(w_p):\n",
    "        _rp = rtn_projection(w_p, rel=True)\n",
    "        _te = te(w_p)\n",
    "        return _rp / _te\n",
    "    \n",
    "    \n",
    "    def rtn_projection(w_p, rel=False):\n",
    "        _rtns_sum = _rtns.iloc[:-1].sum().fillna(0)\n",
    "        _proj = _rtns_sum @ w_p\n",
    "        \n",
    "        if rel:\n",
    "            return _proj - _rtns_sum[0]\n",
    "        else:\n",
    "            return _proj\n",
    "        \n",
    "    \n",
    "    def vol(w_p, te=False):\n",
    "        ww = w_p.copy()\n",
    "        #if te: ww[0] -= 1\n",
    "        if te: ww[0] += 1\n",
    "        var = 12 * (ww @ cov @ ww)\n",
    "        return var**0.5\n",
    "        \n",
    "        \n",
    "    def te(w_p):\n",
    "        return vol(w_p, te=True)\n",
    "\n",
    "    def te_max(w_p):\n",
    "        return te_limit_max - te(w_p)\n",
    "    \n",
    "    def te_min(w_p):\n",
    "        return te(w_p) - te_limit_min\n",
    "    \n",
    "    def rp_err_max(w_p):\n",
    "        #set_trace()\n",
    "        #rp = (w_p>0.00001) * (1 / _rtns.std())\n",
    "        #rp /= rp.sum()\n",
    "        #return 0.05 - (rp - w_p).std()\n",
    "        #return 0.04 - (w_p0 - w_p).std()\n",
    "        return 0.03 - (w_p0[1:]/w_p0[1:].sum() - w_p[1:]/w_p[1:].sum()).std()\n",
    "        #return 0.03 - (w_p0 - w_p).abs().max()\n",
    "        \n",
    "    \n",
    "    def sum_to_one(w_p):\n",
    "        return 1 - w_p.sum()\n",
    "    \n",
    "    # 미국 최소비중\n",
    "    def us_min(w_p):\n",
    "        return w_p[0]/2 + w_p[1:25].sum() - w_us_min\n",
    "\n",
    "    # 미국 최대비중\n",
    "    def us_max(w_p):\n",
    "        return w_us_max - w_p[0]/2 - w_p[1:25].sum()\n",
    "    \n",
    "    # 우선주 최대비중\n",
    "    def ps_max(w_p):\n",
    "        return w_ps_max - w_p[20:25].sum()\n",
    "\n",
    "    \n",
    "    def port_dvd(w_p):\n",
    "        return dvd.fillna(0) @ w_p\n",
    "    \n",
    "    \n",
    "    # 포트폴리오 최소 배당수익률\n",
    "    def dvd_sum_min(w_p):\n",
    "        return port_dvd(w_p) - dvd_min\n",
    "\n",
    "    resp = fmin_slsqp(objective, w_p0, \n",
    "                      eqcons=[sum_to_one], \n",
    "                      ieqcons=[\n",
    "                          us_min, \n",
    "                          us_max, \n",
    "                          ps_max, \n",
    "                          dvd_sum_min, \n",
    "                          #te_max, \n",
    "                          #te_min, \n",
    "                          #rp_err_max\n",
    "                      ], \n",
    "                      bounds=bounds, \n",
    "                      iter=1000, full_output=True, iprint=0)\n",
    "    \n",
    "    if resp[3]==0:\n",
    "        pos = resp[0]\n",
    "        \n",
    "    else:\n",
    "        pos = w_p0\n",
    "        print(date, resp[-1])\n",
    "\n",
    "        \n",
    "    weights[i-n_cov,:] = pos\n",
    "    result[date] = {\n",
    "        'sharpe': -resp[1], \n",
    "        'w_total': pos.sum(),\n",
    "        'dvd': port_dvd(pos), \n",
    "        'te': te(pos), \n",
    "    }        "
   ]
  },
  {
   "cell_type": "code",
   "execution_count": 54,
   "metadata": {
    "scrolled": false
   },
   "outputs": [
    {
     "data": {
      "text/html": [
       "<div>\n",
       "<style scoped>\n",
       "    .dataframe tbody tr th:only-of-type {\n",
       "        vertical-align: middle;\n",
       "    }\n",
       "\n",
       "    .dataframe tbody tr th {\n",
       "        vertical-align: top;\n",
       "    }\n",
       "\n",
       "    .dataframe thead th {\n",
       "        text-align: right;\n",
       "    }\n",
       "</style>\n",
       "<table border=\"1\" class=\"dataframe\">\n",
       "  <thead>\n",
       "    <tr style=\"text-align: right;\">\n",
       "      <th></th>\n",
       "      <th>sharpe</th>\n",
       "      <th>w_total</th>\n",
       "      <th>dvd</th>\n",
       "      <th>te</th>\n",
       "    </tr>\n",
       "  </thead>\n",
       "  <tbody>\n",
       "    <tr>\n",
       "      <td>2010-12-31</td>\n",
       "      <td>-0.358276</td>\n",
       "      <td>1.0</td>\n",
       "      <td>3.500090</td>\n",
       "      <td>0.358276</td>\n",
       "    </tr>\n",
       "    <tr>\n",
       "      <td>2011-01-31</td>\n",
       "      <td>-0.342950</td>\n",
       "      <td>1.0</td>\n",
       "      <td>3.511550</td>\n",
       "      <td>0.342950</td>\n",
       "    </tr>\n",
       "    <tr>\n",
       "      <td>2011-02-28</td>\n",
       "      <td>-0.343681</td>\n",
       "      <td>1.0</td>\n",
       "      <td>3.434200</td>\n",
       "      <td>0.343681</td>\n",
       "    </tr>\n",
       "    <tr>\n",
       "      <td>2011-03-31</td>\n",
       "      <td>-0.333840</td>\n",
       "      <td>1.0</td>\n",
       "      <td>3.452730</td>\n",
       "      <td>0.333840</td>\n",
       "    </tr>\n",
       "    <tr>\n",
       "      <td>2011-04-29</td>\n",
       "      <td>-0.339326</td>\n",
       "      <td>1.0</td>\n",
       "      <td>3.358960</td>\n",
       "      <td>0.339326</td>\n",
       "    </tr>\n",
       "    <tr>\n",
       "      <td>...</td>\n",
       "      <td>...</td>\n",
       "      <td>...</td>\n",
       "      <td>...</td>\n",
       "      <td>...</td>\n",
       "    </tr>\n",
       "    <tr>\n",
       "      <td>2019-08-30</td>\n",
       "      <td>-0.271533</td>\n",
       "      <td>1.0</td>\n",
       "      <td>4.854282</td>\n",
       "      <td>0.271533</td>\n",
       "    </tr>\n",
       "    <tr>\n",
       "      <td>2019-09-30</td>\n",
       "      <td>-0.278781</td>\n",
       "      <td>1.0</td>\n",
       "      <td>4.571288</td>\n",
       "      <td>0.278781</td>\n",
       "    </tr>\n",
       "    <tr>\n",
       "      <td>2019-10-31</td>\n",
       "      <td>-0.256679</td>\n",
       "      <td>1.0</td>\n",
       "      <td>4.502359</td>\n",
       "      <td>0.256679</td>\n",
       "    </tr>\n",
       "    <tr>\n",
       "      <td>2019-11-29</td>\n",
       "      <td>-0.255154</td>\n",
       "      <td>1.0</td>\n",
       "      <td>4.439440</td>\n",
       "      <td>0.255154</td>\n",
       "    </tr>\n",
       "    <tr>\n",
       "      <td>2019-12-31</td>\n",
       "      <td>-0.207077</td>\n",
       "      <td>1.0</td>\n",
       "      <td>3.566884</td>\n",
       "      <td>0.207077</td>\n",
       "    </tr>\n",
       "  </tbody>\n",
       "</table>\n",
       "<p>109 rows × 4 columns</p>\n",
       "</div>"
      ],
      "text/plain": [
       "              sharpe  w_total       dvd        te\n",
       "2010-12-31 -0.358276      1.0  3.500090  0.358276\n",
       "2011-01-31 -0.342950      1.0  3.511550  0.342950\n",
       "2011-02-28 -0.343681      1.0  3.434200  0.343681\n",
       "2011-03-31 -0.333840      1.0  3.452730  0.333840\n",
       "2011-04-29 -0.339326      1.0  3.358960  0.339326\n",
       "...              ...      ...       ...       ...\n",
       "2019-08-30 -0.271533      1.0  4.854282  0.271533\n",
       "2019-09-30 -0.278781      1.0  4.571288  0.278781\n",
       "2019-10-31 -0.256679      1.0  4.502359  0.256679\n",
       "2019-11-29 -0.255154      1.0  4.439440  0.255154\n",
       "2019-12-31 -0.207077      1.0  3.566884  0.207077\n",
       "\n",
       "[109 rows x 4 columns]"
      ]
     },
     "execution_count": 54,
     "metadata": {},
     "output_type": "execute_result"
    }
   ],
   "source": [
    "df_result = pd.DataFrame(result).T; df_result"
   ]
  },
  {
   "cell_type": "code",
   "execution_count": 55,
   "metadata": {},
   "outputs": [
    {
     "data": {
      "text/plain": [
       "<matplotlib.axes._subplots.AxesSubplot at 0x1b0febf69b0>"
      ]
     },
     "execution_count": 55,
     "metadata": {},
     "output_type": "execute_result"
    },
    {
     "data": {
      "image/png": "[encoded data removed]",
      "text/plain": [
       "<Figure size 432x288 with 1 Axes>"
      ]
     },
     "metadata": {
      "needs_background": "light"
     },
     "output_type": "display_data"
    }
   ],
   "source": [
    "df_result.te.plot()"
   ]
  },
  {
   "cell_type": "code",
   "execution_count": 56,
   "metadata": {
    "scrolled": true
   },
   "outputs": [],
   "source": [
    "df_w = pd.DataFrame(weights, index=df_result.index, columns=dvds.columns).shift(1); df_w;"
   ]
  },
  {
   "cell_type": "code",
   "execution_count": 57,
   "metadata": {
    "scrolled": true
   },
   "outputs": [
    {
     "data": {
      "text/plain": [
       "HDV     0.0832\n",
       "FVD     0.1000\n",
       "DIV     0.1000\n",
       "VIG     0.1000\n",
       "NOBL    0.0168\n",
       "PGF     0.1000\n",
       "VYMI    0.1000\n",
       "DEM     0.1000\n",
       "DGS     0.1000\n",
       "DVYE    0.1000\n",
       "IDV     0.1000\n",
       "Name: 2019-12-31 00:00:00, dtype: float64"
      ]
     },
     "execution_count": 57,
     "metadata": {},
     "output_type": "execute_result"
    }
   ],
   "source": [
    "df_w.iloc[-1][df_w.iloc[-1]>0.000001].round(4)"
   ]
  },
  {
   "cell_type": "code",
   "execution_count": 58,
   "metadata": {
    "scrolled": true
   },
   "outputs": [],
   "source": [
    "df_rtns = rtns.loc[df_result.index, dvds.columns]; df_rtns;"
   ]
  },
  {
   "cell_type": "code",
   "execution_count": 59,
   "metadata": {
    "scrolled": true
   },
   "outputs": [],
   "source": [
    "cum_port0 = (df_w*df_rtns).sum(axis=1).cumsum(); cum_port0;"
   ]
  },
  {
   "cell_type": "code",
   "execution_count": 60,
   "metadata": {},
   "outputs": [],
   "source": [
    "cum_bm = rtns_bm.loc[df_result.index]['M1ACWIHD INDEX']\n",
    "cum_bm.iloc[0] = 0\n",
    "cum_bm = cum_bm.cumsum(); cum_bm;"
   ]
  },
  {
   "cell_type": "code",
   "execution_count": 61,
   "metadata": {},
   "outputs": [
    {
     "data": {
      "text/plain": [
       "<matplotlib.axes._subplots.AxesSubplot at 0x1b0fcd56a58>"
      ]
     },
     "execution_count": 61,
     "metadata": {},
     "output_type": "execute_result"
    },
    {
     "data": {
      "image/png": "[encoded data removed]",
      "text/plain": [
       "<Figure size 432x288 with 1 Axes>"
      ]
     },
     "metadata": {
      "needs_background": "light"
     },
     "output_type": "display_data"
    }
   ],
   "source": [
    "cum = np.exp(pd.DataFrame({'port_0':cum_port0, 'bm':cum_bm})).iloc[:-1]\n",
    "cum.plot()"
   ]
  },
  {
   "cell_type": "code",
   "execution_count": 62,
   "metadata": {},
   "outputs": [
    {
     "data": {
      "text/html": [
       "<div>\n",
       "<style scoped>\n",
       "    .dataframe tbody tr th:only-of-type {\n",
       "        vertical-align: middle;\n",
       "    }\n",
       "\n",
       "    .dataframe tbody tr th {\n",
       "        vertical-align: top;\n",
       "    }\n",
       "\n",
       "    .dataframe thead th {\n",
       "        text-align: right;\n",
       "    }\n",
       "</style>\n",
       "<table border=\"1\" class=\"dataframe\">\n",
       "  <thead>\n",
       "    <tr style=\"text-align: right;\">\n",
       "      <th></th>\n",
       "      <th>cagr</th>\n",
       "      <th>std</th>\n",
       "      <th>rar</th>\n",
       "      <th>cagr_ex</th>\n",
       "      <th>te</th>\n",
       "      <th>ir</th>\n",
       "    </tr>\n",
       "  </thead>\n",
       "  <tbody>\n",
       "    <tr>\n",
       "      <td>port_0</td>\n",
       "      <td>9.30</td>\n",
       "      <td>9.22</td>\n",
       "      <td>1.01</td>\n",
       "      <td>2.06</td>\n",
       "      <td>4.46</td>\n",
       "      <td>0.46</td>\n",
       "    </tr>\n",
       "    <tr>\n",
       "      <td>bm</td>\n",
       "      <td>7.24</td>\n",
       "      <td>11.29</td>\n",
       "      <td>0.64</td>\n",
       "      <td>0.00</td>\n",
       "      <td>0.00</td>\n",
       "      <td>0.00</td>\n",
       "    </tr>\n",
       "  </tbody>\n",
       "</table>\n",
       "</div>"
      ],
      "text/plain": [
       "        cagr    std   rar  cagr_ex    te    ir\n",
       "port_0  9.30   9.22  1.01     2.06  4.46  0.46\n",
       "bm      7.24  11.29  0.64     0.00  0.00  0.00"
      ]
     },
     "execution_count": 62,
     "metadata": {},
     "output_type": "execute_result"
    }
   ],
   "source": [
    "std = cum.pct_change().std()*(12**0.5) * 100\n",
    "cagr = (cum.iloc[-1]**(12/(len(cum)-1))-1) * 100\n",
    "rar = cagr/std\n",
    "stats = pd.DataFrame({'cagr':cagr, 'std':std, 'rar':rar})\n",
    "stats['cagr_ex'] = stats.cagr - stats.cagr['bm']\n",
    "stats['te'] = cum.pct_change().sub(cum.bm.pct_change(), axis=0).std()*(12**0.5) * 100\n",
    "stats['ir'] = (stats.cagr_ex/stats.te).fillna(0)\n",
    "stats.round(2)"
   ]
  },
  {
   "cell_type": "code",
   "execution_count": null,
   "metadata": {},
   "outputs": [],
   "source": []
  },
  {
   "cell_type": "markdown",
   "metadata": {},
   "source": [
    "# 모멘텀 종목 고르는 경우"
   ]
  },
  {
   "cell_type": "code",
   "execution_count": 65,
   "metadata": {
    "scrolled": true
   },
   "outputs": [
    {
     "data": {
      "application/vnd.jupyter.widget-view+json": {
       "model_id": "e7d561d5509f417db3edc9a73552b78f",
       "version_major": 2,
       "version_minor": 0
      },
      "text/plain": [
       "HBox(children=(IntProgress(value=0, max=109), HTML(value='')))"
      ]
     },
     "metadata": {},
     "output_type": "display_data"
    },
    {
     "name": "stdout",
     "output_type": "stream",
     "text": [
      "> <ipython-input-65-cb310b7ff023>(30)has_value()\n",
      "     28 def has_value(rt, n_filter, investable):\n",
      "     29     set_trace()\n",
      "---> 30     vals = (-rt.iloc[-1] / rt.iloc[-12:].sum(min_count=6)).values\n",
      "     31     vals[investable.values==0][:] = np.nan\n",
      "     32     vals[-2:] = np.nan\n",
      "\n",
      "ipdb> q\n"
     ]
    },
    {
     "ename": "BdbQuit",
     "evalue": "",
     "output_type": "error",
     "traceback": [
      "\u001b[1;31m---------------------------------------------------------------------------\u001b[0m",
      "\u001b[1;31mBdbQuit\u001b[0m                                   Traceback (most recent call last)",
      "\u001b[1;32m<ipython-input-65-cb310b7ff023>\u001b[0m in \u001b[0;36m<module>\u001b[1;34m\u001b[0m\n\u001b[0;32m     45\u001b[0m \u001b[1;33m\u001b[0m\u001b[0m\n\u001b[0;32m     46\u001b[0m     \u001b[0minvestable\u001b[0m \u001b[1;33m=\u001b[0m \u001b[1;36m1\u001b[0m \u001b[1;33m-\u001b[0m \u001b[1;33m(\u001b[0m\u001b[0mdvd\u001b[0m\u001b[1;33m.\u001b[0m\u001b[0misna\u001b[0m\u001b[1;33m(\u001b[0m\u001b[1;33m)\u001b[0m \u001b[1;33m|\u001b[0m \u001b[0m_rtns\u001b[0m\u001b[1;33m.\u001b[0m\u001b[0miloc\u001b[0m\u001b[1;33m[\u001b[0m\u001b[1;33m-\u001b[0m\u001b[1;36m1\u001b[0m\u001b[1;33m]\u001b[0m\u001b[1;33m.\u001b[0m\u001b[0misna\u001b[0m\u001b[1;33m(\u001b[0m\u001b[1;33m)\u001b[0m \u001b[1;33m|\u001b[0m \u001b[0mexc\u001b[0m\u001b[1;33m)\u001b[0m\u001b[1;33m\u001b[0m\u001b[1;33m\u001b[0m\u001b[0m\n\u001b[1;32m---> 47\u001b[1;33m     \u001b[0minvestable\u001b[0m \u001b[1;33m=\u001b[0m \u001b[0minvestable\u001b[0m\u001b[1;33m.\u001b[0m\u001b[0mvalues\u001b[0m \u001b[1;33m*\u001b[0m \u001b[0mhas_value\u001b[0m\u001b[1;33m(\u001b[0m\u001b[0m_rtns\u001b[0m\u001b[1;33m,\u001b[0m \u001b[1;36m0.5\u001b[0m\u001b[1;33m,\u001b[0m \u001b[0minvestable\u001b[0m\u001b[1;33m)\u001b[0m\u001b[1;33m\u001b[0m\u001b[1;33m\u001b[0m\u001b[0m\n\u001b[0m\u001b[0;32m     48\u001b[0m     \u001b[1;31m#investable = has_value(_rtns, 0.5, investable)\u001b[0m\u001b[1;33m\u001b[0m\u001b[1;33m\u001b[0m\u001b[1;33m\u001b[0m\u001b[0m\n\u001b[0;32m     49\u001b[0m     \u001b[0minvestable\u001b[0m\u001b[1;33m.\u001b[0m\u001b[0miloc\u001b[0m\u001b[1;33m[\u001b[0m\u001b[1;36m0\u001b[0m\u001b[1;33m]\u001b[0m \u001b[1;33m=\u001b[0m \u001b[1;36m1\u001b[0m\u001b[1;33m\u001b[0m\u001b[1;33m\u001b[0m\u001b[0m\n",
      "\u001b[1;32m<ipython-input-65-cb310b7ff023>\u001b[0m in \u001b[0;36mhas_value\u001b[1;34m(rt, n_filter, investable)\u001b[0m\n\u001b[0;32m     28\u001b[0m \u001b[1;32mdef\u001b[0m \u001b[0mhas_value\u001b[0m\u001b[1;33m(\u001b[0m\u001b[0mrt\u001b[0m\u001b[1;33m,\u001b[0m \u001b[0mn_filter\u001b[0m\u001b[1;33m,\u001b[0m \u001b[0minvestable\u001b[0m\u001b[1;33m)\u001b[0m\u001b[1;33m:\u001b[0m\u001b[1;33m\u001b[0m\u001b[1;33m\u001b[0m\u001b[0m\n\u001b[0;32m     29\u001b[0m     \u001b[0mset_trace\u001b[0m\u001b[1;33m(\u001b[0m\u001b[1;33m)\u001b[0m\u001b[1;33m\u001b[0m\u001b[1;33m\u001b[0m\u001b[0m\n\u001b[1;32m---> 30\u001b[1;33m     \u001b[0mvals\u001b[0m \u001b[1;33m=\u001b[0m \u001b[1;33m(\u001b[0m\u001b[1;33m-\u001b[0m\u001b[0mrt\u001b[0m\u001b[1;33m.\u001b[0m\u001b[0miloc\u001b[0m\u001b[1;33m[\u001b[0m\u001b[1;33m-\u001b[0m\u001b[1;36m1\u001b[0m\u001b[1;33m]\u001b[0m \u001b[1;33m/\u001b[0m \u001b[0mrt\u001b[0m\u001b[1;33m.\u001b[0m\u001b[0miloc\u001b[0m\u001b[1;33m[\u001b[0m\u001b[1;33m-\u001b[0m\u001b[1;36m12\u001b[0m\u001b[1;33m:\u001b[0m\u001b[1;33m]\u001b[0m\u001b[1;33m.\u001b[0m\u001b[0msum\u001b[0m\u001b[1;33m(\u001b[0m\u001b[0mmin_count\u001b[0m\u001b[1;33m=\u001b[0m\u001b[1;36m6\u001b[0m\u001b[1;33m)\u001b[0m\u001b[1;33m)\u001b[0m\u001b[1;33m.\u001b[0m\u001b[0mvalues\u001b[0m\u001b[1;33m\u001b[0m\u001b[1;33m\u001b[0m\u001b[0m\n\u001b[0m\u001b[0;32m     31\u001b[0m     \u001b[0mvals\u001b[0m\u001b[1;33m[\u001b[0m\u001b[0minvestable\u001b[0m\u001b[1;33m.\u001b[0m\u001b[0mvalues\u001b[0m\u001b[1;33m==\u001b[0m\u001b[1;36m0\u001b[0m\u001b[1;33m]\u001b[0m\u001b[1;33m[\u001b[0m\u001b[1;33m:\u001b[0m\u001b[1;33m]\u001b[0m \u001b[1;33m=\u001b[0m \u001b[0mnp\u001b[0m\u001b[1;33m.\u001b[0m\u001b[0mnan\u001b[0m\u001b[1;33m\u001b[0m\u001b[1;33m\u001b[0m\u001b[0m\n\u001b[0;32m     32\u001b[0m     \u001b[0mvals\u001b[0m\u001b[1;33m[\u001b[0m\u001b[1;33m-\u001b[0m\u001b[1;36m2\u001b[0m\u001b[1;33m:\u001b[0m\u001b[1;33m]\u001b[0m \u001b[1;33m=\u001b[0m \u001b[0mnp\u001b[0m\u001b[1;33m.\u001b[0m\u001b[0mnan\u001b[0m\u001b[1;33m\u001b[0m\u001b[1;33m\u001b[0m\u001b[0m\n",
      "\u001b[1;32m<ipython-input-65-cb310b7ff023>\u001b[0m in \u001b[0;36mhas_value\u001b[1;34m(rt, n_filter, investable)\u001b[0m\n\u001b[0;32m     28\u001b[0m \u001b[1;32mdef\u001b[0m \u001b[0mhas_value\u001b[0m\u001b[1;33m(\u001b[0m\u001b[0mrt\u001b[0m\u001b[1;33m,\u001b[0m \u001b[0mn_filter\u001b[0m\u001b[1;33m,\u001b[0m \u001b[0minvestable\u001b[0m\u001b[1;33m)\u001b[0m\u001b[1;33m:\u001b[0m\u001b[1;33m\u001b[0m\u001b[1;33m\u001b[0m\u001b[0m\n\u001b[0;32m     29\u001b[0m     \u001b[0mset_trace\u001b[0m\u001b[1;33m(\u001b[0m\u001b[1;33m)\u001b[0m\u001b[1;33m\u001b[0m\u001b[1;33m\u001b[0m\u001b[0m\n\u001b[1;32m---> 30\u001b[1;33m     \u001b[0mvals\u001b[0m \u001b[1;33m=\u001b[0m \u001b[1;33m(\u001b[0m\u001b[1;33m-\u001b[0m\u001b[0mrt\u001b[0m\u001b[1;33m.\u001b[0m\u001b[0miloc\u001b[0m\u001b[1;33m[\u001b[0m\u001b[1;33m-\u001b[0m\u001b[1;36m1\u001b[0m\u001b[1;33m]\u001b[0m \u001b[1;33m/\u001b[0m \u001b[0mrt\u001b[0m\u001b[1;33m.\u001b[0m\u001b[0miloc\u001b[0m\u001b[1;33m[\u001b[0m\u001b[1;33m-\u001b[0m\u001b[1;36m12\u001b[0m\u001b[1;33m:\u001b[0m\u001b[1;33m]\u001b[0m\u001b[1;33m.\u001b[0m\u001b[0msum\u001b[0m\u001b[1;33m(\u001b[0m\u001b[0mmin_count\u001b[0m\u001b[1;33m=\u001b[0m\u001b[1;36m6\u001b[0m\u001b[1;33m)\u001b[0m\u001b[1;33m)\u001b[0m\u001b[1;33m.\u001b[0m\u001b[0mvalues\u001b[0m\u001b[1;33m\u001b[0m\u001b[1;33m\u001b[0m\u001b[0m\n\u001b[0m\u001b[0;32m     31\u001b[0m     \u001b[0mvals\u001b[0m\u001b[1;33m[\u001b[0m\u001b[0minvestable\u001b[0m\u001b[1;33m.\u001b[0m\u001b[0mvalues\u001b[0m\u001b[1;33m==\u001b[0m\u001b[1;36m0\u001b[0m\u001b[1;33m]\u001b[0m\u001b[1;33m[\u001b[0m\u001b[1;33m:\u001b[0m\u001b[1;33m]\u001b[0m \u001b[1;33m=\u001b[0m \u001b[0mnp\u001b[0m\u001b[1;33m.\u001b[0m\u001b[0mnan\u001b[0m\u001b[1;33m\u001b[0m\u001b[1;33m\u001b[0m\u001b[0m\n\u001b[0;32m     32\u001b[0m     \u001b[0mvals\u001b[0m\u001b[1;33m[\u001b[0m\u001b[1;33m-\u001b[0m\u001b[1;36m2\u001b[0m\u001b[1;33m:\u001b[0m\u001b[1;33m]\u001b[0m \u001b[1;33m=\u001b[0m \u001b[0mnp\u001b[0m\u001b[1;33m.\u001b[0m\u001b[0mnan\u001b[0m\u001b[1;33m\u001b[0m\u001b[1;33m\u001b[0m\u001b[0m\n",
      "\u001b[1;32m~\\Anaconda3\\lib\\bdb.py\u001b[0m in \u001b[0;36mtrace_dispatch\u001b[1;34m(self, frame, event, arg)\u001b[0m\n\u001b[0;32m     86\u001b[0m             \u001b[1;32mreturn\u001b[0m \u001b[1;31m# None\u001b[0m\u001b[1;33m\u001b[0m\u001b[1;33m\u001b[0m\u001b[0m\n\u001b[0;32m     87\u001b[0m         \u001b[1;32mif\u001b[0m \u001b[0mevent\u001b[0m \u001b[1;33m==\u001b[0m \u001b[1;34m'line'\u001b[0m\u001b[1;33m:\u001b[0m\u001b[1;33m\u001b[0m\u001b[1;33m\u001b[0m\u001b[0m\n\u001b[1;32m---> 88\u001b[1;33m             \u001b[1;32mreturn\u001b[0m \u001b[0mself\u001b[0m\u001b[1;33m.\u001b[0m\u001b[0mdispatch_line\u001b[0m\u001b[1;33m(\u001b[0m\u001b[0mframe\u001b[0m\u001b[1;33m)\u001b[0m\u001b[1;33m\u001b[0m\u001b[1;33m\u001b[0m\u001b[0m\n\u001b[0m\u001b[0;32m     89\u001b[0m         \u001b[1;32mif\u001b[0m \u001b[0mevent\u001b[0m \u001b[1;33m==\u001b[0m \u001b[1;34m'call'\u001b[0m\u001b[1;33m:\u001b[0m\u001b[1;33m\u001b[0m\u001b[1;33m\u001b[0m\u001b[0m\n\u001b[0;32m     90\u001b[0m             \u001b[1;32mreturn\u001b[0m \u001b[0mself\u001b[0m\u001b[1;33m.\u001b[0m\u001b[0mdispatch_call\u001b[0m\u001b[1;33m(\u001b[0m\u001b[0mframe\u001b[0m\u001b[1;33m,\u001b[0m \u001b[0marg\u001b[0m\u001b[1;33m)\u001b[0m\u001b[1;33m\u001b[0m\u001b[1;33m\u001b[0m\u001b[0m\n",
      "\u001b[1;32m~\\Anaconda3\\lib\\bdb.py\u001b[0m in \u001b[0;36mdispatch_line\u001b[1;34m(self, frame)\u001b[0m\n\u001b[0;32m    111\u001b[0m         \u001b[1;32mif\u001b[0m \u001b[0mself\u001b[0m\u001b[1;33m.\u001b[0m\u001b[0mstop_here\u001b[0m\u001b[1;33m(\u001b[0m\u001b[0mframe\u001b[0m\u001b[1;33m)\u001b[0m \u001b[1;32mor\u001b[0m \u001b[0mself\u001b[0m\u001b[1;33m.\u001b[0m\u001b[0mbreak_here\u001b[0m\u001b[1;33m(\u001b[0m\u001b[0mframe\u001b[0m\u001b[1;33m)\u001b[0m\u001b[1;33m:\u001b[0m\u001b[1;33m\u001b[0m\u001b[1;33m\u001b[0m\u001b[0m\n\u001b[0;32m    112\u001b[0m             \u001b[0mself\u001b[0m\u001b[1;33m.\u001b[0m\u001b[0muser_line\u001b[0m\u001b[1;33m(\u001b[0m\u001b[0mframe\u001b[0m\u001b[1;33m)\u001b[0m\u001b[1;33m\u001b[0m\u001b[1;33m\u001b[0m\u001b[0m\n\u001b[1;32m--> 113\u001b[1;33m             \u001b[1;32mif\u001b[0m \u001b[0mself\u001b[0m\u001b[1;33m.\u001b[0m\u001b[0mquitting\u001b[0m\u001b[1;33m:\u001b[0m \u001b[1;32mraise\u001b[0m \u001b[0mBdbQuit\u001b[0m\u001b[1;33m\u001b[0m\u001b[1;33m\u001b[0m\u001b[0m\n\u001b[0m\u001b[0;32m    114\u001b[0m         \u001b[1;32mreturn\u001b[0m \u001b[0mself\u001b[0m\u001b[1;33m.\u001b[0m\u001b[0mtrace_dispatch\u001b[0m\u001b[1;33m\u001b[0m\u001b[1;33m\u001b[0m\u001b[0m\n\u001b[0;32m    115\u001b[0m \u001b[1;33m\u001b[0m\u001b[0m\n",
      "\u001b[1;31mBdbQuit\u001b[0m: "
     ]
    }
   ],
   "source": [
    "'''\n",
    "변수설정\n",
    "'''\n",
    "n_dates = len(rtns)\n",
    "n_cov = 12             # cov 계산 개월수\n",
    "\n",
    "bm_w_max = 0.00\n",
    "w_max = 0.10           # 종목 최대비중\n",
    "w_us_min = 0.4         # 미국 최소비중\n",
    "w_us_max = 0.8         # 미국 최대비중\n",
    "w_ps_max = 0.1         # 우선주 최대비중\n",
    "dvd_min = 2.5          # 포트폴리오 최소 배당수익률\n",
    "te_limit_max = 0.05\n",
    "te_limit_min = 0.01\n",
    "\n",
    "n = len(rtns.columns)  # 종목수\n",
    "dates_rng = range(n_cov, n_dates)\n",
    "weights = np.zeros((len(dates_rng), n))\n",
    "result = {}\n",
    "\n",
    "\n",
    "def covar(rt):\n",
    "    _cov = rt.cov(min_periods=n_cov/2)\n",
    "    _exc = _cov.iloc[0].isna()\n",
    "    return _cov.fillna(0), _exc\n",
    "\n",
    "\n",
    "def has_value(rt, n_filter, investable):\n",
    "    set_trace()\n",
    "    vals = (-rt.iloc[-1] / rt.iloc[-12:].sum(min_count=6)).values\n",
    "    vals[investable.values==0][:] = np.nan\n",
    "    vals[-2:] = np.nan\n",
    "    univ['value'] = vals\n",
    "    out = univ.groupby('category')['value'].rank(ascending=False, pct=True, na_option='bottom') <= n_filter\n",
    "    out[0] = 1\n",
    "    return out\n",
    "\n",
    "\n",
    "for i in tqdm_notebook(dates_rng[:]):\n",
    "    date = rtns.index[i]\n",
    "    \n",
    "    _rtns = rtns.iloc[i-11:i+1]\n",
    "    cov, exc = covar(_rtns)\n",
    "    dvd = dvds.iloc[i]\n",
    "    \n",
    "    investable = 1 - (dvd.isna() | _rtns.iloc[-1].isna() | exc)\n",
    "    investable = investable.values * has_value(_rtns, 0.5, investable)\n",
    "    #investable = has_value(_rtns, 0.5, investable)\n",
    "    investable.iloc[0] = 1\n",
    "    investable.iloc[-2:] = 0\n",
    "    \n",
    "    w_p0 = (1/_rtns.std()) * investable.values\n",
    "    w_p0 = w_p0.fillna(0) / w_p0.sum()\n",
    "\n",
    "    #valuable = has_value(_rtns, 0.5, investable)\n",
    "    \n",
    "    _w_max = w_max*investable\n",
    "    #_w_max = w_p0.copy()# * 3\n",
    "    #_w_max[valuable.values] = _w_max * 6\n",
    "    #_w_max[~valuable.values] = _w_max * 0\n",
    "    #_w_max[_w_max>w_max] = w_max\n",
    "    _w_max.iloc[0] = bm_w_max\n",
    "    bounds = list(zip(np.zeros(n), _w_max))\n",
    "    \n",
    "\n",
    "    def objective(w_p):\n",
    "        return te(w_p)\n",
    "        #return -sharpe(w_p)\n",
    "        #return -ir(w_p)\n",
    "    \n",
    "    \n",
    "    def sharpe(w_p):\n",
    "        _rp = rtn_projection(w_p)\n",
    "        _vol = vol(w_p)\n",
    "        return _rp / _vol\n",
    "\n",
    "    def ir(w_p):\n",
    "        _rp = rtn_projection(w_p, rel=True)\n",
    "        _te = te(w_p)\n",
    "        return _rp / _te\n",
    "    \n",
    "    \n",
    "    def rtn_projection(w_p, rel=False):\n",
    "        _rtns_sum = _rtns.iloc[:-1].sum().fillna(0)\n",
    "        _proj = _rtns_sum @ w_p\n",
    "        \n",
    "        if rel:\n",
    "            return _proj - _rtns_sum[0]\n",
    "        else:\n",
    "            return _proj\n",
    "        \n",
    "    \n",
    "    def vol(w_p, te=False):\n",
    "        ww = w_p.copy()\n",
    "        if te: ww[0] += 1\n",
    "        var = 12 * (ww @ cov @ ww)\n",
    "        return var**0.5\n",
    "        \n",
    "        \n",
    "    def te(w_p):\n",
    "        return vol(w_p, te=True)\n",
    "\n",
    "    def te_max(w_p):\n",
    "        return te_limit_max - te(w_p)\n",
    "    \n",
    "    def te_min(w_p):\n",
    "        return te(w_p) - te_limit_min\n",
    "    \n",
    "    def rp_err_max(w_p):\n",
    "        #set_trace()\n",
    "        #rp = (w_p>0.00001) * (1 / _rtns.std())\n",
    "        #rp /= rp.sum()\n",
    "        #return 0.05 - (rp - w_p).std()\n",
    "        #return 0.04 - (w_p0 - w_p).std()\n",
    "        return 0.03 - (w_p0[1:]/w_p0[1:].sum() - w_p[1:]/w_p[1:].sum()).std()\n",
    "        #return 0.03 - (w_p0 - w_p).abs().max()\n",
    "        \n",
    "    \n",
    "    def sum_to_one(w_p):\n",
    "        return 1 - w_p.sum()\n",
    "    \n",
    "    # 미국 최소비중\n",
    "    def us_min(w_p):\n",
    "        return w_p[0]/2 + w_p[1:25].sum() - w_us_min\n",
    "\n",
    "    # 미국 최대비중\n",
    "    def us_max(w_p):\n",
    "        return w_us_max - w_p[0]/2 - w_p[1:25].sum()\n",
    "    \n",
    "    # 우선주 최대비중\n",
    "    def ps_max(w_p):\n",
    "        return w_ps_max - w_p[20:25].sum()\n",
    "\n",
    "    \n",
    "    def port_dvd(w_p):\n",
    "        return dvd.fillna(0) @ w_p\n",
    "    \n",
    "    \n",
    "    # 포트폴리오 최소 배당수익률\n",
    "    def dvd_sum_min(w_p):\n",
    "        return port_dvd(w_p) - dvd_min\n",
    "\n",
    "    resp = fmin_slsqp(objective, w_p0, \n",
    "                      eqcons=[sum_to_one], \n",
    "                      ieqcons=[\n",
    "                          us_min, \n",
    "                          us_max, \n",
    "                          ps_max, \n",
    "                          dvd_sum_min, \n",
    "                          #te_max, \n",
    "                          #te_min, \n",
    "                          #rp_err_max\n",
    "                      ], \n",
    "                      bounds=bounds, \n",
    "                      iter=1000, full_output=True, iprint=0)\n",
    "    \n",
    "    if resp[3]==0:\n",
    "        pos = resp[0]\n",
    "        \n",
    "    else:\n",
    "        pos = w_p0\n",
    "        pos[:] = 0\n",
    "        pos[0] = 1\n",
    "        print(date, resp[-1])\n",
    "\n",
    "        \n",
    "    weights[i-n_cov,:] = pos\n",
    "    result[date] = {\n",
    "        'sharpe': -resp[1], \n",
    "        'w_total': pos.sum(),\n",
    "        'dvd': port_dvd(pos), \n",
    "        'te': te(pos), \n",
    "    }"
   ]
  },
  {
   "cell_type": "code",
   "execution_count": 1470,
   "metadata": {
    "scrolled": true
   },
   "outputs": [
    {
     "data": {
      "text/plain": [
       "<matplotlib.axes._subplots.AxesSubplot at 0x1d8136ef780>"
      ]
     },
     "execution_count": 1470,
     "metadata": {},
     "output_type": "execute_result"
    },
    {
     "data": {
      "image/png": "[encoded data removed]",
      "text/plain": [
       "<Figure size 432x288 with 1 Axes>"
      ]
     },
     "metadata": {
      "needs_background": "light"
     },
     "output_type": "display_data"
    }
   ],
   "source": [
    "df_result = pd.DataFrame(result).T; df_result.te.plot()"
   ]
  },
  {
   "cell_type": "code",
   "execution_count": 1471,
   "metadata": {},
   "outputs": [],
   "source": [
    "df_w = pd.DataFrame(weights, index=df_result.index, columns=dvds.columns).shift(1)"
   ]
  },
  {
   "cell_type": "code",
   "execution_count": 1472,
   "metadata": {},
   "outputs": [
    {
     "data": {
      "text/plain": [
       "ACWI    0.2304\n",
       "FVD     0.1657\n",
       "VIG     0.1478\n",
       "NOBL    0.0125\n",
       "DGRO    0.0119\n",
       "PGX     0.1000\n",
       "PID     0.0127\n",
       "DEM     0.0126\n",
       "DGS     0.1503\n",
       "IDV     0.1559\n",
       "Name: 2019-12-31 00:00:00, dtype: float64"
      ]
     },
     "execution_count": 1472,
     "metadata": {},
     "output_type": "execute_result"
    }
   ],
   "source": [
    "df_w.round(4).iloc[-1][df_w.iloc[-1]>0.00001]"
   ]
  },
  {
   "cell_type": "code",
   "execution_count": 1473,
   "metadata": {},
   "outputs": [
    {
     "data": {
      "text/plain": [
       "<matplotlib.axes._subplots.AxesSubplot at 0x1d8136dbe80>"
      ]
     },
     "execution_count": 1473,
     "metadata": {},
     "output_type": "execute_result"
    },
    {
     "data": {
      "image/png": "[encoded data removed]",
      "text/plain": [
       "<Figure size 432x288 with 1 Axes>"
      ]
     },
     "metadata": {
      "needs_background": "light"
     },
     "output_type": "display_data"
    }
   ],
   "source": [
    "df_w.ACWI.plot()"
   ]
  },
  {
   "cell_type": "code",
   "execution_count": 1474,
   "metadata": {},
   "outputs": [],
   "source": [
    "df_rtns = rtns.loc[df_result.index, dvds.columns]"
   ]
  },
  {
   "cell_type": "code",
   "execution_count": 1475,
   "metadata": {},
   "outputs": [],
   "source": [
    "cum_port1 = (df_w*df_rtns).sum(axis=1).cumsum()"
   ]
  },
  {
   "cell_type": "code",
   "execution_count": 1476,
   "metadata": {},
   "outputs": [],
   "source": [
    "cum_bm = rtns_bm.loc[df_result.index]['ACWI TR']\n",
    "cum_bm.iloc[0] = 0\n",
    "cum_bm = cum_bm.cumsum(); cum_bm;"
   ]
  },
  {
   "cell_type": "code",
   "execution_count": 1477,
   "metadata": {
    "scrolled": false
   },
   "outputs": [
    {
     "data": {
      "text/plain": [
       "<matplotlib.axes._subplots.AxesSubplot at 0x1d8138422b0>"
      ]
     },
     "execution_count": 1477,
     "metadata": {},
     "output_type": "execute_result"
    },
    {
     "data": {
      "image/png": "[encoded data removed]",
      "text/plain": [
       "<Figure size 432x288 with 1 Axes>"
      ]
     },
     "metadata": {
      "needs_background": "light"
     },
     "output_type": "display_data"
    }
   ],
   "source": [
    "cum = np.exp(pd.DataFrame({'port_1':cum_port1, 'port_0':cum_port0, 'bm':cum_bm})).iloc[:-1]\n",
    "cum.plot()"
   ]
  },
  {
   "cell_type": "code",
   "execution_count": 1478,
   "metadata": {},
   "outputs": [
    {
     "data": {
      "text/html": [
       "<div>\n",
       "<style scoped>\n",
       "    .dataframe tbody tr th:only-of-type {\n",
       "        vertical-align: middle;\n",
       "    }\n",
       "\n",
       "    .dataframe tbody tr th {\n",
       "        vertical-align: top;\n",
       "    }\n",
       "\n",
       "    .dataframe thead th {\n",
       "        text-align: right;\n",
       "    }\n",
       "</style>\n",
       "<table border=\"1\" class=\"dataframe\">\n",
       "  <thead>\n",
       "    <tr style=\"text-align: right;\">\n",
       "      <th></th>\n",
       "      <th>cagr</th>\n",
       "      <th>std</th>\n",
       "      <th>rar</th>\n",
       "      <th>cagr_ex</th>\n",
       "      <th>te</th>\n",
       "      <th>ir</th>\n",
       "    </tr>\n",
       "  </thead>\n",
       "  <tbody>\n",
       "    <tr>\n",
       "      <td>port_1</td>\n",
       "      <td>10.51</td>\n",
       "      <td>9.89</td>\n",
       "      <td>1.06</td>\n",
       "      <td>2.49</td>\n",
       "      <td>4.36</td>\n",
       "      <td>0.57</td>\n",
       "    </tr>\n",
       "    <tr>\n",
       "      <td>port_0</td>\n",
       "      <td>9.97</td>\n",
       "      <td>9.92</td>\n",
       "      <td>1.01</td>\n",
       "      <td>1.95</td>\n",
       "      <td>4.30</td>\n",
       "      <td>0.45</td>\n",
       "    </tr>\n",
       "    <tr>\n",
       "      <td>bm</td>\n",
       "      <td>8.03</td>\n",
       "      <td>12.27</td>\n",
       "      <td>0.65</td>\n",
       "      <td>0.00</td>\n",
       "      <td>0.00</td>\n",
       "      <td>0.00</td>\n",
       "    </tr>\n",
       "  </tbody>\n",
       "</table>\n",
       "</div>"
      ],
      "text/plain": [
       "         cagr    std   rar  cagr_ex    te    ir\n",
       "port_1  10.51   9.89  1.06     2.49  4.36  0.57\n",
       "port_0   9.97   9.92  1.01     1.95  4.30  0.45\n",
       "bm       8.03  12.27  0.65     0.00  0.00  0.00"
      ]
     },
     "execution_count": 1478,
     "metadata": {},
     "output_type": "execute_result"
    }
   ],
   "source": [
    "std = cum.pct_change().std()*(12**0.5) * 100\n",
    "cagr = (cum.iloc[-1]**(12/(len(cum)-1))-1) * 100\n",
    "rar = cagr/std\n",
    "stats = pd.DataFrame({'cagr':cagr, 'std':std, 'rar':rar})\n",
    "stats['cagr_ex'] = stats.cagr - stats.cagr['bm']\n",
    "stats['te'] = cum.pct_change().sub(cum.bm.pct_change(), axis=0).std()*(12**0.5) * 100\n",
    "stats['ir'] = (stats.cagr_ex/stats.te).fillna(0)\n",
    "stats.round(2)"
   ]
  },
  {
   "cell_type": "code",
   "execution_count": null,
   "metadata": {},
   "outputs": [],
   "source": []
  },
  {
   "cell_type": "markdown",
   "metadata": {},
   "source": [
    "# BM 모멘텀이 안나올때 UST 편입하는 경우"
   ]
  },
  {
   "cell_type": "code",
   "execution_count": 1479,
   "metadata": {
    "scrolled": true
   },
   "outputs": [],
   "source": [
    "df_bm_rtns = rtns['ACWI'].rolling(3).sum().loc[df_result.index]; df_bm_rtns;"
   ]
  },
  {
   "cell_type": "code",
   "execution_count": 1480,
   "metadata": {},
   "outputs": [],
   "source": [
    "UST = 'TLT'"
   ]
  },
  {
   "cell_type": "code",
   "execution_count": 1481,
   "metadata": {},
   "outputs": [],
   "source": [
    "df_w_append = df_w.copy()\n",
    "for date, val in df_bm_rtns.items():\n",
    "    if val<0:\n",
    "        df_w_append.loc[date] *= 0.8\n",
    "        df_w_append.loc[date, UST] = 0.2"
   ]
  },
  {
   "cell_type": "code",
   "execution_count": 1482,
   "metadata": {},
   "outputs": [],
   "source": [
    "#df_rtns[UST] = rtns.loc[df_result.index, UST]"
   ]
  },
  {
   "cell_type": "code",
   "execution_count": 1483,
   "metadata": {},
   "outputs": [],
   "source": [
    "cum_port2 = (df_w_append*df_rtns).sum(axis=1).cumsum()"
   ]
  },
  {
   "cell_type": "code",
   "execution_count": 1484,
   "metadata": {},
   "outputs": [],
   "source": [
    "cum_bm = rtns_bm.loc[df_result.index]['ACWI TR']\n",
    "cum_bm.iloc[0] = 0\n",
    "cum_bm = cum_bm.cumsum(); cum_bm;"
   ]
  },
  {
   "cell_type": "code",
   "execution_count": 1485,
   "metadata": {},
   "outputs": [
    {
     "data": {
      "text/plain": [
       "<matplotlib.axes._subplots.AxesSubplot at 0x1d81391d7b8>"
      ]
     },
     "execution_count": 1485,
     "metadata": {},
     "output_type": "execute_result"
    },
    {
     "data": {
      "image/png": "[encoded data removed]",
      "text/plain": [
       "<Figure size 432x288 with 1 Axes>"
      ]
     },
     "metadata": {
      "needs_background": "light"
     },
     "output_type": "display_data"
    }
   ],
   "source": [
    "cum = np.exp(pd.DataFrame({'port_2':cum_port2, 'port_1':cum_port1, 'port_0':cum_port0, 'bm':cum_bm}))#.iloc[:-1]\n",
    "cum.plot()"
   ]
  },
  {
   "cell_type": "code",
   "execution_count": 1486,
   "metadata": {},
   "outputs": [
    {
     "data": {
      "text/html": [
       "<div>\n",
       "<style scoped>\n",
       "    .dataframe tbody tr th:only-of-type {\n",
       "        vertical-align: middle;\n",
       "    }\n",
       "\n",
       "    .dataframe tbody tr th {\n",
       "        vertical-align: top;\n",
       "    }\n",
       "\n",
       "    .dataframe thead th {\n",
       "        text-align: right;\n",
       "    }\n",
       "</style>\n",
       "<table border=\"1\" class=\"dataframe\">\n",
       "  <thead>\n",
       "    <tr style=\"text-align: right;\">\n",
       "      <th></th>\n",
       "      <th>cagr</th>\n",
       "      <th>std</th>\n",
       "      <th>rar</th>\n",
       "      <th>cagr_ex</th>\n",
       "      <th>te</th>\n",
       "      <th>ir</th>\n",
       "    </tr>\n",
       "  </thead>\n",
       "  <tbody>\n",
       "    <tr>\n",
       "      <td>port_2</td>\n",
       "      <td>13.40</td>\n",
       "      <td>8.30</td>\n",
       "      <td>1.61</td>\n",
       "      <td>5.04</td>\n",
       "      <td>6.03</td>\n",
       "      <td>0.84</td>\n",
       "    </tr>\n",
       "    <tr>\n",
       "      <td>port_1</td>\n",
       "      <td>10.84</td>\n",
       "      <td>9.88</td>\n",
       "      <td>1.10</td>\n",
       "      <td>2.47</td>\n",
       "      <td>4.34</td>\n",
       "      <td>0.57</td>\n",
       "    </tr>\n",
       "    <tr>\n",
       "      <td>port_0</td>\n",
       "      <td>10.31</td>\n",
       "      <td>9.92</td>\n",
       "      <td>1.04</td>\n",
       "      <td>1.94</td>\n",
       "      <td>4.28</td>\n",
       "      <td>0.45</td>\n",
       "    </tr>\n",
       "    <tr>\n",
       "      <td>bm</td>\n",
       "      <td>8.37</td>\n",
       "      <td>12.25</td>\n",
       "      <td>0.68</td>\n",
       "      <td>0.00</td>\n",
       "      <td>0.00</td>\n",
       "      <td>0.00</td>\n",
       "    </tr>\n",
       "  </tbody>\n",
       "</table>\n",
       "</div>"
      ],
      "text/plain": [
       "         cagr    std   rar  cagr_ex    te    ir\n",
       "port_2  13.40   8.30  1.61     5.04  6.03  0.84\n",
       "port_1  10.84   9.88  1.10     2.47  4.34  0.57\n",
       "port_0  10.31   9.92  1.04     1.94  4.28  0.45\n",
       "bm       8.37  12.25  0.68     0.00  0.00  0.00"
      ]
     },
     "execution_count": 1486,
     "metadata": {},
     "output_type": "execute_result"
    }
   ],
   "source": [
    "std = cum.pct_change().std()*(12**0.5) * 100\n",
    "cagr = (cum.iloc[-1]**(12/(len(cum)-1))-1) * 100\n",
    "rar = cagr/std\n",
    "stats = pd.DataFrame({'cagr':cagr, 'std':std, 'rar':rar})\n",
    "stats['cagr_ex'] = stats.cagr - stats.cagr['bm']\n",
    "stats['te'] = cum.pct_change().sub(cum.bm.pct_change(), axis=0).std()*(12**0.5) * 100\n",
    "stats['ir'] = (stats.cagr_ex/stats.te).fillna(0)\n",
    "stats.round(2)"
   ]
  },
  {
   "cell_type": "code",
   "execution_count": 1487,
   "metadata": {},
   "outputs": [
    {
     "data": {
      "text/plain": [
       "<matplotlib.axes._subplots.AxesSubplot at 0x1d8024c94e0>"
      ]
     },
     "execution_count": 1487,
     "metadata": {},
     "output_type": "execute_result"
    },
    {
     "data": {
      "image/png": "[encoded data removed]",
      "text/plain": [
       "<Figure size 432x288 with 1 Axes>"
      ]
     },
     "metadata": {
      "needs_background": "light"
     },
     "output_type": "display_data"
    }
   ],
   "source": [
    "df_w_append.TLT.plot()"
   ]
  },
  {
   "cell_type": "code",
   "execution_count": 1489,
   "metadata": {
    "scrolled": false
   },
   "outputs": [
    {
     "data": {
      "text/plain": [
       "ACWI    0.2304\n",
       "FVD     0.1657\n",
       "VIG     0.1478\n",
       "NOBL    0.0125\n",
       "DGRO    0.0119\n",
       "PGX     0.1000\n",
       "PID     0.0127\n",
       "DEM     0.0126\n",
       "DGS     0.1503\n",
       "IDV     0.1559\n",
       "Name: 2019-12-31 00:00:00, dtype: float64"
      ]
     },
     "execution_count": 1489,
     "metadata": {},
     "output_type": "execute_result"
    }
   ],
   "source": [
    "df_w_append.round(4).iloc[-1][df_w_append.iloc[-1]>0.00001]"
   ]
  },
  {
   "cell_type": "code",
   "execution_count": 1615,
   "metadata": {},
   "outputs": [
    {
     "data": {
      "text/plain": [
       "<matplotlib.axes._subplots.AxesSubplot at 0x16887bdfcf8>"
      ]
     },
     "execution_count": 1615,
     "metadata": {},
     "output_type": "execute_result"
    },
    {
     "data": {
      "image/png": "[encoded data removed]",
      "text/plain": [
       "<Figure size 360x288 with 1 Axes>"
      ]
     },
     "metadata": {
      "needs_background": "light"
     },
     "output_type": "display_data"
    }
   ],
   "source": [
    "df_result.dvd.plot(color='orange', figsize=(5,4), ylim=(0,5))"
   ]
  },
  {
   "cell_type": "code",
   "execution_count": 1616,
   "metadata": {},
   "outputs": [
    {
     "data": {
      "text/plain": [
       "<matplotlib.axes._subplots.AxesSubplot at 0x16887caacf8>"
      ]
     },
     "execution_count": 1616,
     "metadata": {},
     "output_type": "execute_result"
    },
    {
     "data": {
      "image/png": "[encoded data removed]",
      "text/plain": [
       "<Figure size 432x288 with 1 Axes>"
      ]
     },
     "metadata": {
      "needs_background": "light"
     },
     "output_type": "display_data"
    }
   ],
   "source": [
    "df_result.te.plot()"
   ]
  },
  {
   "cell_type": "code",
   "execution_count": 1618,
   "metadata": {},
   "outputs": [],
   "source": [
    "perf = np.exp(pd.DataFrame({'HGDM':cum_port2, 'ACWI':cum_bm}))"
   ]
  },
  {
   "cell_type": "code",
   "execution_count": 1619,
   "metadata": {},
   "outputs": [
    {
     "data": {
      "text/plain": [
       "<matplotlib.legend.Legend at 0x16887d3cb00>"
      ]
     },
     "execution_count": 1619,
     "metadata": {},
     "output_type": "execute_result"
    },
    {
     "data": {
      "image/png": "[encoded data removed]",
      "text/plain": [
       "<Figure size 720x288 with 1 Axes>"
      ]
     },
     "metadata": {
      "needs_background": "light"
     },
     "output_type": "display_data"
    }
   ],
   "source": [
    "ax = perf.plot(figsize=(10,4), color=['orange','gray'])\n",
    "ax.legend(fontsize=13)"
   ]
  },
  {
   "cell_type": "code",
   "execution_count": 1620,
   "metadata": {},
   "outputs": [],
   "source": [
    "ytd = perf.iloc[-1]/perf.loc['2018-12-31']-1\n",
    "r3m = perf.iloc[-1]/perf.iloc[-4]-1\n",
    "r1y = perf.iloc[-1]/perf.iloc[-13]-1\n",
    "r3y = perf.iloc[-1]/perf.iloc[-37]-1"
   ]
  },
  {
   "cell_type": "code",
   "execution_count": 1621,
   "metadata": {},
   "outputs": [
    {
     "data": {
      "text/html": [
       "<div>\n",
       "<style scoped>\n",
       "    .dataframe tbody tr th:only-of-type {\n",
       "        vertical-align: middle;\n",
       "    }\n",
       "\n",
       "    .dataframe tbody tr th {\n",
       "        vertical-align: top;\n",
       "    }\n",
       "\n",
       "    .dataframe thead th {\n",
       "        text-align: right;\n",
       "    }\n",
       "</style>\n",
       "<table border=\"1\" class=\"dataframe\">\n",
       "  <thead>\n",
       "    <tr style=\"text-align: right;\">\n",
       "      <th></th>\n",
       "      <th>ytd</th>\n",
       "      <th>1y</th>\n",
       "      <th>3y</th>\n",
       "    </tr>\n",
       "  </thead>\n",
       "  <tbody>\n",
       "    <tr>\n",
       "      <td>HGDM</td>\n",
       "      <td>0.270204</td>\n",
       "      <td>0.270204</td>\n",
       "      <td>0.476477</td>\n",
       "    </tr>\n",
       "    <tr>\n",
       "      <td>ACWI</td>\n",
       "      <td>0.265974</td>\n",
       "      <td>0.265974</td>\n",
       "      <td>0.421700</td>\n",
       "    </tr>\n",
       "  </tbody>\n",
       "</table>\n",
       "</div>"
      ],
      "text/plain": [
       "           ytd        1y        3y\n",
       "HGDM  0.270204  0.270204  0.476477\n",
       "ACWI  0.265974  0.265974  0.421700"
      ]
     },
     "execution_count": 1621,
     "metadata": {},
     "output_type": "execute_result"
    }
   ],
   "source": [
    "pd.DataFrame({'ytd':ytd, '1y':r1y, '3y':r3y})"
   ]
  },
  {
   "cell_type": "code",
   "execution_count": null,
   "metadata": {},
   "outputs": [],
   "source": []
  },
  {
   "cell_type": "code",
   "execution_count": null,
   "metadata": {},
   "outputs": [],
   "source": []
  },
  {
   "cell_type": "code",
   "execution_count": null,
   "metadata": {},
   "outputs": [],
   "source": []
  }
 ],
 "metadata": {
  "kernelspec": {
   "display_name": "Python 3",
   "language": "python",
   "name": "python3"
  },
  "language_info": {
   "codemirror_mode": {
    "name": "ipython",
    "version": 3
   },
   "file_extension": ".py",
   "mimetype": "text/x-python",
   "name": "python",
   "nbconvert_exporter": "python",
   "pygments_lexer": "ipython3",
   "version": "3.7.3"
  }
 },
 "nbformat": 4,
 "nbformat_minor": 2
}
